{
 "cells": [
  {
   "cell_type": "code",
   "execution_count": 1,
   "metadata": {},
   "outputs": [
    {
     "name": "stdout",
     "output_type": "stream",
     "text": [
      "★★★★★\n",
      "★★★★\n",
      "★★★\n",
      "★★\n",
      "★\n"
     ]
    }
   ],
   "source": [
    "# 별 출력하기\n",
    "def printstar(n):\n",
    "    if n > 0:\n",
    "        print(\"★\"*n)\n",
    "        printstar(n-1)\n",
    "\n",
    "printstar(5)"
   ]
  },
  {
   "cell_type": "code",
   "execution_count": 2,
   "metadata": {},
   "outputs": [
    {
     "name": "stdout",
     "output_type": "stream",
     "text": [
      "\n",
      " 2진수 : 11000\n",
      " 8진수 : 30\n",
      " 16진수 : 18"
     ]
    }
   ],
   "source": [
    "# 진수 변환하기 (재귀)\n",
    "def notation(base, n):\n",
    "    if n < 0:\n",
    "        raise ValueError('Number n must n >= 0')\n",
    "    if n < base:\n",
    "        print(numberChar[n], end = '') # end = 나머지값\n",
    "    else:\n",
    "        notation(base, n//base)\n",
    "        print(numberChar[n%base], end ='')\n",
    "    \n",
    "numberChar = ['0','1','2','3','4','5','6','7','8','9','A','B','C','D','E']\n",
    "number = int(input('10진수 입력 --> '))\n",
    "print('\\n 2진수 : ', end = '')\n",
    "notation(2, number)\n",
    "print('\\n 8진수 : ', end = '')\n",
    "notation(8, number)\n",
    "print('\\n 16진수 : ', end = '')\n",
    "notation(16, number)"
   ]
  },
  {
   "cell_type": "code",
   "execution_count": null,
   "metadata": {},
   "outputs": [],
   "source": []
  }
 ],
 "metadata": {
  "kernelspec": {
   "display_name": "vsjupy",
   "language": "python",
   "name": "vsjupy"
  },
  "language_info": {
   "codemirror_mode": {
    "name": "ipython",
    "version": 3
   },
   "file_extension": ".py",
   "mimetype": "text/x-python",
   "name": "python",
   "nbconvert_exporter": "python",
   "pygments_lexer": "ipython3",
   "version": "3.9.18"
  }
 },
 "nbformat": 4,
 "nbformat_minor": 2
}
