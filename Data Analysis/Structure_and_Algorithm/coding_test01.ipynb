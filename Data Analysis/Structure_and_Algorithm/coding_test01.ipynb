{
 "cells": [
  {
   "cell_type": "code",
   "execution_count": 5,
   "metadata": {},
   "outputs": [
    {
     "name": "stdout",
     "output_type": "stream",
     "text": [
      "15 6 1 "
     ]
    }
   ],
   "source": [
    "n = int(input())\n",
    "list_n = []\n",
    "for i in range(n):\n",
    "    list_n.append(int(input()))\n",
    "list_n.sort(reverse=True)\n",
    "for lst in list_n:\n",
    "    print(lst, end= ' ')\n",
    "    "
   ]
  }
 ],
 "metadata": {
  "kernelspec": {
   "display_name": "vsjupy",
   "language": "python",
   "name": "vsjupy"
  },
  "language_info": {
   "codemirror_mode": {
    "name": "ipython",
    "version": 3
   },
   "file_extension": ".py",
   "mimetype": "text/x-python",
   "name": "python",
   "nbconvert_exporter": "python",
   "pygments_lexer": "ipython3",
   "version": "3.9.18"
  }
 },
 "nbformat": 4,
 "nbformat_minor": 2
}
