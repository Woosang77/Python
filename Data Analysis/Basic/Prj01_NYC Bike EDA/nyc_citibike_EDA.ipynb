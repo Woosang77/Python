{
 "cells": [
  {
   "cell_type": "code",
   "execution_count": 1,
   "metadata": {},
   "outputs": [],
   "source": [
    "import pandas as pd\n",
    "import numpy as np\n",
    "import matplotlib.pyplot as plt\n",
    "import seaborn as sns"
   ]
  },
  {
   "cell_type": "code",
   "execution_count": 2,
   "metadata": {},
   "outputs": [],
   "source": [
    "data = pd.read_csv('nyc_citibike.csv')"
   ]
  },
  {
   "cell_type": "code",
   "execution_count": 3,
   "metadata": {},
   "outputs": [
    {
     "data": {
      "text/html": [
       "<div>\n",
       "<style scoped>\n",
       "    .dataframe tbody tr th:only-of-type {\n",
       "        vertical-align: middle;\n",
       "    }\n",
       "\n",
       "    .dataframe tbody tr th {\n",
       "        vertical-align: top;\n",
       "    }\n",
       "\n",
       "    .dataframe thead th {\n",
       "        text-align: right;\n",
       "    }\n",
       "</style>\n",
       "<table border=\"1\" class=\"dataframe\">\n",
       "  <thead>\n",
       "    <tr style=\"text-align: right;\">\n",
       "      <th></th>\n",
       "      <th>start_date</th>\n",
       "      <th>end_date</th>\n",
       "      <th>start_hour</th>\n",
       "      <th>end_hour</th>\n",
       "      <th>trip_duration</th>\n",
       "      <th>start_station_id</th>\n",
       "      <th>start_station_name</th>\n",
       "      <th>start_station_latitude</th>\n",
       "      <th>start_station_longitude</th>\n",
       "      <th>end_station_id</th>\n",
       "      <th>end_station_name</th>\n",
       "      <th>end_station_latitude</th>\n",
       "      <th>end_station_longitude</th>\n",
       "      <th>bike_id</th>\n",
       "      <th>usertype</th>\n",
       "      <th>birth_year</th>\n",
       "      <th>gender</th>\n",
       "      <th>day_since_register</th>\n",
       "    </tr>\n",
       "  </thead>\n",
       "  <tbody>\n",
       "    <tr>\n",
       "      <th>0</th>\n",
       "      <td>2018-05-01</td>\n",
       "      <td>2018-05-01</td>\n",
       "      <td>4</td>\n",
       "      <td>4</td>\n",
       "      <td>390</td>\n",
       "      <td>3002</td>\n",
       "      <td>South End Ave &amp; Liberty St</td>\n",
       "      <td>40.711512</td>\n",
       "      <td>-74.015756</td>\n",
       "      <td>79</td>\n",
       "      <td>Franklin St &amp; W Broadway</td>\n",
       "      <td>40.719116</td>\n",
       "      <td>-74.006667</td>\n",
       "      <td>21105</td>\n",
       "      <td>Subscriber</td>\n",
       "      <td>1945</td>\n",
       "      <td>male</td>\n",
       "      <td>36</td>\n",
       "    </tr>\n",
       "    <tr>\n",
       "      <th>1</th>\n",
       "      <td>2018-05-01</td>\n",
       "      <td>2018-05-01</td>\n",
       "      <td>1</td>\n",
       "      <td>1</td>\n",
       "      <td>854</td>\n",
       "      <td>3611</td>\n",
       "      <td>Vernon Blvd &amp; 47 Rd</td>\n",
       "      <td>40.744907</td>\n",
       "      <td>-73.953457</td>\n",
       "      <td>3572</td>\n",
       "      <td>34 Ave &amp; 38 St</td>\n",
       "      <td>40.756913</td>\n",
       "      <td>-73.921631</td>\n",
       "      <td>32219</td>\n",
       "      <td>Subscriber</td>\n",
       "      <td>1998</td>\n",
       "      <td>male</td>\n",
       "      <td>29</td>\n",
       "    </tr>\n",
       "    <tr>\n",
       "      <th>2</th>\n",
       "      <td>2018-05-01</td>\n",
       "      <td>2018-05-01</td>\n",
       "      <td>4</td>\n",
       "      <td>4</td>\n",
       "      <td>526</td>\n",
       "      <td>515</td>\n",
       "      <td>W 43 St &amp; 10 Ave</td>\n",
       "      <td>40.760094</td>\n",
       "      <td>-73.994618</td>\n",
       "      <td>388</td>\n",
       "      <td>W 26 St &amp; 10 Ave</td>\n",
       "      <td>40.749718</td>\n",
       "      <td>-74.002950</td>\n",
       "      <td>33433</td>\n",
       "      <td>Subscriber</td>\n",
       "      <td>1954</td>\n",
       "      <td>male</td>\n",
       "      <td>55</td>\n",
       "    </tr>\n",
       "    <tr>\n",
       "      <th>3</th>\n",
       "      <td>2018-05-01</td>\n",
       "      <td>2018-05-01</td>\n",
       "      <td>3</td>\n",
       "      <td>3</td>\n",
       "      <td>885</td>\n",
       "      <td>3641</td>\n",
       "      <td>Broadway &amp; W 25 St</td>\n",
       "      <td>40.742869</td>\n",
       "      <td>-73.989186</td>\n",
       "      <td>336</td>\n",
       "      <td>Sullivan St &amp; Washington Sq</td>\n",
       "      <td>40.730477</td>\n",
       "      <td>-73.999061</td>\n",
       "      <td>32028</td>\n",
       "      <td>Subscriber</td>\n",
       "      <td>1963</td>\n",
       "      <td>male</td>\n",
       "      <td>32</td>\n",
       "    </tr>\n",
       "    <tr>\n",
       "      <th>4</th>\n",
       "      <td>2018-05-01</td>\n",
       "      <td>2018-05-01</td>\n",
       "      <td>1</td>\n",
       "      <td>1</td>\n",
       "      <td>324</td>\n",
       "      <td>3440</td>\n",
       "      <td>Fulton St &amp; Adams St</td>\n",
       "      <td>40.692418</td>\n",
       "      <td>-73.989495</td>\n",
       "      <td>3308</td>\n",
       "      <td>Kane St &amp; Clinton St</td>\n",
       "      <td>40.686176</td>\n",
       "      <td>-73.996453</td>\n",
       "      <td>26425</td>\n",
       "      <td>Subscriber</td>\n",
       "      <td>1965</td>\n",
       "      <td>male</td>\n",
       "      <td>34</td>\n",
       "    </tr>\n",
       "  </tbody>\n",
       "</table>\n",
       "</div>"
      ],
      "text/plain": [
       "   start_date    end_date  start_hour  end_hour  trip_duration  \\\n",
       "0  2018-05-01  2018-05-01           4         4            390   \n",
       "1  2018-05-01  2018-05-01           1         1            854   \n",
       "2  2018-05-01  2018-05-01           4         4            526   \n",
       "3  2018-05-01  2018-05-01           3         3            885   \n",
       "4  2018-05-01  2018-05-01           1         1            324   \n",
       "\n",
       "   start_station_id          start_station_name  start_station_latitude  \\\n",
       "0              3002  South End Ave & Liberty St               40.711512   \n",
       "1              3611         Vernon Blvd & 47 Rd               40.744907   \n",
       "2               515            W 43 St & 10 Ave               40.760094   \n",
       "3              3641          Broadway & W 25 St               40.742869   \n",
       "4              3440        Fulton St & Adams St               40.692418   \n",
       "\n",
       "   start_station_longitude  end_station_id             end_station_name  \\\n",
       "0               -74.015756              79     Franklin St & W Broadway   \n",
       "1               -73.953457            3572               34 Ave & 38 St   \n",
       "2               -73.994618             388             W 26 St & 10 Ave   \n",
       "3               -73.989186             336  Sullivan St & Washington Sq   \n",
       "4               -73.989495            3308         Kane St & Clinton St   \n",
       "\n",
       "   end_station_latitude  end_station_longitude  bike_id    usertype  \\\n",
       "0             40.719116             -74.006667    21105  Subscriber   \n",
       "1             40.756913             -73.921631    32219  Subscriber   \n",
       "2             40.749718             -74.002950    33433  Subscriber   \n",
       "3             40.730477             -73.999061    32028  Subscriber   \n",
       "4             40.686176             -73.996453    26425  Subscriber   \n",
       "\n",
       "   birth_year gender  day_since_register  \n",
       "0        1945   male                  36  \n",
       "1        1998   male                  29  \n",
       "2        1954   male                  55  \n",
       "3        1963   male                  32  \n",
       "4        1965   male                  34  "
      ]
     },
     "execution_count": 3,
     "metadata": {},
     "output_type": "execute_result"
    }
   ],
   "source": [
    "data.head()"
   ]
  },
  {
   "cell_type": "code",
   "execution_count": 4,
   "metadata": {},
   "outputs": [
    {
     "name": "stdout",
     "output_type": "stream",
     "text": [
      "<class 'pandas.core.frame.DataFrame'>\n",
      "RangeIndex: 72035 entries, 0 to 72034\n",
      "Data columns (total 18 columns):\n",
      " #   Column                   Non-Null Count  Dtype  \n",
      "---  ------                   --------------  -----  \n",
      " 0   start_date               72035 non-null  object \n",
      " 1   end_date                 72035 non-null  object \n",
      " 2   start_hour               72035 non-null  int64  \n",
      " 3   end_hour                 72035 non-null  int64  \n",
      " 4   trip_duration            72035 non-null  int64  \n",
      " 5   start_station_id         72035 non-null  int64  \n",
      " 6   start_station_name       72035 non-null  object \n",
      " 7   start_station_latitude   72035 non-null  float64\n",
      " 8   start_station_longitude  72035 non-null  float64\n",
      " 9   end_station_id           72035 non-null  int64  \n",
      " 10  end_station_name         72035 non-null  object \n",
      " 11  end_station_latitude     72035 non-null  float64\n",
      " 12  end_station_longitude    72035 non-null  float64\n",
      " 13  bike_id                  72035 non-null  int64  \n",
      " 14  usertype                 72035 non-null  object \n",
      " 15  birth_year               72035 non-null  int64  \n",
      " 16  gender                   72035 non-null  object \n",
      " 17  day_since_register       72035 non-null  int64  \n",
      "dtypes: float64(4), int64(8), object(6)\n",
      "memory usage: 9.9+ MB\n"
     ]
    }
   ],
   "source": [
    "data.info()"
   ]
  },
  {
   "cell_type": "code",
   "execution_count": 5,
   "metadata": {},
   "outputs": [
    {
     "data": {
      "text/plain": [
       "start_date                 0\n",
       "end_date                   0\n",
       "start_hour                 0\n",
       "end_hour                   0\n",
       "trip_duration              0\n",
       "start_station_id           0\n",
       "start_station_name         0\n",
       "start_station_latitude     0\n",
       "start_station_longitude    0\n",
       "end_station_id             0\n",
       "end_station_name           0\n",
       "end_station_latitude       0\n",
       "end_station_longitude      0\n",
       "bike_id                    0\n",
       "usertype                   0\n",
       "birth_year                 0\n",
       "gender                     0\n",
       "day_since_register         0\n",
       "dtype: int64"
      ]
     },
     "execution_count": 5,
     "metadata": {},
     "output_type": "execute_result"
    }
   ],
   "source": [
    "# 결측치 확인\n",
    "data.isnull().sum()"
   ]
  },
  {
   "cell_type": "code",
   "execution_count": 6,
   "metadata": {},
   "outputs": [
    {
     "data": {
      "text/html": [
       "<div>\n",
       "<style scoped>\n",
       "    .dataframe tbody tr th:only-of-type {\n",
       "        vertical-align: middle;\n",
       "    }\n",
       "\n",
       "    .dataframe tbody tr th {\n",
       "        vertical-align: top;\n",
       "    }\n",
       "\n",
       "    .dataframe thead th {\n",
       "        text-align: right;\n",
       "    }\n",
       "</style>\n",
       "<table border=\"1\" class=\"dataframe\">\n",
       "  <thead>\n",
       "    <tr style=\"text-align: right;\">\n",
       "      <th></th>\n",
       "      <th>start_hour</th>\n",
       "      <th>end_hour</th>\n",
       "      <th>trip_duration</th>\n",
       "      <th>start_station_id</th>\n",
       "      <th>start_station_latitude</th>\n",
       "      <th>start_station_longitude</th>\n",
       "      <th>end_station_id</th>\n",
       "      <th>end_station_latitude</th>\n",
       "      <th>end_station_longitude</th>\n",
       "      <th>bike_id</th>\n",
       "      <th>birth_year</th>\n",
       "      <th>day_since_register</th>\n",
       "    </tr>\n",
       "  </thead>\n",
       "  <tbody>\n",
       "    <tr>\n",
       "      <th>count</th>\n",
       "      <td>72035.000000</td>\n",
       "      <td>72035.000000</td>\n",
       "      <td>7.203500e+04</td>\n",
       "      <td>72035.000000</td>\n",
       "      <td>72035.000000</td>\n",
       "      <td>72035.000000</td>\n",
       "      <td>72035.000000</td>\n",
       "      <td>72035.000000</td>\n",
       "      <td>72035.000000</td>\n",
       "      <td>72035.000000</td>\n",
       "      <td>72035.000000</td>\n",
       "      <td>72035.000000</td>\n",
       "    </tr>\n",
       "    <tr>\n",
       "      <th>mean</th>\n",
       "      <td>14.176775</td>\n",
       "      <td>14.372916</td>\n",
       "      <td>1.046751e+03</td>\n",
       "      <td>1535.681488</td>\n",
       "      <td>40.738587</td>\n",
       "      <td>-73.983531</td>\n",
       "      <td>1537.181287</td>\n",
       "      <td>40.738292</td>\n",
       "      <td>-73.983435</td>\n",
       "      <td>26139.737683</td>\n",
       "      <td>1977.994947</td>\n",
       "      <td>30.468522</td>\n",
       "    </tr>\n",
       "    <tr>\n",
       "      <th>std</th>\n",
       "      <td>4.809857</td>\n",
       "      <td>4.854897</td>\n",
       "      <td>8.139700e+03</td>\n",
       "      <td>1418.093403</td>\n",
       "      <td>0.029777</td>\n",
       "      <td>0.018456</td>\n",
       "      <td>1420.198780</td>\n",
       "      <td>0.029736</td>\n",
       "      <td>0.018639</td>\n",
       "      <td>5793.540983</td>\n",
       "      <td>11.868175</td>\n",
       "      <td>17.341855</td>\n",
       "    </tr>\n",
       "    <tr>\n",
       "      <th>min</th>\n",
       "      <td>0.000000</td>\n",
       "      <td>0.000000</td>\n",
       "      <td>6.100000e+01</td>\n",
       "      <td>72.000000</td>\n",
       "      <td>40.646538</td>\n",
       "      <td>-74.025353</td>\n",
       "      <td>72.000000</td>\n",
       "      <td>40.646538</td>\n",
       "      <td>-74.044247</td>\n",
       "      <td>14529.000000</td>\n",
       "      <td>1885.000000</td>\n",
       "      <td>1.000000</td>\n",
       "    </tr>\n",
       "    <tr>\n",
       "      <th>25%</th>\n",
       "      <td>10.000000</td>\n",
       "      <td>10.000000</td>\n",
       "      <td>3.980000e+02</td>\n",
       "      <td>382.000000</td>\n",
       "      <td>40.718939</td>\n",
       "      <td>-73.995481</td>\n",
       "      <td>382.000000</td>\n",
       "      <td>40.718939</td>\n",
       "      <td>-73.995299</td>\n",
       "      <td>20533.000000</td>\n",
       "      <td>1969.000000</td>\n",
       "      <td>15.000000</td>\n",
       "    </tr>\n",
       "    <tr>\n",
       "      <th>50%</th>\n",
       "      <td>15.000000</td>\n",
       "      <td>15.000000</td>\n",
       "      <td>6.810000e+02</td>\n",
       "      <td>504.000000</td>\n",
       "      <td>40.740343</td>\n",
       "      <td>-73.986580</td>\n",
       "      <td>503.000000</td>\n",
       "      <td>40.739974</td>\n",
       "      <td>-73.986580</td>\n",
       "      <td>27840.000000</td>\n",
       "      <td>1980.000000</td>\n",
       "      <td>30.000000</td>\n",
       "    </tr>\n",
       "    <tr>\n",
       "      <th>75%</th>\n",
       "      <td>18.000000</td>\n",
       "      <td>18.000000</td>\n",
       "      <td>1.201000e+03</td>\n",
       "      <td>3223.000000</td>\n",
       "      <td>40.758997</td>\n",
       "      <td>-73.973747</td>\n",
       "      <td>3224.000000</td>\n",
       "      <td>40.758924</td>\n",
       "      <td>-73.973747</td>\n",
       "      <td>30995.000000</td>\n",
       "      <td>1988.000000</td>\n",
       "      <td>46.000000</td>\n",
       "    </tr>\n",
       "    <tr>\n",
       "      <th>max</th>\n",
       "      <td>23.000000</td>\n",
       "      <td>23.000000</td>\n",
       "      <td>1.344462e+06</td>\n",
       "      <td>3680.000000</td>\n",
       "      <td>40.814394</td>\n",
       "      <td>-73.907744</td>\n",
       "      <td>3680.000000</td>\n",
       "      <td>40.814394</td>\n",
       "      <td>-73.907744</td>\n",
       "      <td>33671.000000</td>\n",
       "      <td>2002.000000</td>\n",
       "      <td>60.000000</td>\n",
       "    </tr>\n",
       "  </tbody>\n",
       "</table>\n",
       "</div>"
      ],
      "text/plain": [
       "         start_hour      end_hour  trip_duration  start_station_id  \\\n",
       "count  72035.000000  72035.000000   7.203500e+04      72035.000000   \n",
       "mean      14.176775     14.372916   1.046751e+03       1535.681488   \n",
       "std        4.809857      4.854897   8.139700e+03       1418.093403   \n",
       "min        0.000000      0.000000   6.100000e+01         72.000000   \n",
       "25%       10.000000     10.000000   3.980000e+02        382.000000   \n",
       "50%       15.000000     15.000000   6.810000e+02        504.000000   \n",
       "75%       18.000000     18.000000   1.201000e+03       3223.000000   \n",
       "max       23.000000     23.000000   1.344462e+06       3680.000000   \n",
       "\n",
       "       start_station_latitude  start_station_longitude  end_station_id  \\\n",
       "count            72035.000000             72035.000000    72035.000000   \n",
       "mean                40.738587               -73.983531     1537.181287   \n",
       "std                  0.029777                 0.018456     1420.198780   \n",
       "min                 40.646538               -74.025353       72.000000   \n",
       "25%                 40.718939               -73.995481      382.000000   \n",
       "50%                 40.740343               -73.986580      503.000000   \n",
       "75%                 40.758997               -73.973747     3224.000000   \n",
       "max                 40.814394               -73.907744     3680.000000   \n",
       "\n",
       "       end_station_latitude  end_station_longitude       bike_id  \\\n",
       "count          72035.000000           72035.000000  72035.000000   \n",
       "mean              40.738292             -73.983435  26139.737683   \n",
       "std                0.029736               0.018639   5793.540983   \n",
       "min               40.646538             -74.044247  14529.000000   \n",
       "25%               40.718939             -73.995299  20533.000000   \n",
       "50%               40.739974             -73.986580  27840.000000   \n",
       "75%               40.758924             -73.973747  30995.000000   \n",
       "max               40.814394             -73.907744  33671.000000   \n",
       "\n",
       "         birth_year  day_since_register  \n",
       "count  72035.000000        72035.000000  \n",
       "mean    1977.994947           30.468522  \n",
       "std       11.868175           17.341855  \n",
       "min     1885.000000            1.000000  \n",
       "25%     1969.000000           15.000000  \n",
       "50%     1980.000000           30.000000  \n",
       "75%     1988.000000           46.000000  \n",
       "max     2002.000000           60.000000  "
      ]
     },
     "execution_count": 6,
     "metadata": {},
     "output_type": "execute_result"
    }
   ],
   "source": [
    "data.describe()"
   ]
  },
  {
   "cell_type": "code",
   "execution_count": 7,
   "metadata": {},
   "outputs": [
    {
     "data": {
      "text/html": [
       "<div>\n",
       "<style scoped>\n",
       "    .dataframe tbody tr th:only-of-type {\n",
       "        vertical-align: middle;\n",
       "    }\n",
       "\n",
       "    .dataframe tbody tr th {\n",
       "        vertical-align: top;\n",
       "    }\n",
       "\n",
       "    .dataframe thead th {\n",
       "        text-align: right;\n",
       "    }\n",
       "</style>\n",
       "<table border=\"1\" class=\"dataframe\">\n",
       "  <thead>\n",
       "    <tr style=\"text-align: right;\">\n",
       "      <th></th>\n",
       "      <th>start_hour</th>\n",
       "      <th>end_hour</th>\n",
       "      <th>trip_duration</th>\n",
       "    </tr>\n",
       "  </thead>\n",
       "  <tbody>\n",
       "    <tr>\n",
       "      <th>0</th>\n",
       "      <td>4</td>\n",
       "      <td>4</td>\n",
       "      <td>390</td>\n",
       "    </tr>\n",
       "    <tr>\n",
       "      <th>1</th>\n",
       "      <td>1</td>\n",
       "      <td>1</td>\n",
       "      <td>854</td>\n",
       "    </tr>\n",
       "    <tr>\n",
       "      <th>2</th>\n",
       "      <td>4</td>\n",
       "      <td>4</td>\n",
       "      <td>526</td>\n",
       "    </tr>\n",
       "    <tr>\n",
       "      <th>3</th>\n",
       "      <td>3</td>\n",
       "      <td>3</td>\n",
       "      <td>885</td>\n",
       "    </tr>\n",
       "    <tr>\n",
       "      <th>4</th>\n",
       "      <td>1</td>\n",
       "      <td>1</td>\n",
       "      <td>324</td>\n",
       "    </tr>\n",
       "    <tr>\n",
       "      <th>...</th>\n",
       "      <td>...</td>\n",
       "      <td>...</td>\n",
       "      <td>...</td>\n",
       "    </tr>\n",
       "    <tr>\n",
       "      <th>72030</th>\n",
       "      <td>23</td>\n",
       "      <td>23</td>\n",
       "      <td>207</td>\n",
       "    </tr>\n",
       "    <tr>\n",
       "      <th>72031</th>\n",
       "      <td>23</td>\n",
       "      <td>23</td>\n",
       "      <td>356</td>\n",
       "    </tr>\n",
       "    <tr>\n",
       "      <th>72032</th>\n",
       "      <td>22</td>\n",
       "      <td>23</td>\n",
       "      <td>516</td>\n",
       "    </tr>\n",
       "    <tr>\n",
       "      <th>72033</th>\n",
       "      <td>22</td>\n",
       "      <td>23</td>\n",
       "      <td>427</td>\n",
       "    </tr>\n",
       "    <tr>\n",
       "      <th>72034</th>\n",
       "      <td>23</td>\n",
       "      <td>23</td>\n",
       "      <td>417</td>\n",
       "    </tr>\n",
       "  </tbody>\n",
       "</table>\n",
       "<p>72035 rows × 3 columns</p>\n",
       "</div>"
      ],
      "text/plain": [
       "       start_hour  end_hour  trip_duration\n",
       "0               4         4            390\n",
       "1               1         1            854\n",
       "2               4         4            526\n",
       "3               3         3            885\n",
       "4               1         1            324\n",
       "...           ...       ...            ...\n",
       "72030          23        23            207\n",
       "72031          23        23            356\n",
       "72032          22        23            516\n",
       "72033          22        23            427\n",
       "72034          23        23            417\n",
       "\n",
       "[72035 rows x 3 columns]"
      ]
     },
     "execution_count": 7,
     "metadata": {},
     "output_type": "execute_result"
    }
   ],
   "source": [
    "data[['start_hour','end_hour','trip_duration']]"
   ]
  },
  {
   "cell_type": "code",
   "execution_count": 8,
   "metadata": {},
   "outputs": [
    {
     "data": {
      "text/html": [
       "<div>\n",
       "<style scoped>\n",
       "    .dataframe tbody tr th:only-of-type {\n",
       "        vertical-align: middle;\n",
       "    }\n",
       "\n",
       "    .dataframe tbody tr th {\n",
       "        vertical-align: top;\n",
       "    }\n",
       "\n",
       "    .dataframe thead th {\n",
       "        text-align: right;\n",
       "    }\n",
       "</style>\n",
       "<table border=\"1\" class=\"dataframe\">\n",
       "  <thead>\n",
       "    <tr style=\"text-align: right;\">\n",
       "      <th></th>\n",
       "      <th>start_date</th>\n",
       "      <th>end_date</th>\n",
       "      <th>start_hour</th>\n",
       "      <th>end_hour</th>\n",
       "      <th>trip_duration</th>\n",
       "      <th>start_station_id</th>\n",
       "      <th>start_station_name</th>\n",
       "      <th>start_station_latitude</th>\n",
       "      <th>start_station_longitude</th>\n",
       "      <th>end_station_id</th>\n",
       "      <th>end_station_name</th>\n",
       "      <th>end_station_latitude</th>\n",
       "      <th>end_station_longitude</th>\n",
       "      <th>bike_id</th>\n",
       "      <th>usertype</th>\n",
       "      <th>birth_year</th>\n",
       "      <th>gender</th>\n",
       "      <th>day_since_register</th>\n",
       "    </tr>\n",
       "  </thead>\n",
       "  <tbody>\n",
       "    <tr>\n",
       "      <th>0</th>\n",
       "      <td>2018-05-01</td>\n",
       "      <td>2018-05-01</td>\n",
       "      <td>4</td>\n",
       "      <td>4</td>\n",
       "      <td>390</td>\n",
       "      <td>3002</td>\n",
       "      <td>South End Ave &amp; Liberty St</td>\n",
       "      <td>40.711512</td>\n",
       "      <td>-74.015756</td>\n",
       "      <td>79</td>\n",
       "      <td>Franklin St &amp; W Broadway</td>\n",
       "      <td>40.719116</td>\n",
       "      <td>-74.006667</td>\n",
       "      <td>21105</td>\n",
       "      <td>Subscriber</td>\n",
       "      <td>1945</td>\n",
       "      <td>male</td>\n",
       "      <td>36</td>\n",
       "    </tr>\n",
       "    <tr>\n",
       "      <th>1</th>\n",
       "      <td>2018-05-01</td>\n",
       "      <td>2018-05-01</td>\n",
       "      <td>1</td>\n",
       "      <td>1</td>\n",
       "      <td>854</td>\n",
       "      <td>3611</td>\n",
       "      <td>Vernon Blvd &amp; 47 Rd</td>\n",
       "      <td>40.744907</td>\n",
       "      <td>-73.953457</td>\n",
       "      <td>3572</td>\n",
       "      <td>34 Ave &amp; 38 St</td>\n",
       "      <td>40.756913</td>\n",
       "      <td>-73.921631</td>\n",
       "      <td>32219</td>\n",
       "      <td>Subscriber</td>\n",
       "      <td>1998</td>\n",
       "      <td>male</td>\n",
       "      <td>29</td>\n",
       "    </tr>\n",
       "    <tr>\n",
       "      <th>2</th>\n",
       "      <td>2018-05-01</td>\n",
       "      <td>2018-05-01</td>\n",
       "      <td>4</td>\n",
       "      <td>4</td>\n",
       "      <td>526</td>\n",
       "      <td>515</td>\n",
       "      <td>W 43 St &amp; 10 Ave</td>\n",
       "      <td>40.760094</td>\n",
       "      <td>-73.994618</td>\n",
       "      <td>388</td>\n",
       "      <td>W 26 St &amp; 10 Ave</td>\n",
       "      <td>40.749718</td>\n",
       "      <td>-74.002950</td>\n",
       "      <td>33433</td>\n",
       "      <td>Subscriber</td>\n",
       "      <td>1954</td>\n",
       "      <td>male</td>\n",
       "      <td>55</td>\n",
       "    </tr>\n",
       "  </tbody>\n",
       "</table>\n",
       "</div>"
      ],
      "text/plain": [
       "   start_date    end_date  start_hour  end_hour  trip_duration  \\\n",
       "0  2018-05-01  2018-05-01           4         4            390   \n",
       "1  2018-05-01  2018-05-01           1         1            854   \n",
       "2  2018-05-01  2018-05-01           4         4            526   \n",
       "\n",
       "   start_station_id          start_station_name  start_station_latitude  \\\n",
       "0              3002  South End Ave & Liberty St               40.711512   \n",
       "1              3611         Vernon Blvd & 47 Rd               40.744907   \n",
       "2               515            W 43 St & 10 Ave               40.760094   \n",
       "\n",
       "   start_station_longitude  end_station_id          end_station_name  \\\n",
       "0               -74.015756              79  Franklin St & W Broadway   \n",
       "1               -73.953457            3572            34 Ave & 38 St   \n",
       "2               -73.994618             388          W 26 St & 10 Ave   \n",
       "\n",
       "   end_station_latitude  end_station_longitude  bike_id    usertype  \\\n",
       "0             40.719116             -74.006667    21105  Subscriber   \n",
       "1             40.756913             -73.921631    32219  Subscriber   \n",
       "2             40.749718             -74.002950    33433  Subscriber   \n",
       "\n",
       "   birth_year gender  day_since_register  \n",
       "0        1945   male                  36  \n",
       "1        1998   male                  29  \n",
       "2        1954   male                  55  "
      ]
     },
     "execution_count": 8,
     "metadata": {},
     "output_type": "execute_result"
    }
   ],
   "source": [
    "data.head(3)"
   ]
  },
  {
   "cell_type": "code",
   "execution_count": 9,
   "metadata": {},
   "outputs": [
    {
     "data": {
      "text/plain": [
       "start_date                  object\n",
       "end_date                    object\n",
       "start_hour                   int64\n",
       "end_hour                     int64\n",
       "trip_duration                int64\n",
       "start_station_id             int64\n",
       "start_station_name          object\n",
       "start_station_latitude     float64\n",
       "start_station_longitude    float64\n",
       "end_station_id               int64\n",
       "end_station_name            object\n",
       "end_station_latitude       float64\n",
       "end_station_longitude      float64\n",
       "bike_id                      int64\n",
       "usertype                    object\n",
       "birth_year                   int64\n",
       "gender                      object\n",
       "day_since_register           int64\n",
       "dtype: object"
      ]
     },
     "execution_count": 9,
     "metadata": {},
     "output_type": "execute_result"
    }
   ],
   "source": [
    "data.dtypes"
   ]
  },
  {
   "cell_type": "code",
   "execution_count": 10,
   "metadata": {},
   "outputs": [],
   "source": [
    "data['start_date'] = pd.to_datetime(data['start_date'])\n",
    "data['end_date'] = pd.to_datetime(data['end_date'])"
   ]
  },
  {
   "cell_type": "code",
   "execution_count": 11,
   "metadata": {},
   "outputs": [],
   "source": [
    "data['user_age'] = data['start_date'].dt.year - data['birth_year']"
   ]
  },
  {
   "cell_type": "code",
   "execution_count": 12,
   "metadata": {},
   "outputs": [
    {
     "data": {
      "text/plain": [
       "dtype('int64')"
      ]
     },
     "execution_count": 12,
     "metadata": {},
     "output_type": "execute_result"
    }
   ],
   "source": [
    "data['birth_year'].dtypes"
   ]
  },
  {
   "cell_type": "code",
   "execution_count": 13,
   "metadata": {},
   "outputs": [
    {
     "data": {
      "text/html": [
       "<div>\n",
       "<style scoped>\n",
       "    .dataframe tbody tr th:only-of-type {\n",
       "        vertical-align: middle;\n",
       "    }\n",
       "\n",
       "    .dataframe tbody tr th {\n",
       "        vertical-align: top;\n",
       "    }\n",
       "\n",
       "    .dataframe thead th {\n",
       "        text-align: right;\n",
       "    }\n",
       "</style>\n",
       "<table border=\"1\" class=\"dataframe\">\n",
       "  <thead>\n",
       "    <tr style=\"text-align: right;\">\n",
       "      <th></th>\n",
       "      <th>start_date</th>\n",
       "      <th>end_date</th>\n",
       "      <th>start_hour</th>\n",
       "      <th>end_hour</th>\n",
       "      <th>trip_duration</th>\n",
       "      <th>start_station_id</th>\n",
       "      <th>start_station_name</th>\n",
       "      <th>start_station_latitude</th>\n",
       "      <th>start_station_longitude</th>\n",
       "      <th>end_station_id</th>\n",
       "      <th>end_station_name</th>\n",
       "      <th>end_station_latitude</th>\n",
       "      <th>end_station_longitude</th>\n",
       "      <th>bike_id</th>\n",
       "      <th>usertype</th>\n",
       "      <th>birth_year</th>\n",
       "      <th>gender</th>\n",
       "      <th>day_since_register</th>\n",
       "      <th>user_age</th>\n",
       "    </tr>\n",
       "  </thead>\n",
       "  <tbody>\n",
       "    <tr>\n",
       "      <th>0</th>\n",
       "      <td>2018-05-01</td>\n",
       "      <td>2018-05-01</td>\n",
       "      <td>4</td>\n",
       "      <td>4</td>\n",
       "      <td>390</td>\n",
       "      <td>3002</td>\n",
       "      <td>South End Ave &amp; Liberty St</td>\n",
       "      <td>40.711512</td>\n",
       "      <td>-74.015756</td>\n",
       "      <td>79</td>\n",
       "      <td>Franklin St &amp; W Broadway</td>\n",
       "      <td>40.719116</td>\n",
       "      <td>-74.006667</td>\n",
       "      <td>21105</td>\n",
       "      <td>Subscriber</td>\n",
       "      <td>1945</td>\n",
       "      <td>male</td>\n",
       "      <td>36</td>\n",
       "      <td>73</td>\n",
       "    </tr>\n",
       "    <tr>\n",
       "      <th>1</th>\n",
       "      <td>2018-05-01</td>\n",
       "      <td>2018-05-01</td>\n",
       "      <td>1</td>\n",
       "      <td>1</td>\n",
       "      <td>854</td>\n",
       "      <td>3611</td>\n",
       "      <td>Vernon Blvd &amp; 47 Rd</td>\n",
       "      <td>40.744907</td>\n",
       "      <td>-73.953457</td>\n",
       "      <td>3572</td>\n",
       "      <td>34 Ave &amp; 38 St</td>\n",
       "      <td>40.756913</td>\n",
       "      <td>-73.921631</td>\n",
       "      <td>32219</td>\n",
       "      <td>Subscriber</td>\n",
       "      <td>1998</td>\n",
       "      <td>male</td>\n",
       "      <td>29</td>\n",
       "      <td>20</td>\n",
       "    </tr>\n",
       "    <tr>\n",
       "      <th>2</th>\n",
       "      <td>2018-05-01</td>\n",
       "      <td>2018-05-01</td>\n",
       "      <td>4</td>\n",
       "      <td>4</td>\n",
       "      <td>526</td>\n",
       "      <td>515</td>\n",
       "      <td>W 43 St &amp; 10 Ave</td>\n",
       "      <td>40.760094</td>\n",
       "      <td>-73.994618</td>\n",
       "      <td>388</td>\n",
       "      <td>W 26 St &amp; 10 Ave</td>\n",
       "      <td>40.749718</td>\n",
       "      <td>-74.002950</td>\n",
       "      <td>33433</td>\n",
       "      <td>Subscriber</td>\n",
       "      <td>1954</td>\n",
       "      <td>male</td>\n",
       "      <td>55</td>\n",
       "      <td>64</td>\n",
       "    </tr>\n",
       "    <tr>\n",
       "      <th>3</th>\n",
       "      <td>2018-05-01</td>\n",
       "      <td>2018-05-01</td>\n",
       "      <td>3</td>\n",
       "      <td>3</td>\n",
       "      <td>885</td>\n",
       "      <td>3641</td>\n",
       "      <td>Broadway &amp; W 25 St</td>\n",
       "      <td>40.742869</td>\n",
       "      <td>-73.989186</td>\n",
       "      <td>336</td>\n",
       "      <td>Sullivan St &amp; Washington Sq</td>\n",
       "      <td>40.730477</td>\n",
       "      <td>-73.999061</td>\n",
       "      <td>32028</td>\n",
       "      <td>Subscriber</td>\n",
       "      <td>1963</td>\n",
       "      <td>male</td>\n",
       "      <td>32</td>\n",
       "      <td>55</td>\n",
       "    </tr>\n",
       "  </tbody>\n",
       "</table>\n",
       "</div>"
      ],
      "text/plain": [
       "  start_date   end_date  start_hour  end_hour  trip_duration  \\\n",
       "0 2018-05-01 2018-05-01           4         4            390   \n",
       "1 2018-05-01 2018-05-01           1         1            854   \n",
       "2 2018-05-01 2018-05-01           4         4            526   \n",
       "3 2018-05-01 2018-05-01           3         3            885   \n",
       "\n",
       "   start_station_id          start_station_name  start_station_latitude  \\\n",
       "0              3002  South End Ave & Liberty St               40.711512   \n",
       "1              3611         Vernon Blvd & 47 Rd               40.744907   \n",
       "2               515            W 43 St & 10 Ave               40.760094   \n",
       "3              3641          Broadway & W 25 St               40.742869   \n",
       "\n",
       "   start_station_longitude  end_station_id             end_station_name  \\\n",
       "0               -74.015756              79     Franklin St & W Broadway   \n",
       "1               -73.953457            3572               34 Ave & 38 St   \n",
       "2               -73.994618             388             W 26 St & 10 Ave   \n",
       "3               -73.989186             336  Sullivan St & Washington Sq   \n",
       "\n",
       "   end_station_latitude  end_station_longitude  bike_id    usertype  \\\n",
       "0             40.719116             -74.006667    21105  Subscriber   \n",
       "1             40.756913             -73.921631    32219  Subscriber   \n",
       "2             40.749718             -74.002950    33433  Subscriber   \n",
       "3             40.730477             -73.999061    32028  Subscriber   \n",
       "\n",
       "   birth_year gender  day_since_register  user_age  \n",
       "0        1945   male                  36        73  \n",
       "1        1998   male                  29        20  \n",
       "2        1954   male                  55        64  \n",
       "3        1963   male                  32        55  "
      ]
     },
     "execution_count": 13,
     "metadata": {},
     "output_type": "execute_result"
    }
   ],
   "source": [
    "data.head(4)"
   ]
  },
  {
   "cell_type": "code",
   "execution_count": 14,
   "metadata": {},
   "outputs": [
    {
     "data": {
      "text/html": [
       "<div>\n",
       "<style scoped>\n",
       "    .dataframe tbody tr th:only-of-type {\n",
       "        vertical-align: middle;\n",
       "    }\n",
       "\n",
       "    .dataframe tbody tr th {\n",
       "        vertical-align: top;\n",
       "    }\n",
       "\n",
       "    .dataframe thead th {\n",
       "        text-align: right;\n",
       "    }\n",
       "</style>\n",
       "<table border=\"1\" class=\"dataframe\">\n",
       "  <thead>\n",
       "    <tr style=\"text-align: right;\">\n",
       "      <th></th>\n",
       "      <th>start_date</th>\n",
       "      <th>end_date</th>\n",
       "      <th>start_hour</th>\n",
       "      <th>end_hour</th>\n",
       "      <th>trip_duration</th>\n",
       "      <th>usertype</th>\n",
       "      <th>gender</th>\n",
       "      <th>user_age</th>\n",
       "    </tr>\n",
       "  </thead>\n",
       "  <tbody>\n",
       "    <tr>\n",
       "      <th>0</th>\n",
       "      <td>2018-05-01</td>\n",
       "      <td>2018-05-01</td>\n",
       "      <td>4</td>\n",
       "      <td>4</td>\n",
       "      <td>390</td>\n",
       "      <td>Subscriber</td>\n",
       "      <td>male</td>\n",
       "      <td>73</td>\n",
       "    </tr>\n",
       "    <tr>\n",
       "      <th>1</th>\n",
       "      <td>2018-05-01</td>\n",
       "      <td>2018-05-01</td>\n",
       "      <td>1</td>\n",
       "      <td>1</td>\n",
       "      <td>854</td>\n",
       "      <td>Subscriber</td>\n",
       "      <td>male</td>\n",
       "      <td>20</td>\n",
       "    </tr>\n",
       "    <tr>\n",
       "      <th>2</th>\n",
       "      <td>2018-05-01</td>\n",
       "      <td>2018-05-01</td>\n",
       "      <td>4</td>\n",
       "      <td>4</td>\n",
       "      <td>526</td>\n",
       "      <td>Subscriber</td>\n",
       "      <td>male</td>\n",
       "      <td>64</td>\n",
       "    </tr>\n",
       "    <tr>\n",
       "      <th>3</th>\n",
       "      <td>2018-05-01</td>\n",
       "      <td>2018-05-01</td>\n",
       "      <td>3</td>\n",
       "      <td>3</td>\n",
       "      <td>885</td>\n",
       "      <td>Subscriber</td>\n",
       "      <td>male</td>\n",
       "      <td>55</td>\n",
       "    </tr>\n",
       "    <tr>\n",
       "      <th>4</th>\n",
       "      <td>2018-05-01</td>\n",
       "      <td>2018-05-01</td>\n",
       "      <td>1</td>\n",
       "      <td>1</td>\n",
       "      <td>324</td>\n",
       "      <td>Subscriber</td>\n",
       "      <td>male</td>\n",
       "      <td>53</td>\n",
       "    </tr>\n",
       "    <tr>\n",
       "      <th>...</th>\n",
       "      <td>...</td>\n",
       "      <td>...</td>\n",
       "      <td>...</td>\n",
       "      <td>...</td>\n",
       "      <td>...</td>\n",
       "      <td>...</td>\n",
       "      <td>...</td>\n",
       "      <td>...</td>\n",
       "    </tr>\n",
       "    <tr>\n",
       "      <th>72030</th>\n",
       "      <td>2018-05-01</td>\n",
       "      <td>2018-05-01</td>\n",
       "      <td>23</td>\n",
       "      <td>23</td>\n",
       "      <td>207</td>\n",
       "      <td>Subscriber</td>\n",
       "      <td>female</td>\n",
       "      <td>24</td>\n",
       "    </tr>\n",
       "    <tr>\n",
       "      <th>72031</th>\n",
       "      <td>2018-05-01</td>\n",
       "      <td>2018-05-01</td>\n",
       "      <td>23</td>\n",
       "      <td>23</td>\n",
       "      <td>356</td>\n",
       "      <td>Subscriber</td>\n",
       "      <td>male</td>\n",
       "      <td>24</td>\n",
       "    </tr>\n",
       "    <tr>\n",
       "      <th>72032</th>\n",
       "      <td>2018-05-01</td>\n",
       "      <td>2018-05-01</td>\n",
       "      <td>22</td>\n",
       "      <td>23</td>\n",
       "      <td>516</td>\n",
       "      <td>Subscriber</td>\n",
       "      <td>male</td>\n",
       "      <td>43</td>\n",
       "    </tr>\n",
       "    <tr>\n",
       "      <th>72033</th>\n",
       "      <td>2018-05-01</td>\n",
       "      <td>2018-05-01</td>\n",
       "      <td>22</td>\n",
       "      <td>23</td>\n",
       "      <td>427</td>\n",
       "      <td>Subscriber</td>\n",
       "      <td>male</td>\n",
       "      <td>46</td>\n",
       "    </tr>\n",
       "    <tr>\n",
       "      <th>72034</th>\n",
       "      <td>2018-05-01</td>\n",
       "      <td>2018-05-01</td>\n",
       "      <td>23</td>\n",
       "      <td>23</td>\n",
       "      <td>417</td>\n",
       "      <td>Subscriber</td>\n",
       "      <td>male</td>\n",
       "      <td>25</td>\n",
       "    </tr>\n",
       "  </tbody>\n",
       "</table>\n",
       "<p>72035 rows × 8 columns</p>\n",
       "</div>"
      ],
      "text/plain": [
       "      start_date   end_date  start_hour  end_hour  trip_duration    usertype  \\\n",
       "0     2018-05-01 2018-05-01           4         4            390  Subscriber   \n",
       "1     2018-05-01 2018-05-01           1         1            854  Subscriber   \n",
       "2     2018-05-01 2018-05-01           4         4            526  Subscriber   \n",
       "3     2018-05-01 2018-05-01           3         3            885  Subscriber   \n",
       "4     2018-05-01 2018-05-01           1         1            324  Subscriber   \n",
       "...          ...        ...         ...       ...            ...         ...   \n",
       "72030 2018-05-01 2018-05-01          23        23            207  Subscriber   \n",
       "72031 2018-05-01 2018-05-01          23        23            356  Subscriber   \n",
       "72032 2018-05-01 2018-05-01          22        23            516  Subscriber   \n",
       "72033 2018-05-01 2018-05-01          22        23            427  Subscriber   \n",
       "72034 2018-05-01 2018-05-01          23        23            417  Subscriber   \n",
       "\n",
       "       gender  user_age  \n",
       "0        male        73  \n",
       "1        male        20  \n",
       "2        male        64  \n",
       "3        male        55  \n",
       "4        male        53  \n",
       "...       ...       ...  \n",
       "72030  female        24  \n",
       "72031    male        24  \n",
       "72032    male        43  \n",
       "72033    male        46  \n",
       "72034    male        25  \n",
       "\n",
       "[72035 rows x 8 columns]"
      ]
     },
     "execution_count": 14,
     "metadata": {},
     "output_type": "execute_result"
    }
   ],
   "source": [
    "df = data[['start_date','end_date','start_hour','end_hour','trip_duration','usertype','gender','user_age']]\n",
    "df"
   ]
  },
  {
   "cell_type": "code",
   "execution_count": 15,
   "metadata": {},
   "outputs": [
    {
     "data": {
      "text/plain": [
       "gender\n",
       "male       48310\n",
       "female     16568\n",
       "unknown     7157\n",
       "Name: count, dtype: int64"
      ]
     },
     "execution_count": 15,
     "metadata": {},
     "output_type": "execute_result"
    }
   ],
   "source": [
    "df['gender'].value_counts()"
   ]
  },
  {
   "cell_type": "code",
   "execution_count": 16,
   "metadata": {},
   "outputs": [
    {
     "data": {
      "text/plain": [
       "Text(0.5, 1.0, 'Bike Rental by Gender')"
      ]
     },
     "execution_count": 16,
     "metadata": {},
     "output_type": "execute_result"
    },
    {
     "data": {
      "image/png": "[encoded data removed]",
      "text/plain": [
       "<Figure size 640x480 with 1 Axes>"
      ]
     },
     "metadata": {},
     "output_type": "display_data"
    }
   ],
   "source": [
    "ax = sns.countplot(x =df['gender'])\n",
    "ax.set_title('Bike Rental by Gender')\n",
    "# unknown data is outlier -> has to be deleted."
   ]
  },
  {
   "cell_type": "code",
   "execution_count": 17,
   "metadata": {},
   "outputs": [
    {
     "name": "stderr",
     "output_type": "stream",
     "text": [
      "C:\\Users\\wooju\\AppData\\Local\\Temp\\ipykernel_11548\\378812851.py:2: SettingWithCopyWarning: \n",
      "A value is trying to be set on a copy of a slice from a DataFrame\n",
      "\n",
      "See the caveats in the documentation: https://pandas.pydata.org/pandas-docs/stable/user_guide/indexing.html#returning-a-view-versus-a-copy\n",
      "  df.drop(idx, axis = 0, inplace=True)\n"
     ]
    },
    {
     "data": {
      "text/plain": [
       "gender\n",
       "male      48310\n",
       "female    16568\n",
       "Name: count, dtype: int64"
      ]
     },
     "execution_count": 17,
     "metadata": {},
     "output_type": "execute_result"
    }
   ],
   "source": [
    "idx = df[df['gender']=='unknown'].index\n",
    "df.drop(idx, axis = 0, inplace=True)\n",
    "df['gender'].value_counts()"
   ]
  },
  {
   "cell_type": "code",
   "execution_count": 51,
   "metadata": {},
   "outputs": [
    {
     "data": {
      "image/png": "[encoded data removed]",
      "text/plain": [
       "<Figure size 2500x500 with 1 Axes>"
      ]
     },
     "metadata": {},
     "output_type": "display_data"
    }
   ],
   "source": [
    "plt.figure(figsize=(25,5))\n",
    "sns.countplot(x= df['user_age'])\n",
    "plt.title(\"Bike Rental by User's Age (before handling outliars)\")\n",
    "plt.show()"
   ]
  },
  {
   "cell_type": "code",
   "execution_count": 23,
   "metadata": {},
   "outputs": [
    {
     "data": {
      "image/png": "[encoded data removed]",
      "text/plain": [
       "<Figure size 2500x500 with 1 Axes>"
      ]
     },
     "metadata": {},
     "output_type": "display_data"
    }
   ],
   "source": [
    "plt.figure(figsize=(25,5))\n",
    "sns.boxplot(x = df['user_age'])\n",
    "plt.show()"
   ]
  },
  {
   "cell_type": "code",
   "execution_count": 29,
   "metadata": {},
   "outputs": [],
   "source": [
    "age_q1 = df['user_age'].quantile(0.25)\n",
    "age_q3 = df['user_age'].quantile(0.75)\n",
    "age_iqr = age_q3 - age_q1"
   ]
  },
  {
   "cell_type": "code",
   "execution_count": 30,
   "metadata": {},
   "outputs": [
    {
     "name": "stdout",
     "output_type": "stream",
     "text": [
      "30.0\n",
      "47.0\n",
      "17.0\n"
     ]
    }
   ],
   "source": [
    "print(age_q1)\n",
    "print(age_q3)\n",
    "print(age_iqr)\n"
   ]
  },
  {
   "cell_type": "code",
   "execution_count": 31,
   "metadata": {},
   "outputs": [
    {
     "data": {
      "text/plain": [
       "72.5"
      ]
     },
     "execution_count": 31,
     "metadata": {},
     "output_type": "execute_result"
    }
   ],
   "source": [
    "age_maximum = age_q3 + 1.5*age_iqr\n",
    "age_maximum"
   ]
  },
  {
   "cell_type": "code",
   "execution_count": 33,
   "metadata": {},
   "outputs": [
    {
     "name": "stderr",
     "output_type": "stream",
     "text": [
      "C:\\Users\\wooju\\AppData\\Local\\Temp\\ipykernel_11548\\2556691928.py:2: SettingWithCopyWarning: \n",
      "A value is trying to be set on a copy of a slice from a DataFrame\n",
      "\n",
      "See the caveats in the documentation: https://pandas.pydata.org/pandas-docs/stable/user_guide/indexing.html#returning-a-view-versus-a-copy\n",
      "  df.drop(idx, axis=0, inplace=True)\n"
     ]
    },
    {
     "data": {
      "text/plain": [
       "count    64531.000000\n",
       "mean        38.835103\n",
       "std         11.584668\n",
       "min         16.000000\n",
       "25%         29.000000\n",
       "50%         36.000000\n",
       "75%         47.000000\n",
       "max         72.000000\n",
       "Name: user_age, dtype: float64"
      ]
     },
     "execution_count": 33,
     "metadata": {},
     "output_type": "execute_result"
    }
   ],
   "source": [
    "idx = df[df['user_age'] > age_maximum].index\n",
    "df.drop(idx, axis=0, inplace=True)\n",
    "df['user_age'].describe()"
   ]
  },
  {
   "cell_type": "code",
   "execution_count": 52,
   "metadata": {},
   "outputs": [
    {
     "data": {
      "image/png": "[encoded data removed]",
      "text/plain": [
       "<Figure size 2500x500 with 1 Axes>"
      ]
     },
     "metadata": {},
     "output_type": "display_data"
    }
   ],
   "source": [
    "plt.figure(figsize=(25,5))\n",
    "sns.countplot(x= df['user_age'])\n",
    "plt.title(\"Bike Rental by User's Age (After handling Outliars)\")\n",
    "plt.show()"
   ]
  },
  {
   "cell_type": "code",
   "execution_count": 35,
   "metadata": {},
   "outputs": [
    {
     "data": {
      "image/png": "[encoded data removed]",
      "text/plain": [
       "<Figure size 2500x500 with 1 Axes>"
      ]
     },
     "metadata": {},
     "output_type": "display_data"
    }
   ],
   "source": [
    "plt.figure(figsize=(25,5))\n",
    "sns.boxplot(x = df['user_age'])\n",
    "plt.show()\n",
    "# 연령 이상치 제거 완료"
   ]
  },
  {
   "cell_type": "code",
   "execution_count": 48,
   "metadata": {},
   "outputs": [
    {
     "data": {
      "image/png": "[encoded data removed]",
      "text/plain": [
       "<Figure size 2500x500 with 1 Axes>"
      ]
     },
     "metadata": {},
     "output_type": "display_data"
    }
   ],
   "source": [
    "plt.figure(figsize=(25,5))\n",
    "sns.countplot(x= df['start_hour'])\n",
    "plt.title(\"Bike rental by hour\")\n",
    "plt.show()"
   ]
  },
  {
   "cell_type": "code",
   "execution_count": 45,
   "metadata": {},
   "outputs": [
    {
     "name": "stderr",
     "output_type": "stream",
     "text": [
      "C:\\Users\\wooju\\AppData\\Local\\Temp\\ipykernel_11548\\510705723.py:3: SettingWithCopyWarning: \n",
      "A value is trying to be set on a copy of a slice from a DataFrame.\n",
      "Try using .loc[row_indexer,col_indexer] = value instead\n",
      "\n",
      "See the caveats in the documentation: https://pandas.pydata.org/pandas-docs/stable/user_guide/indexing.html#returning-a-view-versus-a-copy\n",
      "  df['age_group'] = pd.cut(df['user_age'],Age_Groups_Limits,labels=Age_Groups)\n"
     ]
    },
    {
     "data": {
      "text/html": [
       "<div>\n",
       "<style scoped>\n",
       "    .dataframe tbody tr th:only-of-type {\n",
       "        vertical-align: middle;\n",
       "    }\n",
       "\n",
       "    .dataframe tbody tr th {\n",
       "        vertical-align: top;\n",
       "    }\n",
       "\n",
       "    .dataframe thead th {\n",
       "        text-align: right;\n",
       "    }\n",
       "</style>\n",
       "<table border=\"1\" class=\"dataframe\">\n",
       "  <thead>\n",
       "    <tr style=\"text-align: right;\">\n",
       "      <th></th>\n",
       "      <th>start_date</th>\n",
       "      <th>end_date</th>\n",
       "      <th>start_hour</th>\n",
       "      <th>end_hour</th>\n",
       "      <th>trip_duration</th>\n",
       "      <th>usertype</th>\n",
       "      <th>gender</th>\n",
       "      <th>user_age</th>\n",
       "      <th>age_group</th>\n",
       "    </tr>\n",
       "  </thead>\n",
       "  <tbody>\n",
       "    <tr>\n",
       "      <th>1</th>\n",
       "      <td>2018-05-01</td>\n",
       "      <td>2018-05-01</td>\n",
       "      <td>1</td>\n",
       "      <td>1</td>\n",
       "      <td>854</td>\n",
       "      <td>Subscriber</td>\n",
       "      <td>male</td>\n",
       "      <td>20</td>\n",
       "      <td>&lt;20</td>\n",
       "    </tr>\n",
       "    <tr>\n",
       "      <th>2</th>\n",
       "      <td>2018-05-01</td>\n",
       "      <td>2018-05-01</td>\n",
       "      <td>4</td>\n",
       "      <td>4</td>\n",
       "      <td>526</td>\n",
       "      <td>Subscriber</td>\n",
       "      <td>male</td>\n",
       "      <td>64</td>\n",
       "      <td>60+</td>\n",
       "    </tr>\n",
       "    <tr>\n",
       "      <th>3</th>\n",
       "      <td>2018-05-01</td>\n",
       "      <td>2018-05-01</td>\n",
       "      <td>3</td>\n",
       "      <td>3</td>\n",
       "      <td>885</td>\n",
       "      <td>Subscriber</td>\n",
       "      <td>male</td>\n",
       "      <td>55</td>\n",
       "      <td>50-59</td>\n",
       "    </tr>\n",
       "    <tr>\n",
       "      <th>4</th>\n",
       "      <td>2018-05-01</td>\n",
       "      <td>2018-05-01</td>\n",
       "      <td>1</td>\n",
       "      <td>1</td>\n",
       "      <td>324</td>\n",
       "      <td>Subscriber</td>\n",
       "      <td>male</td>\n",
       "      <td>53</td>\n",
       "      <td>50-59</td>\n",
       "    </tr>\n",
       "    <tr>\n",
       "      <th>5</th>\n",
       "      <td>2018-05-01</td>\n",
       "      <td>2018-05-01</td>\n",
       "      <td>4</td>\n",
       "      <td>4</td>\n",
       "      <td>402</td>\n",
       "      <td>Subscriber</td>\n",
       "      <td>male</td>\n",
       "      <td>51</td>\n",
       "      <td>50-59</td>\n",
       "    </tr>\n",
       "    <tr>\n",
       "      <th>...</th>\n",
       "      <td>...</td>\n",
       "      <td>...</td>\n",
       "      <td>...</td>\n",
       "      <td>...</td>\n",
       "      <td>...</td>\n",
       "      <td>...</td>\n",
       "      <td>...</td>\n",
       "      <td>...</td>\n",
       "      <td>...</td>\n",
       "    </tr>\n",
       "    <tr>\n",
       "      <th>72030</th>\n",
       "      <td>2018-05-01</td>\n",
       "      <td>2018-05-01</td>\n",
       "      <td>23</td>\n",
       "      <td>23</td>\n",
       "      <td>207</td>\n",
       "      <td>Subscriber</td>\n",
       "      <td>female</td>\n",
       "      <td>24</td>\n",
       "      <td>20-29</td>\n",
       "    </tr>\n",
       "    <tr>\n",
       "      <th>72031</th>\n",
       "      <td>2018-05-01</td>\n",
       "      <td>2018-05-01</td>\n",
       "      <td>23</td>\n",
       "      <td>23</td>\n",
       "      <td>356</td>\n",
       "      <td>Subscriber</td>\n",
       "      <td>male</td>\n",
       "      <td>24</td>\n",
       "      <td>20-29</td>\n",
       "    </tr>\n",
       "    <tr>\n",
       "      <th>72032</th>\n",
       "      <td>2018-05-01</td>\n",
       "      <td>2018-05-01</td>\n",
       "      <td>22</td>\n",
       "      <td>23</td>\n",
       "      <td>516</td>\n",
       "      <td>Subscriber</td>\n",
       "      <td>male</td>\n",
       "      <td>43</td>\n",
       "      <td>40-49</td>\n",
       "    </tr>\n",
       "    <tr>\n",
       "      <th>72033</th>\n",
       "      <td>2018-05-01</td>\n",
       "      <td>2018-05-01</td>\n",
       "      <td>22</td>\n",
       "      <td>23</td>\n",
       "      <td>427</td>\n",
       "      <td>Subscriber</td>\n",
       "      <td>male</td>\n",
       "      <td>46</td>\n",
       "      <td>40-49</td>\n",
       "    </tr>\n",
       "    <tr>\n",
       "      <th>72034</th>\n",
       "      <td>2018-05-01</td>\n",
       "      <td>2018-05-01</td>\n",
       "      <td>23</td>\n",
       "      <td>23</td>\n",
       "      <td>417</td>\n",
       "      <td>Subscriber</td>\n",
       "      <td>male</td>\n",
       "      <td>25</td>\n",
       "      <td>20-29</td>\n",
       "    </tr>\n",
       "  </tbody>\n",
       "</table>\n",
       "<p>64531 rows × 9 columns</p>\n",
       "</div>"
      ],
      "text/plain": [
       "      start_date   end_date  start_hour  end_hour  trip_duration    usertype  \\\n",
       "1     2018-05-01 2018-05-01           1         1            854  Subscriber   \n",
       "2     2018-05-01 2018-05-01           4         4            526  Subscriber   \n",
       "3     2018-05-01 2018-05-01           3         3            885  Subscriber   \n",
       "4     2018-05-01 2018-05-01           1         1            324  Subscriber   \n",
       "5     2018-05-01 2018-05-01           4         4            402  Subscriber   \n",
       "...          ...        ...         ...       ...            ...         ...   \n",
       "72030 2018-05-01 2018-05-01          23        23            207  Subscriber   \n",
       "72031 2018-05-01 2018-05-01          23        23            356  Subscriber   \n",
       "72032 2018-05-01 2018-05-01          22        23            516  Subscriber   \n",
       "72033 2018-05-01 2018-05-01          22        23            427  Subscriber   \n",
       "72034 2018-05-01 2018-05-01          23        23            417  Subscriber   \n",
       "\n",
       "       gender  user_age age_group  \n",
       "1        male        20       <20  \n",
       "2        male        64       60+  \n",
       "3        male        55     50-59  \n",
       "4        male        53     50-59  \n",
       "5        male        51     50-59  \n",
       "...       ...       ...       ...  \n",
       "72030  female        24     20-29  \n",
       "72031    male        24     20-29  \n",
       "72032    male        43     40-49  \n",
       "72033    male        46     40-49  \n",
       "72034    male        25     20-29  \n",
       "\n",
       "[64531 rows x 9 columns]"
      ]
     },
     "execution_count": 45,
     "metadata": {},
     "output_type": "execute_result"
    }
   ],
   "source": [
    "# 연령에 맞게 연령대(범주형 데이터) 컬럼 추가하기\n",
    "Age_Groups = [\"<20\", \"20-29\", \"30-39\", \"40-49\", \"50-59\", \"60+\"]\n",
    "Age_Groups_Limits = [0, 20, 30, 40, 50, 60, np.inf]\n",
    "df['age_group'] = pd.cut(df['user_age'],Age_Groups_Limits,labels=Age_Groups)\n",
    "df"
   ]
  },
  {
   "cell_type": "code",
   "execution_count": 53,
   "metadata": {},
   "outputs": [
    {
     "data": {
      "image/png": "[encoded data removed]",
      "text/plain": [
       "<Figure size 2000x500 with 1 Axes>"
      ]
     },
     "metadata": {},
     "output_type": "display_data"
    }
   ],
   "source": [
    "plt.figure(figsize=(20,5))\n",
    "sns.countplot(data=df, x = 'age_group', hue='gender')\n",
    "plt.title(\"Bike Rental by Age Group and Gender\")\n",
    "plt.show()"
   ]
  },
  {
   "cell_type": "code",
   "execution_count": 54,
   "metadata": {},
   "outputs": [
    {
     "data": {
      "text/html": [
       "<div>\n",
       "<style scoped>\n",
       "    .dataframe tbody tr th:only-of-type {\n",
       "        vertical-align: middle;\n",
       "    }\n",
       "\n",
       "    .dataframe tbody tr th {\n",
       "        vertical-align: top;\n",
       "    }\n",
       "\n",
       "    .dataframe thead th {\n",
       "        text-align: right;\n",
       "    }\n",
       "</style>\n",
       "<table border=\"1\" class=\"dataframe\">\n",
       "  <thead>\n",
       "    <tr style=\"text-align: right;\">\n",
       "      <th></th>\n",
       "      <th>start_date</th>\n",
       "      <th>end_date</th>\n",
       "      <th>start_hour</th>\n",
       "      <th>end_hour</th>\n",
       "      <th>trip_duration</th>\n",
       "      <th>usertype</th>\n",
       "      <th>gender</th>\n",
       "      <th>user_age</th>\n",
       "      <th>age_group</th>\n",
       "    </tr>\n",
       "  </thead>\n",
       "  <tbody>\n",
       "    <tr>\n",
       "      <th>1</th>\n",
       "      <td>2018-05-01</td>\n",
       "      <td>2018-05-01</td>\n",
       "      <td>1</td>\n",
       "      <td>1</td>\n",
       "      <td>854</td>\n",
       "      <td>Subscriber</td>\n",
       "      <td>male</td>\n",
       "      <td>20</td>\n",
       "      <td>&lt;20</td>\n",
       "    </tr>\n",
       "    <tr>\n",
       "      <th>2</th>\n",
       "      <td>2018-05-01</td>\n",
       "      <td>2018-05-01</td>\n",
       "      <td>4</td>\n",
       "      <td>4</td>\n",
       "      <td>526</td>\n",
       "      <td>Subscriber</td>\n",
       "      <td>male</td>\n",
       "      <td>64</td>\n",
       "      <td>60+</td>\n",
       "    </tr>\n",
       "    <tr>\n",
       "      <th>3</th>\n",
       "      <td>2018-05-01</td>\n",
       "      <td>2018-05-01</td>\n",
       "      <td>3</td>\n",
       "      <td>3</td>\n",
       "      <td>885</td>\n",
       "      <td>Subscriber</td>\n",
       "      <td>male</td>\n",
       "      <td>55</td>\n",
       "      <td>50-59</td>\n",
       "    </tr>\n",
       "    <tr>\n",
       "      <th>4</th>\n",
       "      <td>2018-05-01</td>\n",
       "      <td>2018-05-01</td>\n",
       "      <td>1</td>\n",
       "      <td>1</td>\n",
       "      <td>324</td>\n",
       "      <td>Subscriber</td>\n",
       "      <td>male</td>\n",
       "      <td>53</td>\n",
       "      <td>50-59</td>\n",
       "    </tr>\n",
       "    <tr>\n",
       "      <th>5</th>\n",
       "      <td>2018-05-01</td>\n",
       "      <td>2018-05-01</td>\n",
       "      <td>4</td>\n",
       "      <td>4</td>\n",
       "      <td>402</td>\n",
       "      <td>Subscriber</td>\n",
       "      <td>male</td>\n",
       "      <td>51</td>\n",
       "      <td>50-59</td>\n",
       "    </tr>\n",
       "  </tbody>\n",
       "</table>\n",
       "</div>"
      ],
      "text/plain": [
       "  start_date   end_date  start_hour  end_hour  trip_duration    usertype  \\\n",
       "1 2018-05-01 2018-05-01           1         1            854  Subscriber   \n",
       "2 2018-05-01 2018-05-01           4         4            526  Subscriber   \n",
       "3 2018-05-01 2018-05-01           3         3            885  Subscriber   \n",
       "4 2018-05-01 2018-05-01           1         1            324  Subscriber   \n",
       "5 2018-05-01 2018-05-01           4         4            402  Subscriber   \n",
       "\n",
       "  gender  user_age age_group  \n",
       "1   male        20       <20  \n",
       "2   male        64       60+  \n",
       "3   male        55     50-59  \n",
       "4   male        53     50-59  \n",
       "5   male        51     50-59  "
      ]
     },
     "execution_count": 54,
     "metadata": {},
     "output_type": "execute_result"
    }
   ],
   "source": [
    "df.head()"
   ]
  },
  {
   "cell_type": "code",
   "execution_count": 56,
   "metadata": {},
   "outputs": [
    {
     "data": {
      "text/plain": [
       "count    6.453100e+04\n",
       "mean     9.464921e+02\n",
       "std      7.936961e+03\n",
       "min      6.100000e+01\n",
       "25%      3.820000e+02\n",
       "50%      6.400000e+02\n",
       "75%      1.107000e+03\n",
       "max      1.344462e+06\n",
       "Name: trip_duration, dtype: float64"
      ]
     },
     "execution_count": 56,
     "metadata": {},
     "output_type": "execute_result"
    }
   ],
   "source": [
    "df['trip_duration'].describe()"
   ]
  },
  {
   "cell_type": "code",
   "execution_count": 59,
   "metadata": {},
   "outputs": [
    {
     "data": {
      "image/png": "[encoded data removed]",
      "text/plain": [
       "<Figure size 2500x500 with 1 Axes>"
      ]
     },
     "metadata": {},
     "output_type": "display_data"
    }
   ],
   "source": [
    "plt.figure(figsize=(25,5))\n",
    "sns.boxplot(data=df, x='trip_duration')\n",
    "plt.show()\n",
    "# 이상치가 너무 많음"
   ]
  },
  {
   "cell_type": "code",
   "execution_count": 62,
   "metadata": {},
   "outputs": [
    {
     "data": {
      "text/plain": [
       "725.0"
      ]
     },
     "execution_count": 62,
     "metadata": {},
     "output_type": "execute_result"
    }
   ],
   "source": [
    "td_q1 = df['trip_duration'].quantile(0.25)\n",
    "td_q3 = df['trip_duration'].quantile(0.75)\n",
    "td_iqr = td_q3 - td_q1\n",
    "td_iqr"
   ]
  },
  {
   "cell_type": "code",
   "execution_count": 67,
   "metadata": {},
   "outputs": [
    {
     "name": "stdout",
     "output_type": "stream",
     "text": [
      "q1 = 382.00, q3 = 1107.00, iqr = 725.00\n",
      "640.0\n"
     ]
    }
   ],
   "source": [
    "print(\"q1 = %0.2f, q3 = %0.2f, iqr = %0.2f\" % (td_q1, td_q3, td_iqr))\n",
    "print(df['trip_duration'].median())"
   ]
  },
  {
   "cell_type": "code",
   "execution_count": 72,
   "metadata": {},
   "outputs": [],
   "source": [
    "minimum = td_q1 - td_iqr\n",
    "maximum = td_q3 + td_iqr"
   ]
  },
  {
   "cell_type": "code",
   "execution_count": 73,
   "metadata": {},
   "outputs": [
    {
     "data": {
      "text/plain": [
       "1832.0"
      ]
     },
     "execution_count": 73,
     "metadata": {},
     "output_type": "execute_result"
    }
   ],
   "source": [
    "maximum"
   ]
  },
  {
   "cell_type": "code",
   "execution_count": 76,
   "metadata": {},
   "outputs": [
    {
     "data": {
      "image/png": "[encoded data removed]",
      "text/plain": [
       "<Figure size 1500x500 with 1 Axes>"
      ]
     },
     "metadata": {},
     "output_type": "display_data"
    }
   ],
   "source": [
    "plt.figure(figsize=(15,5))\n",
    "sns.boxplot(data = df[df['trip_duration']<maximum], x = 'trip_duration')\n",
    "plt.title(\"Trip Duration box plot (seconds)\")\n",
    "plt.show()"
   ]
  }
 ],
 "metadata": {
  "kernelspec": {
   "display_name": "vsjupy",
   "language": "python",
   "name": "vsjupy"
  },
  "language_info": {
   "codemirror_mode": {
    "name": "ipython",
    "version": 3
   },
   "file_extension": ".py",
   "mimetype": "text/x-python",
   "name": "python",
   "nbconvert_exporter": "python",
   "pygments_lexer": "ipython3",
   "version": "3.9.18"
  }
 },
 "nbformat": 4,
 "nbformat_minor": 2
}
