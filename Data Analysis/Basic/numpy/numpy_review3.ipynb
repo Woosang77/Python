{
 "cells": [
  {
   "cell_type": "markdown",
   "metadata": {},
   "source": [
    "### 벡터화 연산\n",
    "- 반복문을 쓰지 않더라도 배열의 모든 원소에 대해 반복 연산을 할 수 있다.\n",
    "- 선형대수공식과 동일한 간단한 코드 작성 가능"
   ]
  },
  {
   "cell_type": "code",
   "execution_count": 2,
   "metadata": {},
   "outputs": [],
   "source": [
    "import numpy as np"
   ]
  },
  {
   "cell_type": "code",
   "execution_count": 2,
   "metadata": {},
   "outputs": [],
   "source": [
    "x = np.arange(1,10001)\n",
    "y = np.arange(10001, 20001)"
   ]
  },
  {
   "cell_type": "code",
   "execution_count": 3,
   "metadata": {},
   "outputs": [
    {
     "name": "stdout",
     "output_type": "stream",
     "text": [
      "CPU times: total: 0 ns\n",
      "Wall time: 5.17 ms\n"
     ]
    }
   ],
   "source": [
    "%%time  #%%time : 셀 코드의 실행시간을 측정하는 IPython Magic 명령\n",
    "z = np.zeros_like(x)\n",
    "for i in range(10000):\n",
    "    z[i] = x[i] + y[i]"
   ]
  },
  {
   "cell_type": "code",
   "execution_count": 4,
   "metadata": {},
   "outputs": [
    {
     "data": {
      "text/plain": [
       "array([10002, 10004, 10006, 10008, 10010, 10012, 10014, 10016, 10018,\n",
       "       10020])"
      ]
     },
     "execution_count": 4,
     "metadata": {},
     "output_type": "execute_result"
    }
   ],
   "source": [
    "z[:10]"
   ]
  },
  {
   "cell_type": "code",
   "execution_count": 6,
   "metadata": {},
   "outputs": [
    {
     "name": "stdout",
     "output_type": "stream",
     "text": [
      "CPU times: total: 0 ns\n",
      "Wall time: 0 ns\n"
     ]
    }
   ],
   "source": [
    "%%time\n",
    "z = x + y       # 벡터화 연산은 0ns (반복문 연산 : 5.17ms)"
   ]
  },
  {
   "cell_type": "code",
   "execution_count": 7,
   "metadata": {},
   "outputs": [
    {
     "data": {
      "text/plain": [
       "array([10002, 10004, 10006, ..., 29996, 29998, 30000])"
      ]
     },
     "execution_count": 7,
     "metadata": {},
     "output_type": "execute_result"
    }
   ],
   "source": []
  },
  {
   "cell_type": "code",
   "execution_count": 8,
   "metadata": {},
   "outputs": [],
   "source": [
    "# 논리 연산 가능\n",
    "a = np.array([1, 2, 3, 4])\n",
    "b = np.array([4, 2, 2, 4])"
   ]
  },
  {
   "cell_type": "code",
   "execution_count": 9,
   "metadata": {},
   "outputs": [
    {
     "data": {
      "text/plain": [
       "array([False,  True, False,  True])"
      ]
     },
     "execution_count": 9,
     "metadata": {},
     "output_type": "execute_result"
    }
   ],
   "source": [
    "a == b"
   ]
  },
  {
   "cell_type": "code",
   "execution_count": 10,
   "metadata": {},
   "outputs": [
    {
     "data": {
      "text/plain": [
       "array([False,  True,  True,  True])"
      ]
     },
     "execution_count": 10,
     "metadata": {},
     "output_type": "execute_result"
    }
   ],
   "source": [
    "a >= b"
   ]
  },
  {
   "cell_type": "code",
   "execution_count": 11,
   "metadata": {},
   "outputs": [
    {
     "data": {
      "text/plain": [
       "False"
      ]
     },
     "execution_count": 11,
     "metadata": {},
     "output_type": "execute_result"
    }
   ],
   "source": [
    "np.all(a==b)"
   ]
  },
  {
   "cell_type": "code",
   "execution_count": 15,
   "metadata": {},
   "outputs": [
    {
     "data": {
      "text/plain": [
       "array([ 1.        ,  2.71828183,  7.3890561 , 20.08553692, 54.59815003])"
      ]
     },
     "execution_count": 15,
     "metadata": {},
     "output_type": "execute_result"
    }
   ],
   "source": [
    "# 수학 함수(지수, 로그) - 벡터화 연산 지원\n",
    "a = np.arange(5)\n",
    "np.exp(a)"
   ]
  },
  {
   "cell_type": "code",
   "execution_count": 16,
   "metadata": {},
   "outputs": [
    {
     "data": {
      "text/plain": [
       "array([0.        , 0.69314718, 1.09861229, 1.38629436, 1.60943791])"
      ]
     },
     "execution_count": 16,
     "metadata": {},
     "output_type": "execute_result"
    }
   ],
   "source": [
    "np.log(a+1)"
   ]
  },
  {
   "cell_type": "markdown",
   "metadata": {},
   "source": [
    "### 브로드캐스팅(Broadcasting)\n",
    "- 서로 크기가 다른 행렬(벡터) 간 연산을 할 수 있도록 지원하는 기능\n",
    "- 크기가 작은 배열을 큰 배열의 크기로 자동 맞춤\n"
   ]
  },
  {
   "cell_type": "code",
   "execution_count": 17,
   "metadata": {},
   "outputs": [
    {
     "data": {
      "text/plain": [
       "array([0, 1, 2, 3, 4])"
      ]
     },
     "execution_count": 17,
     "metadata": {},
     "output_type": "execute_result"
    }
   ],
   "source": [
    "x = np.arange(5)\n",
    "x"
   ]
  },
  {
   "cell_type": "code",
   "execution_count": 18,
   "metadata": {},
   "outputs": [
    {
     "data": {
      "text/plain": [
       "array([1, 1, 1, 1, 1])"
      ]
     },
     "execution_count": 18,
     "metadata": {},
     "output_type": "execute_result"
    }
   ],
   "source": [
    "y = np.ones_like(x)\n",
    "y"
   ]
  },
  {
   "cell_type": "code",
   "execution_count": 19,
   "metadata": {},
   "outputs": [
    {
     "data": {
      "text/plain": [
       "array([1, 2, 3, 4, 5])"
      ]
     },
     "execution_count": 19,
     "metadata": {},
     "output_type": "execute_result"
    }
   ],
   "source": [
    "x + y"
   ]
  },
  {
   "cell_type": "code",
   "execution_count": 20,
   "metadata": {},
   "outputs": [
    {
     "data": {
      "text/plain": [
       "array([1, 2, 3, 4, 5])"
      ]
     },
     "execution_count": 20,
     "metadata": {},
     "output_type": "execute_result"
    }
   ],
   "source": [
    "x + 1"
   ]
  },
  {
   "cell_type": "code",
   "execution_count": 21,
   "metadata": {},
   "outputs": [
    {
     "data": {
      "text/plain": [
       "array([[0, 1, 2],\n",
       "       [1, 2, 3],\n",
       "       [2, 3, 4],\n",
       "       [3, 4, 5],\n",
       "       [4, 5, 6]])"
      ]
     },
     "execution_count": 21,
     "metadata": {},
     "output_type": "execute_result"
    }
   ],
   "source": [
    "x = np.vstack([range(7)[i:i+3] for i in range(5)])\n",
    "x"
   ]
  },
  {
   "cell_type": "code",
   "execution_count": 32,
   "metadata": {},
   "outputs": [
    {
     "data": {
      "text/plain": [
       "array([[0],\n",
       "       [1],\n",
       "       [2],\n",
       "       [3],\n",
       "       [4]])"
      ]
     },
     "execution_count": 32,
     "metadata": {},
     "output_type": "execute_result"
    }
   ],
   "source": [
    "y = np.arange(5)[:,np.newaxis]\n",
    "# y = np.arange(5).reshape(5,1)\n",
    "y"
   ]
  },
  {
   "cell_type": "code",
   "execution_count": 33,
   "metadata": {},
   "outputs": [
    {
     "data": {
      "text/plain": [
       "array([[ 0,  1,  2],\n",
       "       [ 2,  3,  4],\n",
       "       [ 4,  5,  6],\n",
       "       [ 6,  7,  8],\n",
       "       [ 8,  9, 10]])"
      ]
     },
     "execution_count": 33,
     "metadata": {},
     "output_type": "execute_result"
    }
   ],
   "source": [
    "x+y"
   ]
  },
  {
   "cell_type": "markdown",
   "metadata": {},
   "source": [
    "### 차원 축소 연산 \n",
    "- (10,5) 배열을 각 행에 대한 평균을 구한다면, (10,1) 크기의 1차원 벡터를 얻는다.\n",
    "- 2차원 DATA -> 1차원 VECTOR ==> 차원의 축소\n",
    "\n",
    "- 연산 명령 메소드\n",
    "    1. 최대/최소: min, max, argmin(최솟값 위치), argmax(최댓값 위치)\n",
    "    2. 통계: sum, mean, median, std, var\n",
    "    3. 불리언: all, any"
   ]
  },
  {
   "cell_type": "code",
   "execution_count": 34,
   "metadata": {},
   "outputs": [
    {
     "data": {
      "text/plain": [
       "array([1, 2, 3, 4])"
      ]
     },
     "execution_count": 34,
     "metadata": {},
     "output_type": "execute_result"
    }
   ],
   "source": [
    "x = np.array([1, 2, 3, 4])\n",
    "x"
   ]
  },
  {
   "cell_type": "code",
   "execution_count": 36,
   "metadata": {},
   "outputs": [
    {
     "data": {
      "text/plain": [
       "10"
      ]
     },
     "execution_count": 36,
     "metadata": {},
     "output_type": "execute_result"
    }
   ],
   "source": [
    "x.sum()\n",
    "np.sum(x)"
   ]
  },
  {
   "cell_type": "code",
   "execution_count": 40,
   "metadata": {},
   "outputs": [
    {
     "data": {
      "text/plain": [
       "array([[0, 0, 0, ..., 0, 0, 0],\n",
       "       [0, 0, 0, ..., 0, 0, 0],\n",
       "       [0, 0, 0, ..., 0, 0, 0],\n",
       "       ...,\n",
       "       [0, 0, 0, ..., 0, 0, 0],\n",
       "       [0, 0, 0, ..., 0, 0, 0],\n",
       "       [0, 0, 0, ..., 0, 0, 0]], dtype=int32)"
      ]
     },
     "execution_count": 40,
     "metadata": {},
     "output_type": "execute_result"
    }
   ],
   "source": [
    "a = np.zeros((100, 100), dtype='i')\n",
    "a"
   ]
  },
  {
   "cell_type": "code",
   "execution_count": 41,
   "metadata": {},
   "outputs": [
    {
     "data": {
      "text/plain": [
       "False"
      ]
     },
     "execution_count": 41,
     "metadata": {},
     "output_type": "execute_result"
    }
   ],
   "source": [
    "np.any(a!=0)"
   ]
  },
  {
   "cell_type": "code",
   "execution_count": 42,
   "metadata": {},
   "outputs": [
    {
     "data": {
      "text/plain": [
       "True"
      ]
     },
     "execution_count": 42,
     "metadata": {},
     "output_type": "execute_result"
    }
   ],
   "source": [
    "np.all(a==0)"
   ]
  },
  {
   "cell_type": "code",
   "execution_count": 43,
   "metadata": {},
   "outputs": [],
   "source": [
    "a = np.array([1, 2, 3, 2])\n",
    "b = np.array([2, 2, 3, 2])\n",
    "c = np.array([6, 4, 4, 5])"
   ]
  },
  {
   "cell_type": "code",
   "execution_count": 44,
   "metadata": {},
   "outputs": [
    {
     "data": {
      "text/plain": [
       "False"
      ]
     },
     "execution_count": 44,
     "metadata": {},
     "output_type": "execute_result"
    }
   ],
   "source": [
    "((a < b) & (b <= c)).all()"
   ]
  },
  {
   "cell_type": "code",
   "execution_count": 45,
   "metadata": {},
   "outputs": [
    {
     "data": {
      "text/plain": [
       "array([[1, 1],\n",
       "       [2, 2]])"
      ]
     },
     "execution_count": 45,
     "metadata": {},
     "output_type": "execute_result"
    }
   ],
   "source": [
    "x = np.array([[1, 1], [2, 2]])\n",
    "x"
   ]
  },
  {
   "cell_type": "code",
   "execution_count": 46,
   "metadata": {},
   "outputs": [
    {
     "data": {
      "text/plain": [
       "array([3, 3])"
      ]
     },
     "execution_count": 46,
     "metadata": {},
     "output_type": "execute_result"
    }
   ],
   "source": [
    "x.sum(axis = 0) # 열 연산"
   ]
  },
  {
   "cell_type": "code",
   "execution_count": 48,
   "metadata": {},
   "outputs": [
    {
     "data": {
      "text/plain": [
       "array([2, 4])"
      ]
     },
     "execution_count": 48,
     "metadata": {},
     "output_type": "execute_result"
    }
   ],
   "source": [
    "x.sum(axis = 1) # 행 연산"
   ]
  },
  {
   "cell_type": "code",
   "execution_count": 59,
   "metadata": {},
   "outputs": [],
   "source": [
    "arr = np.random.randint(1, 30, size = (5,6))\n",
    "arr = arr.astype('f')"
   ]
  },
  {
   "cell_type": "code",
   "execution_count": 62,
   "metadata": {},
   "outputs": [
    {
     "data": {
      "text/plain": [
       "array([[20.,  1., 24.,  2., 27., 19.],\n",
       "       [ 8.,  1., 16.,  7., 19., 28.],\n",
       "       [ 4., 29., 19., 28.,  1.,  5.],\n",
       "       [15., 15.,  3., 19., 27., 29.],\n",
       "       [ 1., 14., 19.,  1., 12., 19.]], dtype=float32)"
      ]
     },
     "execution_count": 62,
     "metadata": {},
     "output_type": "execute_result"
    }
   ],
   "source": [
    "arr"
   ]
  },
  {
   "cell_type": "code",
   "execution_count": 61,
   "metadata": {},
   "outputs": [
    {
     "data": {
      "text/plain": [
       "29.0"
      ]
     },
     "execution_count": 61,
     "metadata": {},
     "output_type": "execute_result"
    }
   ],
   "source": [
    "np.max(arr) #전체 최댓값"
   ]
  },
  {
   "cell_type": "code",
   "execution_count": 63,
   "metadata": {},
   "outputs": [
    {
     "data": {
      "text/plain": [
       "array([ 93.,  79.,  86., 108.,  66.], dtype=float32)"
      ]
     },
     "execution_count": 63,
     "metadata": {},
     "output_type": "execute_result"
    }
   ],
   "source": [
    "# 각 행의 합\n",
    "arr.sum(axis = 1)"
   ]
  },
  {
   "cell_type": "code",
   "execution_count": 65,
   "metadata": {},
   "outputs": [
    {
     "data": {
      "text/plain": [
       "array([27., 28., 29., 29., 19.], dtype=float32)"
      ]
     },
     "execution_count": 65,
     "metadata": {},
     "output_type": "execute_result"
    }
   ],
   "source": [
    "arr.max(axis = 1)"
   ]
  },
  {
   "cell_type": "code",
   "execution_count": 66,
   "metadata": {},
   "outputs": [
    {
     "data": {
      "text/plain": [
       "array([ 9.6, 12. , 16.2, 11.4, 17.2, 20. ], dtype=float32)"
      ]
     },
     "execution_count": 66,
     "metadata": {},
     "output_type": "execute_result"
    }
   ],
   "source": [
    "arr.mean(axis = 0)"
   ]
  },
  {
   "cell_type": "code",
   "execution_count": 67,
   "metadata": {},
   "outputs": [
    {
     "data": {
      "text/plain": [
       "array([1., 1., 3., 1., 1., 5.], dtype=float32)"
      ]
     },
     "execution_count": 67,
     "metadata": {},
     "output_type": "execute_result"
    }
   ],
   "source": [
    "arr.min(axis=0)"
   ]
  },
  {
   "cell_type": "markdown",
   "metadata": {},
   "source": [
    "### 정렬\n",
    "1. sort()\n",
    "    - 디폴트는 -1 ; 가장 안쪽 차원을 먼저 정렬\n",
    "    - in-place 메서드이므로 주의!\n",
    "2. argsort()\n",
    "    - sort와 역할 동일\n",
    "    - Non in-place 메서드"
   ]
  },
  {
   "cell_type": "code",
   "execution_count": 69,
   "metadata": {},
   "outputs": [
    {
     "data": {
      "text/plain": [
       "array([[ 4,  3,  5,  7],\n",
       "       [ 1, 12, 11,  9],\n",
       "       [ 2, 15,  1, 14]])"
      ]
     },
     "execution_count": 69,
     "metadata": {},
     "output_type": "execute_result"
    }
   ],
   "source": [
    "a = np.array([[4,  3,  5,  7],\n",
    "              [1, 12, 11,  9],\n",
    "              [2, 15,  1, 14]])\n",
    "a"
   ]
  },
  {
   "cell_type": "code",
   "execution_count": 70,
   "metadata": {},
   "outputs": [
    {
     "data": {
      "text/plain": [
       "array([[ 3,  4,  5,  7],\n",
       "       [ 1,  9, 11, 12],\n",
       "       [ 1,  2, 14, 15]])"
      ]
     },
     "execution_count": 70,
     "metadata": {},
     "output_type": "execute_result"
    }
   ],
   "source": [
    "np.sort(a)"
   ]
  },
  {
   "cell_type": "code",
   "execution_count": 71,
   "metadata": {},
   "outputs": [
    {
     "data": {
      "text/plain": [
       "array([[ 1,  3,  1,  7],\n",
       "       [ 2, 12,  5,  9],\n",
       "       [ 4, 15, 11, 14]])"
      ]
     },
     "execution_count": 71,
     "metadata": {},
     "output_type": "execute_result"
    }
   ],
   "source": [
    "np.sort(a, axis = 0)"
   ]
  },
  {
   "cell_type": "markdown",
   "metadata": {},
   "source": [
    "### Random"
   ]
  },
  {
   "cell_type": "code",
   "execution_count": 7,
   "metadata": {},
   "outputs": [],
   "source": [
    "# 1. Seed : 파이썬에서 난수를 생성하는 random은 실제 무작위는 아니다.\n",
    "# 주어진 seed를 통해 규칙적으로 난수를 생성하기 때문에,\n",
    "# 두 랜덤 배열의 Seed가 같다면, 난수 배열이 같다.\n",
    "np.random.seed(0)\n",
    "a = np.random.rand(5)\n",
    "a1 = np.random.rand(10)\n"
   ]
  },
  {
   "cell_type": "code",
   "execution_count": 8,
   "metadata": {},
   "outputs": [],
   "source": [
    "np.random.seed(0)\n",
    "b = np.random.rand(5)\n",
    "b1 = np.random.rand(10)"
   ]
  },
  {
   "cell_type": "code",
   "execution_count": 9,
   "metadata": {},
   "outputs": [
    {
     "data": {
      "text/plain": [
       "array([ True,  True,  True,  True,  True])"
      ]
     },
     "execution_count": 9,
     "metadata": {},
     "output_type": "execute_result"
    }
   ],
   "source": [
    "a == b"
   ]
  },
  {
   "cell_type": "code",
   "execution_count": 10,
   "metadata": {},
   "outputs": [
    {
     "data": {
      "text/plain": [
       "array([0, 1, 2, 3, 4, 5, 6, 7, 8, 9])"
      ]
     },
     "execution_count": 10,
     "metadata": {},
     "output_type": "execute_result"
    }
   ],
   "source": [
    "# 2. Shuffle : 무작위 순서 변경\n",
    "x = np.arange(10)\n",
    "x"
   ]
  },
  {
   "cell_type": "code",
   "execution_count": 11,
   "metadata": {},
   "outputs": [],
   "source": [
    "np.random.shuffle(x) # in-place method"
   ]
  },
  {
   "cell_type": "code",
   "execution_count": 12,
   "metadata": {},
   "outputs": [
    {
     "data": {
      "text/plain": [
       "array([5, 1, 8, 2, 6, 7, 0, 3, 4, 9])"
      ]
     },
     "execution_count": 12,
     "metadata": {},
     "output_type": "execute_result"
    }
   ],
   "source": [
    "x"
   ]
  },
  {
   "cell_type": "markdown",
   "metadata": {},
   "source": [
    "### 3. Data Sampling : 데이터 집합에서 일부를 무작위 선택 \n",
    "    - 가설 검정 및 머신러닝을 위한 샘플 추출에 활용\n",
    "    - numpy.random.choice(a, size=None, replace=True, p=None)\n",
    "        1. a : 샘플링한 데이터 원본, 정수라면 arange 명령으로 데이터를 생성함\n",
    "        2. size : 정수, 샘플 숫자\n",
    "        3. replace : Boolean, True라면 선택된 데이터 재선택 가능\n",
    "        4. p : 배열, 각 데이터가 선택될 수 있는 확률"
   ]
  },
  {
   "cell_type": "code",
   "execution_count": 16,
   "metadata": {},
   "outputs": [
    {
     "data": {
      "text/plain": [
       "array([4, 2, 3, 1, 0])"
      ]
     },
     "execution_count": 16,
     "metadata": {},
     "output_type": "execute_result"
    }
   ],
   "source": [
    "np.random.choice(5,5,replace = False)\n",
    "# 위와 같은 명령은 shuffle과 같은 결과 반환\n",
    "# arange(5)에서 5개 추출하는데, 비복원추출로 진행"
   ]
  },
  {
   "cell_type": "code",
   "execution_count": 18,
   "metadata": {},
   "outputs": [
    {
     "data": {
      "text/plain": [
       "array([0, 1, 4])"
      ]
     },
     "execution_count": 18,
     "metadata": {},
     "output_type": "execute_result"
    }
   ],
   "source": [
    "np.random.choice(5,3,replace=False)"
   ]
  },
  {
   "cell_type": "code",
   "execution_count": 19,
   "metadata": {},
   "outputs": [
    {
     "data": {
      "text/plain": [
       "array([4, 2, 0, 0, 4, 0, 4, 1, 4, 1])"
      ]
     },
     "execution_count": 19,
     "metadata": {},
     "output_type": "execute_result"
    }
   ],
   "source": [
    "np.random.choice(5,10)"
   ]
  },
  {
   "cell_type": "code",
   "execution_count": 21,
   "metadata": {},
   "outputs": [
    {
     "data": {
      "text/plain": [
       "array([2, 0, 3, 3, 3, 3, 3, 3, 3, 3])"
      ]
     },
     "execution_count": 21,
     "metadata": {},
     "output_type": "execute_result"
    }
   ],
   "source": [
    "np.random.choice(5,10,p=[0.1,0,0.3,0.6,0])\n",
    "# 0~4까지 5개의 원소가 추출될 수 있는 확률을 제한함\n",
    "# 0 = 10% / 2 = 30% / 4 = 60% / else = 0%"
   ]
  },
  {
   "cell_type": "code",
   "execution_count": 22,
   "metadata": {},
   "outputs": [
    {
     "data": {
      "text/plain": [
       "array([1, 0, 1, 0, 1, 1, 1, 0, 1, 1])"
      ]
     },
     "execution_count": 22,
     "metadata": {},
     "output_type": "execute_result"
    }
   ],
   "source": [
    "# 동전을 10번 던져 앞면(숫자 1)과 뒷면(숫자 0)이 나오는 가상 실험 코드\n",
    "np.random.choice(2, 10, p=[0.5,0.5])"
   ]
  },
  {
   "cell_type": "code",
   "execution_count": 24,
   "metadata": {},
   "outputs": [
    {
     "data": {
      "text/plain": [
       "3.69"
      ]
     },
     "execution_count": 24,
     "metadata": {},
     "output_type": "execute_result"
    }
   ],
   "source": [
    "# 주사위를 100번 던져서 나오는 숫자의 평균\n",
    "dice = np.random.randint(1,7,100)\n",
    "dice.mean()"
   ]
  },
  {
   "cell_type": "code",
   "execution_count": 32,
   "metadata": {},
   "outputs": [
    {
     "data": {
      "text/plain": [
       "[9955.623708626312,\n",
       " 9859.693950615268,\n",
       " 9947.364253480946,\n",
       " 10070.438434709431,\n",
       " 10088.114837094108,\n",
       " 10203.063304990546,\n",
       " 10206.53078059761,\n",
       " 10121.533448033897,\n",
       " 10251.973080482974,\n",
       " 10234.354534143386,\n",
       " 10289.501093091243,\n",
       " 10493.086087624837,\n",
       " 10586.37174390311,\n",
       " 10607.453545489552,\n",
       " 10418.251965518451,\n",
       " 10596.703418953408,\n",
       " 10494.629414578803,\n",
       " 10638.310158853124,\n",
       " 10688.53499333962,\n",
       " 10594.436600149907,\n",
       " 10598.225646826582,\n",
       " 10727.287026764514,\n",
       " 10760.17888839196,\n",
       " 10659.057169318707,\n",
       " 10729.280899887664,\n",
       " 10588.491012954395,\n",
       " 10519.851055736344,\n",
       " 10553.40700059233,\n",
       " 10821.469123467323,\n",
       " 10747.434113968096,\n",
       " 10663.650449407713,\n",
       " 10595.149024919456,\n",
       " 10731.248908244504,\n",
       " 10804.129558051542,\n",
       " 10952.432336077607,\n",
       " 10851.037725700871,\n",
       " 10989.743047605089,\n",
       " 11029.389692502407,\n",
       " 11095.087610482793,\n",
       " 11029.102891734663,\n",
       " 10928.964446506576,\n",
       " 10814.065693186598,\n",
       " 10824.072432756348,\n",
       " 10675.212167400188,\n",
       " 10531.47256054277,\n",
       " 10463.2891132815,\n",
       " 10580.905066682162,\n",
       " 10710.606894337896,\n",
       " 10698.22060935575,\n",
       " 10666.015467521496,\n",
       " 10527.421333863564,\n",
       " 10526.13385364707,\n",
       " 10516.021767089065,\n",
       " 10427.347877330363,\n",
       " 10499.130538828626,\n",
       " 10464.069694755904,\n",
       " 10427.537190531113,\n",
       " 10623.4605362792,\n",
       " 10677.947570997394,\n",
       " 10507.282937203729,\n",
       " 10572.60366056775,\n",
       " 10489.475346396057,\n",
       " 10508.815735651979,\n",
       " 10561.97106536947,\n",
       " 10480.949263634418,\n",
       " 10534.8656944977,\n",
       " 10532.98840403175,\n",
       " 10709.256709118916,\n",
       " 10686.840073980906,\n",
       " 10605.555002989531,\n",
       " 10663.783469817634,\n",
       " 10835.548021563007,\n",
       " 10904.153424375045,\n",
       " 10915.640447876398,\n",
       " 11126.903289581647,\n",
       " 11325.962654166235,\n",
       " 11490.98210385477,\n",
       " 11573.697411011368,\n",
       " 11474.510721244493,\n",
       " 11565.058688328963,\n",
       " 11407.526638283154,\n",
       " 11547.569189359574,\n",
       " 11616.005419184135,\n",
       " 11801.13025515825,\n",
       " 11705.93977536284,\n",
       " 11803.446390677664,\n",
       " 11809.173898618263,\n",
       " 11660.218011232322,\n",
       " 11616.249215554739,\n",
       " 11720.787214581173,\n",
       " 11815.858884642914,\n",
       " 11709.10820806505,\n",
       " 11709.502296915944,\n",
       " 11759.71571331681,\n",
       " 11578.062046942983,\n",
       " 11400.038088441477,\n",
       " 11475.133054350996,\n",
       " 11583.1672537263,\n",
       " 11620.939740752168,\n",
       " 11694.79304759811,\n",
       " 11530.213354172069,\n",
       " 11497.382562477236,\n",
       " 11633.946937894945,\n",
       " 11723.733395512885,\n",
       " 11711.376725596921,\n",
       " 12004.470962148765,\n",
       " 12036.018186887612,\n",
       " 11993.587215086774,\n",
       " 12134.37999908017,\n",
       " 12130.997583252758,\n",
       " 12035.162339817434,\n",
       " 12033.206091988028,\n",
       " 12095.209015597093,\n",
       " 12061.168992336754,\n",
       " 12073.547992209938,\n",
       " 12069.172547753356,\n",
       " 11821.04826347419,\n",
       " 11718.909028440052,\n",
       " 11699.505948615142,\n",
       " 11870.218012403911,\n",
       " 11879.226010545317,\n",
       " 12053.873131016144,\n",
       " 12137.410617307763,\n",
       " 12333.672683331266,\n",
       " 12214.286588087518,\n",
       " 12384.360055735073,\n",
       " 12260.334440874933,\n",
       " 12504.07404283539,\n",
       " 12294.982333296517,\n",
       " 12086.406938712998,\n",
       " 12142.079954085722,\n",
       " 12242.001590556638,\n",
       " 12190.102241426785,\n",
       " 12153.618566864374,\n",
       " 12150.509835730474,\n",
       " 12080.167654695533,\n",
       " 12186.827035469305,\n",
       " 12210.6119806858,\n",
       " 12184.378177048204,\n",
       " 12266.62993161248,\n",
       " 12276.441363036078,\n",
       " 12368.852761072754,\n",
       " 12213.352364555207,\n",
       " 12248.752910569508,\n",
       " 12210.29365935696,\n",
       " 12152.680532677598,\n",
       " 12114.788980469511,\n",
       " 12063.500720172873,\n",
       " 12194.888983487508,\n",
       " 12209.2485543115,\n",
       " 12186.370219132214,\n",
       " 12196.374783416943,\n",
       " 12189.304520315847,\n",
       " 11997.378192812414,\n",
       " 12079.639569145516,\n",
       " 12139.137498920107,\n",
       " 12079.598949932688,\n",
       " 12035.713659598472,\n",
       " 12060.063441199001,\n",
       " 12121.657227138905,\n",
       " 12082.016450925536,\n",
       " 12137.57141957074,\n",
       " 12094.779662572038,\n",
       " 11988.998956229729,\n",
       " 11965.548968602177,\n",
       " 11952.002108806482,\n",
       " 11798.325073030584,\n",
       " 11886.422700508638,\n",
       " 11675.26924816269,\n",
       " 11626.5040382709,\n",
       " 11615.429564226235,\n",
       " 11709.0218705715,\n",
       " 11436.441981468006,\n",
       " 11638.087881854368,\n",
       " 11498.131536747278,\n",
       " 11377.801172805874,\n",
       " 11283.789741560542,\n",
       " 11211.425149671626,\n",
       " 10969.061466731187,\n",
       " 10957.780279718785,\n",
       " 10903.355843121033,\n",
       " 10882.20823660616,\n",
       " 11071.077576684103,\n",
       " 10977.479171551531,\n",
       " 10824.08843322766,\n",
       " 10800.038875490662,\n",
       " 10703.147049383451,\n",
       " 10698.766639386886,\n",
       " 10777.236353411874,\n",
       " 10661.822574250393,\n",
       " 10940.189230891836,\n",
       " 11090.911541731348,\n",
       " 11120.554454011848,\n",
       " 11200.11875886866,\n",
       " 11170.351946261588,\n",
       " 11179.256347141805,\n",
       " 11149.417095345872,\n",
       " 11040.523488961026,\n",
       " 11081.601600474216,\n",
       " 11251.935376663378,\n",
       " 11159.460651721662,\n",
       " 11228.280318463962,\n",
       " 11222.855657842952,\n",
       " 10927.021867628411,\n",
       " 11010.252451429329,\n",
       " 11047.645101382737,\n",
       " 11125.525973325983,\n",
       " 11105.766514668529,\n",
       " 11032.141352386168,\n",
       " 10979.04449677319,\n",
       " 11010.023270963498,\n",
       " 10792.026591761949,\n",
       " 10799.644414606588,\n",
       " 10803.062698150334,\n",
       " 10768.837737145555,\n",
       " 10678.0929545219,\n",
       " 10764.500999197002,\n",
       " 10698.277395266956,\n",
       " 10740.54348476718,\n",
       " 10770.803540271894,\n",
       " 10778.367222397217,\n",
       " 10826.718765831672,\n",
       " 10712.496752610117,\n",
       " 10398.517587147244,\n",
       " 10382.100151918545,\n",
       " 10404.354478024015,\n",
       " 10558.483101985916,\n",
       " 10420.3390770913,\n",
       " 10398.794035031468,\n",
       " 10409.264092635922,\n",
       " 10341.486249143729,\n",
       " 10238.841630352257,\n",
       " 10162.245444388127,\n",
       " 10097.45949114593,\n",
       " 10076.664545053873,\n",
       " 10012.170917342137,\n",
       " 9956.467018363668,\n",
       " 10036.32451965844,\n",
       " 10167.561636479955,\n",
       " 10100.682930584862,\n",
       " 10024.885120377647,\n",
       " 10193.22456292548,\n",
       " 10033.16765750227,\n",
       " 10081.785794517391,\n",
       " 10051.165271477825,\n",
       " 9895.488573651333,\n",
       " 9827.600748283041,\n",
       " 9812.45409410872,\n",
       " 9610.390527634418,\n",
       " 9606.44399433936]"
      ]
     },
     "execution_count": 32,
     "metadata": {},
     "output_type": "execute_result"
    }
   ],
   "source": [
    "# 가격이 10,000원인 주식이 있다. \n",
    "# 이 주식의 일간 수익률(%)은 기댓값이 0%이고 표준편차가 1%인 표준 정규 분포를 따른다고 하자. \n",
    "# 250일 동안의 주가를 무작위로 생성하라.\n",
    "\n",
    "# 1. 표준 정규분포를 따르는 일간 기대수익률 250일치를 얻는다.\n",
    "# 2. 10,000원으로 시작해 각 해당 일수의 기대수익률을 통해 250일동안 주가 배열을 구한다.\n",
    "stk_price = 10000\n",
    "exp_profit = np.random.randn(250) \n",
    "exp_stk_price = []\n",
    "for i in exp_profit:\n",
    "    stk_price *= (1 + i/100)\n",
    "    exp_stk_price.append(stk_price)\n",
    "exp_stk_price\n"
   ]
  }
 ],
 "metadata": {
  "kernelspec": {
   "display_name": "vsjupy",
   "language": "python",
   "name": "vsjupy"
  },
  "language_info": {
   "codemirror_mode": {
    "name": "ipython",
    "version": 3
   },
   "file_extension": ".py",
   "mimetype": "text/x-python",
   "name": "python",
   "nbconvert_exporter": "python",
   "pygments_lexer": "ipython3",
   "version": "3.9.18"
  }
 },
 "nbformat": 4,
 "nbformat_minor": 2
}
