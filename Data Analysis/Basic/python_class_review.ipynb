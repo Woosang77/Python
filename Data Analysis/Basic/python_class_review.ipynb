{
 "cells": [
  {
   "cell_type": "markdown",
   "metadata": {},
   "source": [
    "#### 객체지향 프로그램\n",
    "- 모든 개념을 객체로 보고 객체를 중심으로 프로그램을 진행하는 기법.\n",
    "- 객체지향 프로그래밍에서 클래스는 '설계도' 또는 '표준 틀'로 볼 수 있다.\n",
    "- ex) 주로 사용하는 list도 클래스 객체\n",
    "---"
   ]
  },
  {
   "cell_type": "markdown",
   "metadata": {},
   "source": [
    "클래스로부터 만들어지는 객체를 해당 클래스의 Instance라 한다.\n",
    "- 생성된 Instance는 클래스에 정의된 속성과 동작을 수행할 수 있다."
   ]
  },
  {
   "cell_type": "code",
   "execution_count": null,
   "metadata": {},
   "outputs": [],
   "source": [
    "'''\n",
    "class 클래스 이름 :\n",
    "    def __init__(self, ...)     # 생성자 : 클래스가 생성될 때, 기본으로 가져야할 속성들을 정의한다.\n",
    "        ...                     # 클래스를 초기화할 때 필요하며, 초기화를 하지 않는다면, 필요없음\n",
    "        \n",
    "    def method1 (self, ...)\n",
    "        ...\n",
    "        \n",
    "    def method2 (self, ...)\n",
    "        ...\n",
    "    \n",
    "    \n",
    "    #객체속성 정의 예시    \n",
    "    self.speed = 200\n",
    "    self.area = self.width*self.height\n",
    "'''\n",
    "\n",
    "'''\n",
    "객체 생성 방법\n",
    "1. 생성자가 없는 경우, \n",
    "    객체 = 클래스 이름()\n",
    "    \n",
    "2. 생성자가 있는 경우\n",
    "    객체 = 클래스 이름(a1, a2, ... [초기 생성에 필요한 인자들])\n",
    "'''"
   ]
  },
  {
   "cell_type": "code",
   "execution_count": 2,
   "metadata": {},
   "outputs": [
    {
     "name": "stdout",
     "output_type": "stream",
     "text": [
      "Rocky\n",
      "Rocky\n",
      "Cody\n",
      "Cody\n",
      "Pepe\n"
     ]
    }
   ],
   "source": [
    "# 클래스 생성 예시\n",
    "class Dog:\n",
    "    name = 'Rocky'\n",
    "\n",
    "dog1 = Dog()\n",
    "\n",
    "print(Dog.name)  # 클래스 자체 속성 호출\n",
    "print(dog1.name) # 객체의 속성 호출\n",
    "\n",
    "Dog.name = 'Cody' # 클래스 자체 속성 변경\n",
    "print(dog1.name) # 객체 속성 호출 --> 객체가 클래스\n",
    "\n",
    "dog1.name = 'Pepe'\n",
    "\n",
    "print(Dog.name)\n",
    "print(dog1.name)\n",
    "\n",
    "# 클래스의 속성을 바꾸면 생성된 객체의 속성이 따라 바뀌지만,\n",
    "# 객체가 속성을 바꾸어도 클래스의 속성은 유지된다."
   ]
  },
  {
   "cell_type": "code",
   "execution_count": 3,
   "metadata": {},
   "outputs": [
    {
     "name": "stdout",
     "output_type": "stream",
     "text": [
      "Toby\n",
      "Toby\n"
     ]
    }
   ],
   "source": [
    "class Dog2:\n",
    "    name = 'Rocky'\n",
    "    def show(self):\n",
    "        print(self.name)\n",
    "\n",
    "puppy = Dog2()      # 객체 생성\n",
    "puppy.name = 'Toby' # 객체 속성 변경\n",
    "print(puppy.name)   # 변경 완료\n",
    "\n",
    "puppy.show()\n",
    "# 함수 show는 self를 매개인자로 사용한다.\n",
    "# show를 호출한 객체 puppy를 self인자로 이용해 함수 내부와 같이 self(=puppy).name으로 작동된다."
   ]
  },
  {
   "cell_type": "markdown",
   "metadata": {},
   "source": [
    "#### 생성자 메서드 : 객체를 생성하는 시점에 한번 실행되는 메서드\n",
    "- \"__init__\"\n",
    "- 주로 파라미터를 받아 속성의 초기값 지정\n",
    "- 객체의 생성과 더불어 초기화(초기세팅) 작업을 처리\n",
    "\n",
    "##### + 소멸자 함수 : 객체가 소멸될 때 한번 실행됨\n",
    "- __del__()"
   ]
  },
  {
   "cell_type": "markdown",
   "metadata": {},
   "source": [
    "#### 데이터 은닉 : 외부의 접근으로부터 보호하고자 하는 속성과 메서도는 밑줄 2개로 시작함"
   ]
  },
  {
   "cell_type": "code",
   "execution_count": 4,
   "metadata": {},
   "outputs": [
    {
     "name": "stdout",
     "output_type": "stream",
     "text": [
      "39.111111111111114\n"
     ]
    },
    {
     "ename": "AttributeError",
     "evalue": "'People' object has no attribute '__weight'",
     "output_type": "error",
     "traceback": [
      "\u001b[1;31m---------------------------------------------------------------------------\u001b[0m",
      "\u001b[1;31mAttributeError\u001b[0m                            Traceback (most recent call last)",
      "Cell \u001b[1;32mIn[4], line 16\u001b[0m\n\u001b[0;32m     14\u001b[0m me \u001b[38;5;241m=\u001b[39m People(\u001b[38;5;124m'\u001b[39m\u001b[38;5;124mMario\u001b[39m\u001b[38;5;124m'\u001b[39m)\n\u001b[0;32m     15\u001b[0m \u001b[38;5;28mprint\u001b[39m(me\u001b[38;5;241m.\u001b[39mBMI())\n\u001b[1;32m---> 16\u001b[0m \u001b[38;5;28mprint\u001b[39m(\u001b[43mme\u001b[49m\u001b[38;5;241;43m.\u001b[39;49m\u001b[43m__weight\u001b[49m)\n\u001b[0;32m     17\u001b[0m \u001b[38;5;28mprint\u001b[39m(me\u001b[38;5;241m.\u001b[39m__height)        \n",
      "\u001b[1;31mAttributeError\u001b[0m: 'People' object has no attribute '__weight'"
     ]
    }
   ],
   "source": [
    "# 데이터 은닉 예시\n",
    "class People:\n",
    "    def __init__(self, name):\n",
    "        self.__weight=88\n",
    "        self.__height=1.50\n",
    "        self.name = name\n",
    "        \n",
    "    def __calc(self):\n",
    "        return self.__weight/self.__height**2\n",
    "    \n",
    "    def BMI(self):\n",
    "        return self.__calc() # height와 weight를 보호하기 위해 BMI를 통해 간접 접근하도록 유도\n",
    "\n",
    "me = People('Mario')\n",
    "print(me.BMI())\n",
    "print(me.__weight)  # Error (bcz it's private)\n",
    "print(me.__height)  # Error (bcz it's private) \n",
    "        "
   ]
  },
  {
   "cell_type": "markdown",
   "metadata": {},
   "source": [
    "#### 상속(Inheritance)\n",
    "- 이미 정의된 클래스가 있다면 상속을 통해 동일한 기능의 속성과 메서드를 사용할 수 있다.\n",
    "- 부모클래스와 자식클래스로 구분된다.\n",
    "- 자식 클래스는 부모 클래스로부터 상속받은 속성과 메서드를 제외하고 추가로 필요한 속성과 메서드를 정의한다."
   ]
  },
  {
   "cell_type": "code",
   "execution_count": 5,
   "metadata": {},
   "outputs": [
    {
     "data": {
      "text/plain": [
       "'\\nclass 자식클래스이름(부모클래스이름):\\n    추가 속성 정의\\n    추가 메서드 정의\\n'"
      ]
     },
     "execution_count": 5,
     "metadata": {},
     "output_type": "execute_result"
    }
   ],
   "source": [
    "# 자식 클래스의 정의\n",
    "'''\n",
    "class 자식클래스이름(부모클래스이름):\n",
    "    추가 속성 정의\n",
    "    추가 메서드 정의\n",
    "'''\n",
    "\n",
    "# 자식 클래스 내부에서 부모 클래스 메서드 호출\n",
    "#   1. 부모클래스이름.메서드이름(self,al,..)\n",
    "#   2. super(자식클래스이름, self).메서드 이름(a1,...)"
   ]
  },
  {
   "cell_type": "code",
   "execution_count": 7,
   "metadata": {},
   "outputs": [
    {
     "name": "stdout",
     "output_type": "stream",
     "text": [
      "순이 달려\n",
      "떼껄룩 야옹\n",
      "순이 멍멍\n"
     ]
    },
    {
     "ename": "AttributeError",
     "evalue": "'Animal' object has no attribute 'shout'",
     "output_type": "error",
     "traceback": [
      "\u001b[1;31m---------------------------------------------------------------------------\u001b[0m",
      "\u001b[1;31mAttributeError\u001b[0m                            Traceback (most recent call last)",
      "Cell \u001b[1;32mIn[7], line 24\u001b[0m\n\u001b[0;32m     21\u001b[0m c\u001b[38;5;241m.\u001b[39mshout()\n\u001b[0;32m     22\u001b[0m d\u001b[38;5;241m.\u001b[39mshout()\n\u001b[1;32m---> 24\u001b[0m \u001b[43ma\u001b[49m\u001b[38;5;241;43m.\u001b[39;49m\u001b[43mshout\u001b[49m()\n",
      "\u001b[1;31mAttributeError\u001b[0m: 'Animal' object has no attribute 'shout'"
     ]
    }
   ],
   "source": [
    "# 상속 클래스 예시\n",
    "class Animal:\n",
    "    def __init__(self, name):\n",
    "        self.name = name\n",
    "    def run(self):\n",
    "        print(f'{self.name} 달려')\n",
    "        \n",
    "class Dog(Animal):\n",
    "    def shout(self):\n",
    "        print(f'{self.name} 멍멍')\n",
    "\n",
    "class Cat(Animal):\n",
    "    def shout(self):\n",
    "        print(f'{self.name} 야옹')\n",
    "        \n",
    "d = Dog('순이')\n",
    "c = Cat('떼껄룩')\n",
    "a = Animal('사람')\n",
    "\n",
    "d.run()\n",
    "c.shout()\n",
    "d.shout()\n",
    "\n",
    "a.shout() # 부모클래스 Animal은 자식클래스에서 정의된 shout method가 없다.\n"
   ]
  },
  {
   "cell_type": "code",
   "execution_count": 9,
   "metadata": {},
   "outputs": [],
   "source": [
    "# Inheritance example No.2\n",
    "class Car:\n",
    "    def __init__(self, model, engine, color='black'):\n",
    "        self.model = model\n",
    "        self.engine = engine\n",
    "        self.color = color\n",
    "    def info(self):\n",
    "        print(f'Model : {self.model} / {self.engine}cc')\n",
    "        print(f'Color {self.color}')\n",
    "    def run(self):\n",
    "        print(f'{self.color} {self.model} 출발')\n",
    "\n",
    "class Truck(Car):\n",
    "    def __init__(self, model, engine, color='Blue', cap=5000):\n",
    "        #super(Truck, self).__init__(model, engine, color)\n",
    "        Car.__init__(self, model, engine, color)\n",
    "        self.capacity = cap\n",
    "        self.loading = 0\n",
    "    def load(self, w):\n",
    "        self.loading += w\n",
    "    def info(self):\n",
    "        #super(Truck, self).info()\n",
    "        Car.info(self)\n",
    "        print(f'Capacity :{self.capacity/1000:.1f} ton')\n",
    "        print(f'Current loading :{self.loading} kg')"
   ]
  },
  {
   "cell_type": "code",
   "execution_count": 10,
   "metadata": {},
   "outputs": [
    {
     "name": "stdout",
     "output_type": "stream",
     "text": [
      "Model : Mighty / 3900cc\n",
      "Color white\n",
      "Capacity :2.5 ton\n",
      "Current loading :700 kg\n",
      "white Mighty 출발\n"
     ]
    }
   ],
   "source": [
    "tr = Truck('Mighty', 3900, 'white',2500)\n",
    "tr.load(700)\n",
    "tr.info()\n",
    "tr.run()"
   ]
  },
  {
   "cell_type": "code",
   "execution_count": null,
   "metadata": {},
   "outputs": [],
   "source": []
  }
 ],
 "metadata": {
  "kernelspec": {
   "display_name": "vsjupy",
   "language": "python",
   "name": "vsjupy"
  },
  "language_info": {
   "codemirror_mode": {
    "name": "ipython",
    "version": 3
   },
   "file_extension": ".py",
   "mimetype": "text/x-python",
   "name": "python",
   "nbconvert_exporter": "python",
   "pygments_lexer": "ipython3",
   "version": "3.9.18"
  }
 },
 "nbformat": 4,
 "nbformat_minor": 2
}
