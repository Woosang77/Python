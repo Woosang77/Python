{
 "cells": [
  {
   "cell_type": "code",
   "execution_count": 1,
   "metadata": {},
   "outputs": [],
   "source": [
    "import pandas as pd\n",
    "import numpy as np"
   ]
  },
  {
   "cell_type": "code",
   "execution_count": 11,
   "metadata": {},
   "outputs": [
    {
     "name": "stdout",
     "output_type": "stream",
     "text": [
      "HELLO\n",
      "hello\n"
     ]
    },
    {
     "data": {
      "text/plain": [
       "['a', 'b', 'c', 'd']"
      ]
     },
     "execution_count": 11,
     "metadata": {},
     "output_type": "execute_result"
    }
   ],
   "source": [
    "#유용한 문자열(String)함수\n",
    "a = \"   HI   \"\n",
    "\n",
    "#대문자로 변환 - upper()\n",
    "print('hello'.upper()) \n",
    "#소문자로 변환 - lower()\n",
    "print('HELLO'.lower())\n",
    "\n",
    "#왼쪽 공백 제거 - lstrip()\n",
    "a.lstrip()\n",
    "#오른쪽 공백 제거 - rstrip()\n",
    "a.rstrip()\n",
    "#양쪽 공백 제거 - strip()\n",
    "a.strip()\n",
    "\n",
    "#문자열 교체 - replace(old string, new string)\n",
    "a = \"Life is too short\"\n",
    "a.replace(\"Life\",\"Your leg\")\n",
    "\n",
    "#문자열 나누기 - split() \n",
    "a.split() # result -> ['Life', 'is', 'too', 'short']\n",
    "b = \"a:b:c:d\"\n",
    "b.split(\":\") # result -> ['a', 'b', 'c', 'd']"
   ]
  },
  {
   "cell_type": "code",
   "execution_count": 27,
   "metadata": {},
   "outputs": [
    {
     "name": "stdout",
     "output_type": "stream",
     "text": [
      "6\n"
     ]
    },
    {
     "data": {
      "text/plain": [
       "[1, 3, 4, 5, 6, 8]"
      ]
     },
     "execution_count": 27,
     "metadata": {},
     "output_type": "execute_result"
    }
   ],
   "source": [
    "# 리스트 관련 함수 (len() / del / append() / insert() / remove() / pop() / sort() / reverse())\n",
    "b = [1, 2, 3]\n",
    "\n",
    "######################################### 범용적 함수\n",
    "\n",
    "# 리스트 길이(원소 개수) 구하기 - len() <= countable type에 대한 자료형\n",
    "len(b) # result - 3\n",
    "# 리스트 요소 삭제 - del <= 객체 함수임(모든 자료형에서 사용가능)\n",
    "del b[1]\n",
    "b  # [1, 3]\n",
    "\n",
    "########################################## 리스트 지정함수\n",
    "\n",
    "# 1. 요소 추가 - list.append(new_elements)\n",
    "# 리스트 끝에 추가됨\n",
    "b.append(4)\n",
    "b # [1, 3, 4]\n",
    "b.append([2,5])\n",
    "b # [1, 3, 4, [2, 5]]\n",
    "\n",
    "# 2. 요소 추가(삽입) - list.insert(where, new_element)\n",
    "# 리스트 내 특정 순서에 요소 삽입\n",
    "b.insert(2, 6)\n",
    "b # [1, 3, 6, 4, [2, 5]]\n",
    "b.append(6)\n",
    "b\n",
    "\n",
    "# 3. 요소 삭제 - remove(object)\n",
    "# 리스트 내에서 첫번째로 나오는 object를 삭제함\n",
    "b.remove(6)\n",
    "b # [1, 3, 4, [2, 5], 6]\n",
    "\n",
    "# 4. 요소 끄집어 내기 - pop(none) -> return object\n",
    "# 리스트 내 제일 마지막 요소를 return 후 리스트 내에서 삭제\n",
    "last_num = b.pop()\n",
    "print(last_num) # 6\n",
    "b # [1, 3, 4, [2, 5]]\n",
    "\n",
    "# 5. 역순 - reverse()\n",
    "b.reverse()\n",
    "b # [[2, 5], 4, 3, 1]\n",
    "\n",
    "# 6. 정렬 - sort()\n",
    "# 리스트 내 원소들이 같은 자료형일 때 사용가능\n",
    "a = [1,6,8,4,3,5]\n",
    "a.sort()\n",
    "a # [1, 3, 4, 5, 6, 8]"
   ]
  },
  {
   "cell_type": "markdown",
   "metadata": {},
   "source": [
    "List와 Tuple의 차이점\n",
    "    List - 내부 원소 변경 가능\n",
    "    Tuple - 내부 원소 변경 불가능\n",
    "        - 단지 인덱싱 / 슬라이싱 / 추가 / 곱하기 / 길이 구하기 가능\n",
    "        - 구체적 방식은 리스트와 동일"
   ]
  },
  {
   "cell_type": "markdown",
   "metadata": {},
   "source": [
    "Dictionary : Key-Value의 대응 관계로 구성된 자료형\n",
    "    - 형식 구조 : Dict = {Key1 : Value1, Key2 : Value2 ... }"
   ]
  },
  {
   "cell_type": "code",
   "execution_count": 47,
   "metadata": {},
   "outputs": [
    {
     "name": "stdout",
     "output_type": "stream",
     "text": [
      "<class 'dict_keys'>\n",
      "<class 'dict_values'>\n",
      "<class 'dict_items'>\n",
      "<class 'list'>\n",
      "None\n"
     ]
    },
    {
     "data": {
      "text/plain": [
       "False"
      ]
     },
     "execution_count": 47,
     "metadata": {},
     "output_type": "execute_result"
    }
   ],
   "source": [
    "# 딕셔너리 생성\n",
    "dic = {'name' : 'pey', 'phone' : '010-9999-1234', 'birth':'1118'}\n",
    "dic['name'] # result = pey\n",
    "# Key를 통한 Value 호출\n",
    "\n",
    "# 딕셔너리 쌍 추가 & 삭제(del)\n",
    "a = {1: 'a'}\n",
    "a[2] = 'b' \n",
    "a['name'] = 'pey'\n",
    "a[3] = [1,2,3]\n",
    "# 새로운 Key에 새로운 Value 추가\n",
    "a # {1: 'a', 2: 'b', 'name': 'pey', 3: [1, 2, 3]}\n",
    "del a['name']\n",
    "a # {1: 'a', 2: 'b', 3: [1, 2, 3]}\n",
    "\n",
    "# Dictionary 관련 함수 (keys() / values() / items() / clear() / get(key) / in )\n",
    "\n",
    "# Key 리스트 만들기 - keys()\n",
    "keys = dic.keys() # dict_keys(['name', 'phone', 'birth'])\n",
    "print(type(keys))\n",
    "# Value 리스트 만들기 - values()\n",
    "values = dic.values() # dict_values(['pey', '010-9999-1234', '1118'])\n",
    "print(type(values))\n",
    "# Key, Value 쌍 얻기 - items()\n",
    "items = dic.items() # dict_items([('name', 'pey'), ('phone', '010-9999-1234'), ('birth', '1118')])\n",
    "print(type(items))\n",
    "# 딕셔너리 내장함수를 통해 출력된 dict_keys / dict_values / dict_items는 변환할 수 없다. (append / remove / insert 등 불가능)\n",
    "# 해당 함수를 통해 리스트의 기능을 사용하기 위해서는 list() 함수로 감싸야 한다.\n",
    "keys = list(dic.keys())\n",
    "print(type(keys))\n",
    "'''\n",
    "<class 'dict_keys'>\n",
    "<class 'dict_values'>\n",
    "<class 'dict_items'>\n",
    "<class 'list'>\n",
    "    자료형의 차이가 있기 때문에, 딥하게 사용하기 위해서는 리스트 변환이 필요\n",
    "'''\n",
    "\n",
    "# Dictionary 속 key-value 전체 삭제 - clear()\n",
    "a.clear()\n",
    "a # {}\n",
    "\n",
    "# Key를 통한 Value 호출 함수 : get(key)\n",
    "a = {'name': 'pey', 'phone': '010-9999-1234', 'birth': '1118'}\n",
    "a.get('name')\n",
    "'''\n",
    "a.get(key)의 결과는 a[key]과 같다. 그렇다면, 해당 함수를 사용하는 목적은 뭘까?\n",
    "    get함수는 호출된 Key가 딕셔너리에 없으면 None을 리턴하지만,\n",
    "    단순호출(a[key])은 key가 없다면 오류를 발생시킨다.\n",
    "    함수를 정의하거나 실행하는 상황에서 리턴값을 요구한다면, None을 통해 오류를 발생시키지 않는 편이 낫다.\n",
    "'''\n",
    "print(a.get('age')) # None\n",
    "# print(a['age']) # KeyError: 'age'\n",
    "\n",
    "# 딕셔너리 안에 key 존재여부 조사 - in\n",
    "'name' in a  # result -> True\n",
    "'age' in a  # result -> False\n"
   ]
  },
  {
   "cell_type": "code",
   "execution_count": 12,
   "metadata": {},
   "outputs": [
    {
     "data": {
      "text/plain": [
       "{1, 2, 3, 4, 5, 6, 7, 8, 9, 10, 11, 12}"
      ]
     },
     "execution_count": 12,
     "metadata": {},
     "output_type": "execute_result"
    }
   ],
   "source": [
    "'''\n",
    "집합(Set) : a.k.a 바구니 - 담고 뺄 수 있지만, 담겨있는 요소들의 순서는 없다.\n",
    "    - 중복을 허용하지 않는다.\n",
    "    - 순서가 없다.  <=> List/Tuple\n",
    "'''\n",
    "# Generate\n",
    "s1 = set(\"Hello world\")\n",
    "s1 # {' ', 'H', 'd', 'e', 'l', 'o', 'r', 'w'}\n",
    "\n",
    "# 교집합 / 합집합 / 차집합\n",
    "s1 = set([1,2,3,4,5,6])\n",
    "s2 = set([4,5,6,7,8,9])\n",
    "# 교집합 ( & or 내장특성 intersection)\n",
    "s1 & s2             # {4, 5, 6}\n",
    "s1.intersection(s2) # {4, 5, 6}\n",
    "# 합집합 ( | or 내장특성 union)\n",
    "s1 | s2             # {1, 2, 3, 4, 5, 6, 7, 8, 9}\n",
    "s1.union(s2)        # {1, 2, 3, 4, 5, 6, 7, 8, 9}\n",
    "# 차집합 ( - or 내장특성 difference)\n",
    "s1 - s2             # {1, 2, 3}\n",
    "s1.difference(s2)   # {1, 2, 3}\n",
    "\n",
    "# 집합 관련 함수 (add / update / remove)\n",
    "# add - 1개 값 추가\n",
    "s1.add(7)\n",
    "s1                  # {1, 2, 3, 4, 5, 6, 7}\n",
    "# update - 값 여러개 추가\n",
    "s1.update([8,9,10])\n",
    "s1                  # {1, 2, 3, 4, 5, 6, 7, 8, 9, 10}\n",
    "s3 = set([11,12,13])\n",
    "s1.update(s3)    # 다른 집합을 추가하는 것도 가능\n",
    "s1                  # {1, 2, 3, 4, 5, 6, 7, 8, 9, 10, 11, 12, 13}\n",
    "# remove - 특정 값 삭제\n",
    "s1.remove(13)\n",
    "s1                  # {1, 2, 3, 4, 5, 6, 7, 8, 9, 10, 11, 12}"
   ]
  },
  {
   "cell_type": "code",
   "execution_count": 14,
   "metadata": {},
   "outputs": [
    {
     "data": {
      "text/plain": [
       "'success'"
      ]
     },
     "execution_count": 14,
     "metadata": {},
     "output_type": "execute_result"
    }
   ],
   "source": [
    "# If 조건문 되새김\n",
    "\n",
    "# 조건부 표현식 : 변수 = 조건문이 참인 경우 값 if 조건문 else 조건문이 거짓일 경우 값\n",
    "score = 90\n",
    "message = \"success\" if score >= 70 else \"failure\"\n",
    "# 아래 식과 같은 표현식임 \n",
    "'''\n",
    "    if score >= 90:\n",
    "        message = \"success\" \n",
    "    else:\n",
    "        message = \"failure\"\n",
    "'''\n",
    "message         # \"success\""
   ]
  },
  {
   "cell_type": "code",
   "execution_count": null,
   "metadata": {},
   "outputs": [],
   "source": [
    "# For문 정리"
   ]
  }
 ],
 "metadata": {
  "kernelspec": {
   "display_name": "vsjupy",
   "language": "python",
   "name": "vsjupy"
  },
  "language_info": {
   "codemirror_mode": {
    "name": "ipython",
    "version": 3
   },
   "file_extension": ".py",
   "mimetype": "text/x-python",
   "name": "python",
   "nbconvert_exporter": "python",
   "pygments_lexer": "ipython3",
   "version": "3.9.18"
  }
 },
 "nbformat": 4,
 "nbformat_minor": 2
}
