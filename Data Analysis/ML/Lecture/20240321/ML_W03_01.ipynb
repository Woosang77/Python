{
 "cells": [
  {
   "cell_type": "markdown",
   "metadata": {},
   "source": [
    "<font color='tomato'><font color=\"#CC3D3D\"><p>\n",
    "# 실습#1. Regression with scikit-learn"
   ]
  },
  {
   "cell_type": "markdown",
   "metadata": {},
   "source": [
    "#### 자주 사용하는 사이킷런 모듈\n",
    "- 데이터 정제(Data Cleasing) & 속성 공학(Feature Engineering)\n",
    "    - sklearn.preprocessing: 데이터 전처리(인코딩, 정규화 등)\n",
    "    - sklearn.feature_selection: 속성선택\n",
    "    - sklearn.feature_extraction: 속성추출(이미지나 텍스트에서 속성 추출)\n",
    "- 모형 성능 평가와 개선\n",
    "    - sklearn.model_selection: 데이터 분리, 검증 및 파라미터 튜닝(GridSearch 등)\n",
    "    - sklearn.metrics: 성능평가(Recall, Precision, AUC 등)\n",
    "- 지도학습(Supervised Learning) 알고리즘\n",
    "    - sklearn.ensemble: 앙상블 알고리즘(RF, AdaBoost 등)\n",
    "    - sklearn.linear_model: 선형모델(선형회귀, 로지스틱회귀 등) \n",
    "    - sklearn.svm: Support Vector Machines (SVM)\n",
    "    - sklearn.tree: 의사결정나무(Decision Trees)\n",
    "- 비지도학습(Unsupervised Learning) 알고리즘\n",
    "    - sklearn.cluster: 군집분석(K-means, DBSCAN 등)\n",
    "    - sklearn.decomposition: 차원축소(PCA, SVD 등)\n",
    "- 유틸리티와 데이터 세트 \n",
    "    - sklearn.pipeline: 워크플로우 효율화\n",
    "    - sklearn.datasets: 예제 데이터 세트(iris, digits 데이터 등) \n",
    "    \n",
    "#### 사이킷런 기반 머신러닝 프레임워크    \n",
    "- 사이킷런에서는 분류 알고리즘을 구현한 클래스를 **Classifier**로, 회귀 알고리즘을 구현한 클래스를 **Regressor**로 지칭\n",
    "    - Ex) DecisionTreeClassifier(분류문제에 사용하는 의사결정나무) vs. DecisionTreeRegressor(회귀문제에 사용하는 의사결정나무)\n",
    "- Classifier와 Regressor를 합쳐서 **Estimator** 클래스라고 함\n",
    "    - ML 학습을 위해 fit()을, 예측을 위해 predict()를 제공    "
   ]
  },
  {
   "cell_type": "code",
   "execution_count": null,
   "metadata": {},
   "outputs": [],
   "source": [
    "import sklearn\n",
    "sklearn.__version__"
   ]
  },
  {
   "cell_type": "markdown",
   "metadata": {},
   "source": [
    "#### 데이터 준비"
   ]
  },
  {
   "cell_type": "code",
   "execution_count": null,
   "metadata": {},
   "outputs": [],
   "source": [
    "import pandas as pd\n",
    "\n",
    "X = pd.read_csv('boston_features.csv')\n",
    "y = pd.read_csv('boston_target.csv')"
   ]
  },
  {
   "cell_type": "code",
   "execution_count": null,
   "metadata": {},
   "outputs": [],
   "source": [
    "X"
   ]
  },
  {
   "cell_type": "code",
   "execution_count": null,
   "metadata": {},
   "outputs": [],
   "source": [
    "y"
   ]
  },
  {
   "cell_type": "markdown",
   "metadata": {},
   "source": [
    "보스턴 주택 가격 데이터: 506개 타운의 주택 가격 중앙값 (단위 1,000 달러)\n",
    " - CRIM: 범죄율\n",
    " - ZN: 25,000 평방피트를 초과 거주지역 비율\n",
    " - INDUS: 비소매상업지역 면적 비율\n",
    " - CHAS: 찰스강의 경계에 위치한 경우는 1, 아니면 0\n",
    " - NOX: 일산화질소 농도\n",
    " - RM: 주택당 방 수\n",
    " - AGE: 1940년 이전에 건축된 주택의 비율\n",
    " - DIS: 직업센터의 거리\n",
    " - RAD: 방사형 고속도로까지의 거리\n",
    " - TAX: 재산세율\n",
    " - PTRATIO: 학생/교사 비율\n",
    " - B: 인구 중 흑인 비율\n",
    " - LSTAT: 인구 중 하위 계층 비율"
   ]
  },
  {
   "cell_type": "markdown",
   "metadata": {},
   "source": [
    "#### 데이터 분할"
   ]
  },
  {
   "cell_type": "code",
   "execution_count": null,
   "metadata": {},
   "outputs": [],
   "source": [
    "from sklearn.model_selection import train_test_split"
   ]
  },
  {
   "cell_type": "code",
   "execution_count": null,
   "metadata": {},
   "outputs": [],
   "source": [
    "X_train, X_test, y_train, y_test = train_test_split(X, y, test_size=0.3, random_state=0)"
   ]
  },
  {
   "cell_type": "markdown",
   "metadata": {},
   "source": [
    "#### 모형 생성 - 선형회귀분석"
   ]
  },
  {
   "cell_type": "code",
   "execution_count": null,
   "metadata": {},
   "outputs": [],
   "source": [
    "from sklearn.linear_model import LinearRegression"
   ]
  },
  {
   "cell_type": "code",
   "execution_count": null,
   "metadata": {},
   "outputs": [],
   "source": [
    "model = LinearRegression()"
   ]
  },
  {
   "cell_type": "code",
   "execution_count": null,
   "metadata": {},
   "outputs": [],
   "source": [
    "model.fit(X_train, y_train)"
   ]
  },
  {
   "cell_type": "markdown",
   "metadata": {},
   "source": [
    "#### 모형 검토"
   ]
  },
  {
   "cell_type": "code",
   "execution_count": null,
   "metadata": {},
   "outputs": [],
   "source": [
    "print(model.coef_)\n",
    "print(model.intercept_)"
   ]
  },
  {
   "cell_type": "markdown",
   "metadata": {},
   "source": [
    "#### 모형 평가"
   ]
  },
  {
   "cell_type": "code",
   "execution_count": null,
   "metadata": {},
   "outputs": [],
   "source": [
    "model.score(X_test, y_test) # R-square(r2_score)"
   ]
  },
  {
   "cell_type": "markdown",
   "metadata": {},
   "source": [
    "#### 분석결과 시각화"
   ]
  },
  {
   "cell_type": "code",
   "execution_count": null,
   "metadata": {},
   "outputs": [],
   "source": [
    "y_pred = model.predict(X_test)\n",
    "y_pred"
   ]
  },
  {
   "cell_type": "code",
   "execution_count": null,
   "metadata": {},
   "outputs": [],
   "source": [
    "import matplotlib.pyplot as plt\n",
    "import seaborn as sns\n",
    "%matplotlib inline\n",
    "\n",
    "plt.scatter(y_test, y_pred, edgecolors=(0, 0, 0))\n",
    "plt.plot([y_test.min(), y_test.max()], [y_test.min(), y_test.max()], 'k--', lw=4)\n",
    "plt.xlabel('Measured')\n",
    "plt.ylabel('Predicted')"
   ]
  },
  {
   "cell_type": "markdown",
   "metadata": {},
   "source": [
    "#### 새로운 모형 생성 - 회귀나무모형"
   ]
  },
  {
   "cell_type": "code",
   "execution_count": null,
   "metadata": {},
   "outputs": [],
   "source": [
    "from sklearn.tree import DecisionTreeRegressor\n",
    "\n",
    "model = DecisionTreeRegressor(random_state=0)\n",
    "model.fit(X_train, y_train)\n",
    "model.score(X_test, y_test)"
   ]
  },
  {
   "cell_type": "code",
   "execution_count": null,
   "metadata": {},
   "outputs": [],
   "source": [
    "# 정해진 형식으로 예측결과를 저장\n",
    "output = pd.DataFrame({'house_id': range(X_test.shape[0]), 'house_price': y_pred.flatten()})\n",
    "output.to_csv('submission.csv', index=False)"
   ]
  },
  {
   "cell_type": "markdown",
   "metadata": {},
   "source": [
    "<font color='tomato'><font color=\"#CC3D3D\"><p>\n",
    "# End"
   ]
  }
 ],
 "metadata": {
  "kernelspec": {
   "display_name": "Python 3",
   "language": "python",
   "name": "python3"
  },
  "language_info": {
   "codemirror_mode": {
    "name": "ipython",
    "version": 3
   },
   "file_extension": ".py",
   "mimetype": "text/x-python",
   "name": "python",
   "nbconvert_exporter": "python",
   "pygments_lexer": "ipython3",
   "version": "3.10.12"
  }
 },
 "nbformat": 4,
 "nbformat_minor": 4
}
