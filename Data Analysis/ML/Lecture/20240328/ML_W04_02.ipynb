{
 "cells": [
  {
   "cell_type": "markdown",
   "metadata": {
    "colab_type": "text",
    "id": "N1SW6ecGN5h8"
   },
   "source": [
    "<font color=\"#CC3D3D\"><p>\n",
    "# Model Tuning (Hyperparameter Optimization)"
   ]
  },
  {
   "cell_type": "code",
   "execution_count": 1,
   "metadata": {
    "colab": {
     "autoexec": {
      "startup": false,
      "wait_interval": 0
     }
    },
    "colab_type": "code",
    "id": "stensr9MN5hb"
   },
   "outputs": [],
   "source": [
    "from sklearn.datasets import load_digits\n",
    "\n",
    "digits = load_digits()"
   ]
  },
  {
   "cell_type": "code",
   "execution_count": 2,
   "metadata": {},
   "outputs": [],
   "source": [
    "from sklearn.model_selection import train_test_split\n",
    "\n",
    "X_train, X_test, y_train, y_test = train_test_split(digits.data, digits.target, random_state=0)"
   ]
  },
  {
   "cell_type": "code",
   "execution_count": 3,
   "metadata": {},
   "outputs": [],
   "source": [
    "from sklearn.tree import DecisionTreeClassifier\n",
    "from sklearn.linear_model import LogisticRegression\n",
    "from sklearn.neighbors import KNeighborsClassifier\n",
    "from sklearn.svm import SVC\n",
    "\n",
    "model = KNeighborsClassifier()\n",
    "#model = DecisionTreeClassifier()\n",
    "#model = LogisticRegression()\n",
    "#model = SVC()"
   ]
  },
  {
   "cell_type": "markdown",
   "metadata": {},
   "source": [
    "<font color=\"blue\"><p>\n",
    "#### KNN 알고리즘의 직관적 이해    \n",
    "<img align='left' src='https://miro.medium.com/max/506/0*QyWp7J6eSz0tayc0.png' width=500>"
   ]
  },
  {
   "cell_type": "markdown",
   "metadata": {},
   "source": [
    "중요한 hyper parameter\n",
    "1. k값\n",
    "2. 범위 안에 있는 값들을 모두 동등하게 처리할 것인지, 거리에 따른 가중치를 반영할 것인지."
   ]
  },
  {
   "attachments": {},
   "cell_type": "markdown",
   "metadata": {},
   "source": [
    "<font color=\"blue\"><p>\n",
    "#### Logistic Regression의 직관적 이해    \n",
    "<img align='left' src='https://media.licdn.com/dms/image/D4D12AQGS572EFk8FhQ/article-cover_image-shrink_600_2000/0/1691381627266?e=2147483647&v=beta&t=fIPydD-14_98VidYlmpdBbfIGeUeYahaVAIsPjZRTiU' width=800>"
   ]
  },
  {
   "attachments": {},
   "cell_type": "markdown",
   "metadata": {},
   "source": [
    "<font color=\"blue\"><p>\n",
    "#### SVM(Support Vector Machine)의 직관적 이해    \n",
    "<img align='left' src='https://www.inovex.de/wp-content/uploads/separating_hyperplanes.png' width=800>"
   ]
  },
  {
   "cell_type": "markdown",
   "metadata": {},
   "source": [
    "직선과 점들 간의 거리(마진)가 가장 넓은 선을 찾는다.\n",
    "--> 여러 실험에서 발생할 수 있는 오차가 있기 때문에.\""
   ]
  },
  {
   "cell_type": "markdown",
   "metadata": {},
   "source": [
    "<br><font color = \"darkgreen\">\n",
    "## 1. Grid Search CV "
   ]
  },
  {
   "cell_type": "markdown",
   "metadata": {
    "colab_type": "text",
    "id": "0YCF2OwrN5h-"
   },
   "source": [
    "##### Set the parameters for grid search #####"
   ]
  },
  {
   "cell_type": "code",
   "execution_count": 4,
   "metadata": {
    "colab": {
     "autoexec": {
      "startup": false,
      "wait_interval": 0
     }
    },
    "colab_type": "code",
    "id": "TFmyGQg3N5h-"
   },
   "outputs": [
    {
     "data": {
      "text/plain": [
       "{'n_neighbors': range(4, 10), 'weights': ['uniform', 'distance']}"
      ]
     },
     "execution_count": 4,
     "metadata": {},
     "output_type": "execute_result"
    }
   ],
   "source": [
    "# param_grid: dictionary with parameters names as keys and\n",
    "# lists of parameter settings to try as values\n",
    "\n",
    "param_grid = {'n_neighbors': range(4,10),\n",
    "              'weights': ['uniform','distance']}\n",
    "param_grid"
   ]
  },
  {
   "cell_type": "markdown",
   "metadata": {
    "colab_type": "text",
    "id": "2woVXifYN5iA"
   },
   "source": [
    "##### Grid search with cross-validation ####"
   ]
  },
  {
   "cell_type": "code",
   "execution_count": 5,
   "metadata": {
    "colab": {
     "autoexec": {
      "startup": false,
      "wait_interval": 0
     }
    },
    "colab_type": "code",
    "id": "FfTj7z8GN5iC"
   },
   "outputs": [],
   "source": [
    "from sklearn.model_selection import GridSearchCV\n",
    "\n",
    "grid_search = GridSearchCV(model, param_grid, scoring='accuracy', cv=5, n_jobs=-1) # n-job=-1 : Core를 병렬로 사용해라 --> 5번 돌려야하는데 동시에 실행하기"
   ]
  },
  {
   "cell_type": "code",
   "execution_count": 6,
   "metadata": {
    "colab": {
     "autoexec": {
      "startup": false,
      "wait_interval": 0
     }
    },
    "colab_type": "code",
    "id": "d7MCuydLN5iE"
   },
   "outputs": [
    {
     "data": {
      "text/html": [
       "<style>#sk-container-id-1 {\n",
       "  /* Definition of color scheme common for light and dark mode */\n",
       "  --sklearn-color-text: black;\n",
       "  --sklearn-color-line: gray;\n",
       "  /* Definition of color scheme for unfitted estimators */\n",
       "  --sklearn-color-unfitted-level-0: #fff5e6;\n",
       "  --sklearn-color-unfitted-level-1: #f6e4d2;\n",
       "  --sklearn-color-unfitted-level-2: #ffe0b3;\n",
       "  --sklearn-color-unfitted-level-3: chocolate;\n",
       "  /* Definition of color scheme for fitted estimators */\n",
       "  --sklearn-color-fitted-level-0: #f0f8ff;\n",
       "  --sklearn-color-fitted-level-1: #d4ebff;\n",
       "  --sklearn-color-fitted-level-2: #b3dbfd;\n",
       "  --sklearn-color-fitted-level-3: cornflowerblue;\n",
       "\n",
       "  /* Specific color for light theme */\n",
       "  --sklearn-color-text-on-default-background: var(--sg-text-color, var(--theme-code-foreground, var(--jp-content-font-color1, black)));\n",
       "  --sklearn-color-background: var(--sg-background-color, var(--theme-background, var(--jp-layout-color0, white)));\n",
       "  --sklearn-color-border-box: var(--sg-text-color, var(--theme-code-foreground, var(--jp-content-font-color1, black)));\n",
       "  --sklearn-color-icon: #696969;\n",
       "\n",
       "  @media (prefers-color-scheme: dark) {\n",
       "    /* Redefinition of color scheme for dark theme */\n",
       "    --sklearn-color-text-on-default-background: var(--sg-text-color, var(--theme-code-foreground, var(--jp-content-font-color1, white)));\n",
       "    --sklearn-color-background: var(--sg-background-color, var(--theme-background, var(--jp-layout-color0, #111)));\n",
       "    --sklearn-color-border-box: var(--sg-text-color, var(--theme-code-foreground, var(--jp-content-font-color1, white)));\n",
       "    --sklearn-color-icon: #878787;\n",
       "  }\n",
       "}\n",
       "\n",
       "#sk-container-id-1 {\n",
       "  color: var(--sklearn-color-text);\n",
       "}\n",
       "\n",
       "#sk-container-id-1 pre {\n",
       "  padding: 0;\n",
       "}\n",
       "\n",
       "#sk-container-id-1 input.sk-hidden--visually {\n",
       "  border: 0;\n",
       "  clip: rect(1px 1px 1px 1px);\n",
       "  clip: rect(1px, 1px, 1px, 1px);\n",
       "  height: 1px;\n",
       "  margin: -1px;\n",
       "  overflow: hidden;\n",
       "  padding: 0;\n",
       "  position: absolute;\n",
       "  width: 1px;\n",
       "}\n",
       "\n",
       "#sk-container-id-1 div.sk-dashed-wrapped {\n",
       "  border: 1px dashed var(--sklearn-color-line);\n",
       "  margin: 0 0.4em 0.5em 0.4em;\n",
       "  box-sizing: border-box;\n",
       "  padding-bottom: 0.4em;\n",
       "  background-color: var(--sklearn-color-background);\n",
       "}\n",
       "\n",
       "#sk-container-id-1 div.sk-container {\n",
       "  /* jupyter's `normalize.less` sets `[hidden] { display: none; }`\n",
       "     but bootstrap.min.css set `[hidden] { display: none !important; }`\n",
       "     so we also need the `!important` here to be able to override the\n",
       "     default hidden behavior on the sphinx rendered scikit-learn.org.\n",
       "     See: https://github.com/scikit-learn/scikit-learn/issues/21755 */\n",
       "  display: inline-block !important;\n",
       "  position: relative;\n",
       "}\n",
       "\n",
       "#sk-container-id-1 div.sk-text-repr-fallback {\n",
       "  display: none;\n",
       "}\n",
       "\n",
       "div.sk-parallel-item,\n",
       "div.sk-serial,\n",
       "div.sk-item {\n",
       "  /* draw centered vertical line to link estimators */\n",
       "  background-image: linear-gradient(var(--sklearn-color-text-on-default-background), var(--sklearn-color-text-on-default-background));\n",
       "  background-size: 2px 100%;\n",
       "  background-repeat: no-repeat;\n",
       "  background-position: center center;\n",
       "}\n",
       "\n",
       "/* Parallel-specific style estimator block */\n",
       "\n",
       "#sk-container-id-1 div.sk-parallel-item::after {\n",
       "  content: \"\";\n",
       "  width: 100%;\n",
       "  border-bottom: 2px solid var(--sklearn-color-text-on-default-background);\n",
       "  flex-grow: 1;\n",
       "}\n",
       "\n",
       "#sk-container-id-1 div.sk-parallel {\n",
       "  display: flex;\n",
       "  align-items: stretch;\n",
       "  justify-content: center;\n",
       "  background-color: var(--sklearn-color-background);\n",
       "  position: relative;\n",
       "}\n",
       "\n",
       "#sk-container-id-1 div.sk-parallel-item {\n",
       "  display: flex;\n",
       "  flex-direction: column;\n",
       "}\n",
       "\n",
       "#sk-container-id-1 div.sk-parallel-item:first-child::after {\n",
       "  align-self: flex-end;\n",
       "  width: 50%;\n",
       "}\n",
       "\n",
       "#sk-container-id-1 div.sk-parallel-item:last-child::after {\n",
       "  align-self: flex-start;\n",
       "  width: 50%;\n",
       "}\n",
       "\n",
       "#sk-container-id-1 div.sk-parallel-item:only-child::after {\n",
       "  width: 0;\n",
       "}\n",
       "\n",
       "/* Serial-specific style estimator block */\n",
       "\n",
       "#sk-container-id-1 div.sk-serial {\n",
       "  display: flex;\n",
       "  flex-direction: column;\n",
       "  align-items: center;\n",
       "  background-color: var(--sklearn-color-background);\n",
       "  padding-right: 1em;\n",
       "  padding-left: 1em;\n",
       "}\n",
       "\n",
       "\n",
       "/* Toggleable style: style used for estimator/Pipeline/ColumnTransformer box that is\n",
       "clickable and can be expanded/collapsed.\n",
       "- Pipeline and ColumnTransformer use this feature and define the default style\n",
       "- Estimators will overwrite some part of the style using the `sk-estimator` class\n",
       "*/\n",
       "\n",
       "/* Pipeline and ColumnTransformer style (default) */\n",
       "\n",
       "#sk-container-id-1 div.sk-toggleable {\n",
       "  /* Default theme specific background. It is overwritten whether we have a\n",
       "  specific estimator or a Pipeline/ColumnTransformer */\n",
       "  background-color: var(--sklearn-color-background);\n",
       "}\n",
       "\n",
       "/* Toggleable label */\n",
       "#sk-container-id-1 label.sk-toggleable__label {\n",
       "  cursor: pointer;\n",
       "  display: block;\n",
       "  width: 100%;\n",
       "  margin-bottom: 0;\n",
       "  padding: 0.5em;\n",
       "  box-sizing: border-box;\n",
       "  text-align: center;\n",
       "}\n",
       "\n",
       "#sk-container-id-1 label.sk-toggleable__label-arrow:before {\n",
       "  /* Arrow on the left of the label */\n",
       "  content: \"▸\";\n",
       "  float: left;\n",
       "  margin-right: 0.25em;\n",
       "  color: var(--sklearn-color-icon);\n",
       "}\n",
       "\n",
       "#sk-container-id-1 label.sk-toggleable__label-arrow:hover:before {\n",
       "  color: var(--sklearn-color-text);\n",
       "}\n",
       "\n",
       "/* Toggleable content - dropdown */\n",
       "\n",
       "#sk-container-id-1 div.sk-toggleable__content {\n",
       "  max-height: 0;\n",
       "  max-width: 0;\n",
       "  overflow: hidden;\n",
       "  text-align: left;\n",
       "  /* unfitted */\n",
       "  background-color: var(--sklearn-color-unfitted-level-0);\n",
       "}\n",
       "\n",
       "#sk-container-id-1 div.sk-toggleable__content.fitted {\n",
       "  /* fitted */\n",
       "  background-color: var(--sklearn-color-fitted-level-0);\n",
       "}\n",
       "\n",
       "#sk-container-id-1 div.sk-toggleable__content pre {\n",
       "  margin: 0.2em;\n",
       "  border-radius: 0.25em;\n",
       "  color: var(--sklearn-color-text);\n",
       "  /* unfitted */\n",
       "  background-color: var(--sklearn-color-unfitted-level-0);\n",
       "}\n",
       "\n",
       "#sk-container-id-1 div.sk-toggleable__content.fitted pre {\n",
       "  /* unfitted */\n",
       "  background-color: var(--sklearn-color-fitted-level-0);\n",
       "}\n",
       "\n",
       "#sk-container-id-1 input.sk-toggleable__control:checked~div.sk-toggleable__content {\n",
       "  /* Expand drop-down */\n",
       "  max-height: 200px;\n",
       "  max-width: 100%;\n",
       "  overflow: auto;\n",
       "}\n",
       "\n",
       "#sk-container-id-1 input.sk-toggleable__control:checked~label.sk-toggleable__label-arrow:before {\n",
       "  content: \"▾\";\n",
       "}\n",
       "\n",
       "/* Pipeline/ColumnTransformer-specific style */\n",
       "\n",
       "#sk-container-id-1 div.sk-label input.sk-toggleable__control:checked~label.sk-toggleable__label {\n",
       "  color: var(--sklearn-color-text);\n",
       "  background-color: var(--sklearn-color-unfitted-level-2);\n",
       "}\n",
       "\n",
       "#sk-container-id-1 div.sk-label.fitted input.sk-toggleable__control:checked~label.sk-toggleable__label {\n",
       "  background-color: var(--sklearn-color-fitted-level-2);\n",
       "}\n",
       "\n",
       "/* Estimator-specific style */\n",
       "\n",
       "/* Colorize estimator box */\n",
       "#sk-container-id-1 div.sk-estimator input.sk-toggleable__control:checked~label.sk-toggleable__label {\n",
       "  /* unfitted */\n",
       "  background-color: var(--sklearn-color-unfitted-level-2);\n",
       "}\n",
       "\n",
       "#sk-container-id-1 div.sk-estimator.fitted input.sk-toggleable__control:checked~label.sk-toggleable__label {\n",
       "  /* fitted */\n",
       "  background-color: var(--sklearn-color-fitted-level-2);\n",
       "}\n",
       "\n",
       "#sk-container-id-1 div.sk-label label.sk-toggleable__label,\n",
       "#sk-container-id-1 div.sk-label label {\n",
       "  /* The background is the default theme color */\n",
       "  color: var(--sklearn-color-text-on-default-background);\n",
       "}\n",
       "\n",
       "/* On hover, darken the color of the background */\n",
       "#sk-container-id-1 div.sk-label:hover label.sk-toggleable__label {\n",
       "  color: var(--sklearn-color-text);\n",
       "  background-color: var(--sklearn-color-unfitted-level-2);\n",
       "}\n",
       "\n",
       "/* Label box, darken color on hover, fitted */\n",
       "#sk-container-id-1 div.sk-label.fitted:hover label.sk-toggleable__label.fitted {\n",
       "  color: var(--sklearn-color-text);\n",
       "  background-color: var(--sklearn-color-fitted-level-2);\n",
       "}\n",
       "\n",
       "/* Estimator label */\n",
       "\n",
       "#sk-container-id-1 div.sk-label label {\n",
       "  font-family: monospace;\n",
       "  font-weight: bold;\n",
       "  display: inline-block;\n",
       "  line-height: 1.2em;\n",
       "}\n",
       "\n",
       "#sk-container-id-1 div.sk-label-container {\n",
       "  text-align: center;\n",
       "}\n",
       "\n",
       "/* Estimator-specific */\n",
       "#sk-container-id-1 div.sk-estimator {\n",
       "  font-family: monospace;\n",
       "  border: 1px dotted var(--sklearn-color-border-box);\n",
       "  border-radius: 0.25em;\n",
       "  box-sizing: border-box;\n",
       "  margin-bottom: 0.5em;\n",
       "  /* unfitted */\n",
       "  background-color: var(--sklearn-color-unfitted-level-0);\n",
       "}\n",
       "\n",
       "#sk-container-id-1 div.sk-estimator.fitted {\n",
       "  /* fitted */\n",
       "  background-color: var(--sklearn-color-fitted-level-0);\n",
       "}\n",
       "\n",
       "/* on hover */\n",
       "#sk-container-id-1 div.sk-estimator:hover {\n",
       "  /* unfitted */\n",
       "  background-color: var(--sklearn-color-unfitted-level-2);\n",
       "}\n",
       "\n",
       "#sk-container-id-1 div.sk-estimator.fitted:hover {\n",
       "  /* fitted */\n",
       "  background-color: var(--sklearn-color-fitted-level-2);\n",
       "}\n",
       "\n",
       "/* Specification for estimator info (e.g. \"i\" and \"?\") */\n",
       "\n",
       "/* Common style for \"i\" and \"?\" */\n",
       "\n",
       ".sk-estimator-doc-link,\n",
       "a:link.sk-estimator-doc-link,\n",
       "a:visited.sk-estimator-doc-link {\n",
       "  float: right;\n",
       "  font-size: smaller;\n",
       "  line-height: 1em;\n",
       "  font-family: monospace;\n",
       "  background-color: var(--sklearn-color-background);\n",
       "  border-radius: 1em;\n",
       "  height: 1em;\n",
       "  width: 1em;\n",
       "  text-decoration: none !important;\n",
       "  margin-left: 1ex;\n",
       "  /* unfitted */\n",
       "  border: var(--sklearn-color-unfitted-level-1) 1pt solid;\n",
       "  color: var(--sklearn-color-unfitted-level-1);\n",
       "}\n",
       "\n",
       ".sk-estimator-doc-link.fitted,\n",
       "a:link.sk-estimator-doc-link.fitted,\n",
       "a:visited.sk-estimator-doc-link.fitted {\n",
       "  /* fitted */\n",
       "  border: var(--sklearn-color-fitted-level-1) 1pt solid;\n",
       "  color: var(--sklearn-color-fitted-level-1);\n",
       "}\n",
       "\n",
       "/* On hover */\n",
       "div.sk-estimator:hover .sk-estimator-doc-link:hover,\n",
       ".sk-estimator-doc-link:hover,\n",
       "div.sk-label-container:hover .sk-estimator-doc-link:hover,\n",
       ".sk-estimator-doc-link:hover {\n",
       "  /* unfitted */\n",
       "  background-color: var(--sklearn-color-unfitted-level-3);\n",
       "  color: var(--sklearn-color-background);\n",
       "  text-decoration: none;\n",
       "}\n",
       "\n",
       "div.sk-estimator.fitted:hover .sk-estimator-doc-link.fitted:hover,\n",
       ".sk-estimator-doc-link.fitted:hover,\n",
       "div.sk-label-container:hover .sk-estimator-doc-link.fitted:hover,\n",
       ".sk-estimator-doc-link.fitted:hover {\n",
       "  /* fitted */\n",
       "  background-color: var(--sklearn-color-fitted-level-3);\n",
       "  color: var(--sklearn-color-background);\n",
       "  text-decoration: none;\n",
       "}\n",
       "\n",
       "/* Span, style for the box shown on hovering the info icon */\n",
       ".sk-estimator-doc-link span {\n",
       "  display: none;\n",
       "  z-index: 9999;\n",
       "  position: relative;\n",
       "  font-weight: normal;\n",
       "  right: .2ex;\n",
       "  padding: .5ex;\n",
       "  margin: .5ex;\n",
       "  width: min-content;\n",
       "  min-width: 20ex;\n",
       "  max-width: 50ex;\n",
       "  color: var(--sklearn-color-text);\n",
       "  box-shadow: 2pt 2pt 4pt #999;\n",
       "  /* unfitted */\n",
       "  background: var(--sklearn-color-unfitted-level-0);\n",
       "  border: .5pt solid var(--sklearn-color-unfitted-level-3);\n",
       "}\n",
       "\n",
       ".sk-estimator-doc-link.fitted span {\n",
       "  /* fitted */\n",
       "  background: var(--sklearn-color-fitted-level-0);\n",
       "  border: var(--sklearn-color-fitted-level-3);\n",
       "}\n",
       "\n",
       ".sk-estimator-doc-link:hover span {\n",
       "  display: block;\n",
       "}\n",
       "\n",
       "/* \"?\"-specific style due to the `<a>` HTML tag */\n",
       "\n",
       "#sk-container-id-1 a.estimator_doc_link {\n",
       "  float: right;\n",
       "  font-size: 1rem;\n",
       "  line-height: 1em;\n",
       "  font-family: monospace;\n",
       "  background-color: var(--sklearn-color-background);\n",
       "  border-radius: 1rem;\n",
       "  height: 1rem;\n",
       "  width: 1rem;\n",
       "  text-decoration: none;\n",
       "  /* unfitted */\n",
       "  color: var(--sklearn-color-unfitted-level-1);\n",
       "  border: var(--sklearn-color-unfitted-level-1) 1pt solid;\n",
       "}\n",
       "\n",
       "#sk-container-id-1 a.estimator_doc_link.fitted {\n",
       "  /* fitted */\n",
       "  border: var(--sklearn-color-fitted-level-1) 1pt solid;\n",
       "  color: var(--sklearn-color-fitted-level-1);\n",
       "}\n",
       "\n",
       "/* On hover */\n",
       "#sk-container-id-1 a.estimator_doc_link:hover {\n",
       "  /* unfitted */\n",
       "  background-color: var(--sklearn-color-unfitted-level-3);\n",
       "  color: var(--sklearn-color-background);\n",
       "  text-decoration: none;\n",
       "}\n",
       "\n",
       "#sk-container-id-1 a.estimator_doc_link.fitted:hover {\n",
       "  /* fitted */\n",
       "  background-color: var(--sklearn-color-fitted-level-3);\n",
       "}\n",
       "</style><div id=\"sk-container-id-1\" class=\"sk-top-container\"><div class=\"sk-text-repr-fallback\"><pre>GridSearchCV(cv=5, estimator=KNeighborsClassifier(), n_jobs=-1,\n",
       "             param_grid={&#x27;n_neighbors&#x27;: range(4, 10),\n",
       "                         &#x27;weights&#x27;: [&#x27;uniform&#x27;, &#x27;distance&#x27;]},\n",
       "             scoring=&#x27;accuracy&#x27;)</pre><b>In a Jupyter environment, please rerun this cell to show the HTML representation or trust the notebook. <br />On GitHub, the HTML representation is unable to render, please try loading this page with nbviewer.org.</b></div><div class=\"sk-container\" hidden><div class=\"sk-item sk-dashed-wrapped\"><div class=\"sk-label-container\"><div class=\"sk-label fitted sk-toggleable\"><input class=\"sk-toggleable__control sk-hidden--visually\" id=\"sk-estimator-id-1\" type=\"checkbox\" ><label for=\"sk-estimator-id-1\" class=\"sk-toggleable__label fitted sk-toggleable__label-arrow fitted\">&nbsp;&nbsp;GridSearchCV<a class=\"sk-estimator-doc-link fitted\" rel=\"noreferrer\" target=\"_blank\" href=\"https://scikit-learn.org/1.4/modules/generated/sklearn.model_selection.GridSearchCV.html\">?<span>Documentation for GridSearchCV</span></a><span class=\"sk-estimator-doc-link fitted\">i<span>Fitted</span></span></label><div class=\"sk-toggleable__content fitted\"><pre>GridSearchCV(cv=5, estimator=KNeighborsClassifier(), n_jobs=-1,\n",
       "             param_grid={&#x27;n_neighbors&#x27;: range(4, 10),\n",
       "                         &#x27;weights&#x27;: [&#x27;uniform&#x27;, &#x27;distance&#x27;]},\n",
       "             scoring=&#x27;accuracy&#x27;)</pre></div> </div></div><div class=\"sk-parallel\"><div class=\"sk-parallel-item\"><div class=\"sk-item\"><div class=\"sk-label-container\"><div class=\"sk-label fitted sk-toggleable\"><input class=\"sk-toggleable__control sk-hidden--visually\" id=\"sk-estimator-id-2\" type=\"checkbox\" ><label for=\"sk-estimator-id-2\" class=\"sk-toggleable__label fitted sk-toggleable__label-arrow fitted\">estimator: KNeighborsClassifier</label><div class=\"sk-toggleable__content fitted\"><pre>KNeighborsClassifier()</pre></div> </div></div><div class=\"sk-serial\"><div class=\"sk-item\"><div class=\"sk-estimator fitted sk-toggleable\"><input class=\"sk-toggleable__control sk-hidden--visually\" id=\"sk-estimator-id-3\" type=\"checkbox\" ><label for=\"sk-estimator-id-3\" class=\"sk-toggleable__label fitted sk-toggleable__label-arrow fitted\">&nbsp;KNeighborsClassifier<a class=\"sk-estimator-doc-link fitted\" rel=\"noreferrer\" target=\"_blank\" href=\"https://scikit-learn.org/1.4/modules/generated/sklearn.neighbors.KNeighborsClassifier.html\">?<span>Documentation for KNeighborsClassifier</span></a></label><div class=\"sk-toggleable__content fitted\"><pre>KNeighborsClassifier()</pre></div> </div></div></div></div></div></div></div></div></div>"
      ],
      "text/plain": [
       "GridSearchCV(cv=5, estimator=KNeighborsClassifier(), n_jobs=-1,\n",
       "             param_grid={'n_neighbors': range(4, 10),\n",
       "                         'weights': ['uniform', 'distance']},\n",
       "             scoring='accuracy')"
      ]
     },
     "execution_count": 6,
     "metadata": {},
     "output_type": "execute_result"
    }
   ],
   "source": [
    "# grid search is very time-consuming\n",
    "\n",
    "grid_search.fit(X_train, y_train)"
   ]
  },
  {
   "cell_type": "markdown",
   "metadata": {
    "colab_type": "text",
    "id": "BdiQQnIgN5iF"
   },
   "source": [
    "##### Evaluate the model with best parameters ####"
   ]
  },
  {
   "cell_type": "code",
   "execution_count": 7,
   "metadata": {
    "colab": {
     "autoexec": {
      "startup": false,
      "wait_interval": 0
     }
    },
    "colab_type": "code",
    "id": "WFnUBW9cN5iG",
    "scrolled": true
   },
   "outputs": [
    {
     "data": {
      "text/plain": [
       "(0.9866666666666667, 0.98)"
      ]
     },
     "execution_count": 7,
     "metadata": {},
     "output_type": "execute_result"
    }
   ],
   "source": [
    "grid_search.score(X_test, y_test), KNeighborsClassifier().fit(X_train, y_train).score(X_test, y_test)"
   ]
  },
  {
   "cell_type": "code",
   "execution_count": 9,
   "metadata": {
    "colab": {
     "autoexec": {
      "startup": false,
      "wait_interval": 0
     }
    },
    "colab_type": "code",
    "id": "lnrAmMvHN5iH"
   },
   "outputs": [
    {
     "name": "stdout",
     "output_type": "stream",
     "text": [
      "Best parameters: {'n_neighbors': 4, 'weights': 'distance'}\n",
      "Best CV score: 0.99\n"
     ]
    }
   ],
   "source": [
    "print(\"Best parameters: {}\".format(grid_search.best_params_))\n",
    "print(\"Best CV score: {:.2f}\".format(grid_search.best_score_))"
   ]
  },
  {
   "cell_type": "code",
   "execution_count": 10,
   "metadata": {
    "colab": {
     "autoexec": {
      "startup": false,
      "wait_interval": 0
     }
    },
    "colab_type": "code",
    "id": "LfTziqNkN5iL"
   },
   "outputs": [
    {
     "name": "stdout",
     "output_type": "stream",
     "text": [
      "Best estimator:\n",
      "KNeighborsClassifier(n_neighbors=4, weights='distance')\n"
     ]
    }
   ],
   "source": [
    "print(\"Best estimator:\\n{}\".format(grid_search.best_estimator_))"
   ]
  },
  {
   "cell_type": "markdown",
   "metadata": {},
   "source": [
    "<br><font color = \"darkgreen\">\n",
    "## 2. Random Search CV"
   ]
  },
  {
   "cell_type": "markdown",
   "metadata": {},
   "source": [
    "##### Set the parameters for random search #####"
   ]
  },
  {
   "cell_type": "code",
   "execution_count": 11,
   "metadata": {},
   "outputs": [
    {
     "data": {
      "text/plain": [
       "{'n_neighbors': range(1, 10), 'weights': ['uniform', 'distance']}"
      ]
     },
     "execution_count": 11,
     "metadata": {},
     "output_type": "execute_result"
    }
   ],
   "source": [
    "# random은 grid보다 범위를 넓히는 것이 좋다.\n",
    "param_grid = {'n_neighbors': range(1, 10),\n",
    "              'weights': ['uniform','distance']}\n",
    "param_grid"
   ]
  },
  {
   "cell_type": "markdown",
   "metadata": {},
   "source": [
    "##### Random search with cross-validation ####"
   ]
  },
  {
   "cell_type": "code",
   "execution_count": 12,
   "metadata": {},
   "outputs": [],
   "source": [
    "from sklearn.model_selection import RandomizedSearchCV\n",
    "\n",
    "rand_search = RandomizedSearchCV(model, param_distributions=param_grid, \n",
    "                                 scoring='accuracy', n_iter=12, random_state=100)  #n_iter=12 : 실험을 12번 해라"
   ]
  },
  {
   "cell_type": "code",
   "execution_count": 13,
   "metadata": {},
   "outputs": [
    {
     "data": {
      "text/html": [
       "<style>#sk-container-id-2 {\n",
       "  /* Definition of color scheme common for light and dark mode */\n",
       "  --sklearn-color-text: black;\n",
       "  --sklearn-color-line: gray;\n",
       "  /* Definition of color scheme for unfitted estimators */\n",
       "  --sklearn-color-unfitted-level-0: #fff5e6;\n",
       "  --sklearn-color-unfitted-level-1: #f6e4d2;\n",
       "  --sklearn-color-unfitted-level-2: #ffe0b3;\n",
       "  --sklearn-color-unfitted-level-3: chocolate;\n",
       "  /* Definition of color scheme for fitted estimators */\n",
       "  --sklearn-color-fitted-level-0: #f0f8ff;\n",
       "  --sklearn-color-fitted-level-1: #d4ebff;\n",
       "  --sklearn-color-fitted-level-2: #b3dbfd;\n",
       "  --sklearn-color-fitted-level-3: cornflowerblue;\n",
       "\n",
       "  /* Specific color for light theme */\n",
       "  --sklearn-color-text-on-default-background: var(--sg-text-color, var(--theme-code-foreground, var(--jp-content-font-color1, black)));\n",
       "  --sklearn-color-background: var(--sg-background-color, var(--theme-background, var(--jp-layout-color0, white)));\n",
       "  --sklearn-color-border-box: var(--sg-text-color, var(--theme-code-foreground, var(--jp-content-font-color1, black)));\n",
       "  --sklearn-color-icon: #696969;\n",
       "\n",
       "  @media (prefers-color-scheme: dark) {\n",
       "    /* Redefinition of color scheme for dark theme */\n",
       "    --sklearn-color-text-on-default-background: var(--sg-text-color, var(--theme-code-foreground, var(--jp-content-font-color1, white)));\n",
       "    --sklearn-color-background: var(--sg-background-color, var(--theme-background, var(--jp-layout-color0, #111)));\n",
       "    --sklearn-color-border-box: var(--sg-text-color, var(--theme-code-foreground, var(--jp-content-font-color1, white)));\n",
       "    --sklearn-color-icon: #878787;\n",
       "  }\n",
       "}\n",
       "\n",
       "#sk-container-id-2 {\n",
       "  color: var(--sklearn-color-text);\n",
       "}\n",
       "\n",
       "#sk-container-id-2 pre {\n",
       "  padding: 0;\n",
       "}\n",
       "\n",
       "#sk-container-id-2 input.sk-hidden--visually {\n",
       "  border: 0;\n",
       "  clip: rect(1px 1px 1px 1px);\n",
       "  clip: rect(1px, 1px, 1px, 1px);\n",
       "  height: 1px;\n",
       "  margin: -1px;\n",
       "  overflow: hidden;\n",
       "  padding: 0;\n",
       "  position: absolute;\n",
       "  width: 1px;\n",
       "}\n",
       "\n",
       "#sk-container-id-2 div.sk-dashed-wrapped {\n",
       "  border: 1px dashed var(--sklearn-color-line);\n",
       "  margin: 0 0.4em 0.5em 0.4em;\n",
       "  box-sizing: border-box;\n",
       "  padding-bottom: 0.4em;\n",
       "  background-color: var(--sklearn-color-background);\n",
       "}\n",
       "\n",
       "#sk-container-id-2 div.sk-container {\n",
       "  /* jupyter's `normalize.less` sets `[hidden] { display: none; }`\n",
       "     but bootstrap.min.css set `[hidden] { display: none !important; }`\n",
       "     so we also need the `!important` here to be able to override the\n",
       "     default hidden behavior on the sphinx rendered scikit-learn.org.\n",
       "     See: https://github.com/scikit-learn/scikit-learn/issues/21755 */\n",
       "  display: inline-block !important;\n",
       "  position: relative;\n",
       "}\n",
       "\n",
       "#sk-container-id-2 div.sk-text-repr-fallback {\n",
       "  display: none;\n",
       "}\n",
       "\n",
       "div.sk-parallel-item,\n",
       "div.sk-serial,\n",
       "div.sk-item {\n",
       "  /* draw centered vertical line to link estimators */\n",
       "  background-image: linear-gradient(var(--sklearn-color-text-on-default-background), var(--sklearn-color-text-on-default-background));\n",
       "  background-size: 2px 100%;\n",
       "  background-repeat: no-repeat;\n",
       "  background-position: center center;\n",
       "}\n",
       "\n",
       "/* Parallel-specific style estimator block */\n",
       "\n",
       "#sk-container-id-2 div.sk-parallel-item::after {\n",
       "  content: \"\";\n",
       "  width: 100%;\n",
       "  border-bottom: 2px solid var(--sklearn-color-text-on-default-background);\n",
       "  flex-grow: 1;\n",
       "}\n",
       "\n",
       "#sk-container-id-2 div.sk-parallel {\n",
       "  display: flex;\n",
       "  align-items: stretch;\n",
       "  justify-content: center;\n",
       "  background-color: var(--sklearn-color-background);\n",
       "  position: relative;\n",
       "}\n",
       "\n",
       "#sk-container-id-2 div.sk-parallel-item {\n",
       "  display: flex;\n",
       "  flex-direction: column;\n",
       "}\n",
       "\n",
       "#sk-container-id-2 div.sk-parallel-item:first-child::after {\n",
       "  align-self: flex-end;\n",
       "  width: 50%;\n",
       "}\n",
       "\n",
       "#sk-container-id-2 div.sk-parallel-item:last-child::after {\n",
       "  align-self: flex-start;\n",
       "  width: 50%;\n",
       "}\n",
       "\n",
       "#sk-container-id-2 div.sk-parallel-item:only-child::after {\n",
       "  width: 0;\n",
       "}\n",
       "\n",
       "/* Serial-specific style estimator block */\n",
       "\n",
       "#sk-container-id-2 div.sk-serial {\n",
       "  display: flex;\n",
       "  flex-direction: column;\n",
       "  align-items: center;\n",
       "  background-color: var(--sklearn-color-background);\n",
       "  padding-right: 1em;\n",
       "  padding-left: 1em;\n",
       "}\n",
       "\n",
       "\n",
       "/* Toggleable style: style used for estimator/Pipeline/ColumnTransformer box that is\n",
       "clickable and can be expanded/collapsed.\n",
       "- Pipeline and ColumnTransformer use this feature and define the default style\n",
       "- Estimators will overwrite some part of the style using the `sk-estimator` class\n",
       "*/\n",
       "\n",
       "/* Pipeline and ColumnTransformer style (default) */\n",
       "\n",
       "#sk-container-id-2 div.sk-toggleable {\n",
       "  /* Default theme specific background. It is overwritten whether we have a\n",
       "  specific estimator or a Pipeline/ColumnTransformer */\n",
       "  background-color: var(--sklearn-color-background);\n",
       "}\n",
       "\n",
       "/* Toggleable label */\n",
       "#sk-container-id-2 label.sk-toggleable__label {\n",
       "  cursor: pointer;\n",
       "  display: block;\n",
       "  width: 100%;\n",
       "  margin-bottom: 0;\n",
       "  padding: 0.5em;\n",
       "  box-sizing: border-box;\n",
       "  text-align: center;\n",
       "}\n",
       "\n",
       "#sk-container-id-2 label.sk-toggleable__label-arrow:before {\n",
       "  /* Arrow on the left of the label */\n",
       "  content: \"▸\";\n",
       "  float: left;\n",
       "  margin-right: 0.25em;\n",
       "  color: var(--sklearn-color-icon);\n",
       "}\n",
       "\n",
       "#sk-container-id-2 label.sk-toggleable__label-arrow:hover:before {\n",
       "  color: var(--sklearn-color-text);\n",
       "}\n",
       "\n",
       "/* Toggleable content - dropdown */\n",
       "\n",
       "#sk-container-id-2 div.sk-toggleable__content {\n",
       "  max-height: 0;\n",
       "  max-width: 0;\n",
       "  overflow: hidden;\n",
       "  text-align: left;\n",
       "  /* unfitted */\n",
       "  background-color: var(--sklearn-color-unfitted-level-0);\n",
       "}\n",
       "\n",
       "#sk-container-id-2 div.sk-toggleable__content.fitted {\n",
       "  /* fitted */\n",
       "  background-color: var(--sklearn-color-fitted-level-0);\n",
       "}\n",
       "\n",
       "#sk-container-id-2 div.sk-toggleable__content pre {\n",
       "  margin: 0.2em;\n",
       "  border-radius: 0.25em;\n",
       "  color: var(--sklearn-color-text);\n",
       "  /* unfitted */\n",
       "  background-color: var(--sklearn-color-unfitted-level-0);\n",
       "}\n",
       "\n",
       "#sk-container-id-2 div.sk-toggleable__content.fitted pre {\n",
       "  /* unfitted */\n",
       "  background-color: var(--sklearn-color-fitted-level-0);\n",
       "}\n",
       "\n",
       "#sk-container-id-2 input.sk-toggleable__control:checked~div.sk-toggleable__content {\n",
       "  /* Expand drop-down */\n",
       "  max-height: 200px;\n",
       "  max-width: 100%;\n",
       "  overflow: auto;\n",
       "}\n",
       "\n",
       "#sk-container-id-2 input.sk-toggleable__control:checked~label.sk-toggleable__label-arrow:before {\n",
       "  content: \"▾\";\n",
       "}\n",
       "\n",
       "/* Pipeline/ColumnTransformer-specific style */\n",
       "\n",
       "#sk-container-id-2 div.sk-label input.sk-toggleable__control:checked~label.sk-toggleable__label {\n",
       "  color: var(--sklearn-color-text);\n",
       "  background-color: var(--sklearn-color-unfitted-level-2);\n",
       "}\n",
       "\n",
       "#sk-container-id-2 div.sk-label.fitted input.sk-toggleable__control:checked~label.sk-toggleable__label {\n",
       "  background-color: var(--sklearn-color-fitted-level-2);\n",
       "}\n",
       "\n",
       "/* Estimator-specific style */\n",
       "\n",
       "/* Colorize estimator box */\n",
       "#sk-container-id-2 div.sk-estimator input.sk-toggleable__control:checked~label.sk-toggleable__label {\n",
       "  /* unfitted */\n",
       "  background-color: var(--sklearn-color-unfitted-level-2);\n",
       "}\n",
       "\n",
       "#sk-container-id-2 div.sk-estimator.fitted input.sk-toggleable__control:checked~label.sk-toggleable__label {\n",
       "  /* fitted */\n",
       "  background-color: var(--sklearn-color-fitted-level-2);\n",
       "}\n",
       "\n",
       "#sk-container-id-2 div.sk-label label.sk-toggleable__label,\n",
       "#sk-container-id-2 div.sk-label label {\n",
       "  /* The background is the default theme color */\n",
       "  color: var(--sklearn-color-text-on-default-background);\n",
       "}\n",
       "\n",
       "/* On hover, darken the color of the background */\n",
       "#sk-container-id-2 div.sk-label:hover label.sk-toggleable__label {\n",
       "  color: var(--sklearn-color-text);\n",
       "  background-color: var(--sklearn-color-unfitted-level-2);\n",
       "}\n",
       "\n",
       "/* Label box, darken color on hover, fitted */\n",
       "#sk-container-id-2 div.sk-label.fitted:hover label.sk-toggleable__label.fitted {\n",
       "  color: var(--sklearn-color-text);\n",
       "  background-color: var(--sklearn-color-fitted-level-2);\n",
       "}\n",
       "\n",
       "/* Estimator label */\n",
       "\n",
       "#sk-container-id-2 div.sk-label label {\n",
       "  font-family: monospace;\n",
       "  font-weight: bold;\n",
       "  display: inline-block;\n",
       "  line-height: 1.2em;\n",
       "}\n",
       "\n",
       "#sk-container-id-2 div.sk-label-container {\n",
       "  text-align: center;\n",
       "}\n",
       "\n",
       "/* Estimator-specific */\n",
       "#sk-container-id-2 div.sk-estimator {\n",
       "  font-family: monospace;\n",
       "  border: 1px dotted var(--sklearn-color-border-box);\n",
       "  border-radius: 0.25em;\n",
       "  box-sizing: border-box;\n",
       "  margin-bottom: 0.5em;\n",
       "  /* unfitted */\n",
       "  background-color: var(--sklearn-color-unfitted-level-0);\n",
       "}\n",
       "\n",
       "#sk-container-id-2 div.sk-estimator.fitted {\n",
       "  /* fitted */\n",
       "  background-color: var(--sklearn-color-fitted-level-0);\n",
       "}\n",
       "\n",
       "/* on hover */\n",
       "#sk-container-id-2 div.sk-estimator:hover {\n",
       "  /* unfitted */\n",
       "  background-color: var(--sklearn-color-unfitted-level-2);\n",
       "}\n",
       "\n",
       "#sk-container-id-2 div.sk-estimator.fitted:hover {\n",
       "  /* fitted */\n",
       "  background-color: var(--sklearn-color-fitted-level-2);\n",
       "}\n",
       "\n",
       "/* Specification for estimator info (e.g. \"i\" and \"?\") */\n",
       "\n",
       "/* Common style for \"i\" and \"?\" */\n",
       "\n",
       ".sk-estimator-doc-link,\n",
       "a:link.sk-estimator-doc-link,\n",
       "a:visited.sk-estimator-doc-link {\n",
       "  float: right;\n",
       "  font-size: smaller;\n",
       "  line-height: 1em;\n",
       "  font-family: monospace;\n",
       "  background-color: var(--sklearn-color-background);\n",
       "  border-radius: 1em;\n",
       "  height: 1em;\n",
       "  width: 1em;\n",
       "  text-decoration: none !important;\n",
       "  margin-left: 1ex;\n",
       "  /* unfitted */\n",
       "  border: var(--sklearn-color-unfitted-level-1) 1pt solid;\n",
       "  color: var(--sklearn-color-unfitted-level-1);\n",
       "}\n",
       "\n",
       ".sk-estimator-doc-link.fitted,\n",
       "a:link.sk-estimator-doc-link.fitted,\n",
       "a:visited.sk-estimator-doc-link.fitted {\n",
       "  /* fitted */\n",
       "  border: var(--sklearn-color-fitted-level-1) 1pt solid;\n",
       "  color: var(--sklearn-color-fitted-level-1);\n",
       "}\n",
       "\n",
       "/* On hover */\n",
       "div.sk-estimator:hover .sk-estimator-doc-link:hover,\n",
       ".sk-estimator-doc-link:hover,\n",
       "div.sk-label-container:hover .sk-estimator-doc-link:hover,\n",
       ".sk-estimator-doc-link:hover {\n",
       "  /* unfitted */\n",
       "  background-color: var(--sklearn-color-unfitted-level-3);\n",
       "  color: var(--sklearn-color-background);\n",
       "  text-decoration: none;\n",
       "}\n",
       "\n",
       "div.sk-estimator.fitted:hover .sk-estimator-doc-link.fitted:hover,\n",
       ".sk-estimator-doc-link.fitted:hover,\n",
       "div.sk-label-container:hover .sk-estimator-doc-link.fitted:hover,\n",
       ".sk-estimator-doc-link.fitted:hover {\n",
       "  /* fitted */\n",
       "  background-color: var(--sklearn-color-fitted-level-3);\n",
       "  color: var(--sklearn-color-background);\n",
       "  text-decoration: none;\n",
       "}\n",
       "\n",
       "/* Span, style for the box shown on hovering the info icon */\n",
       ".sk-estimator-doc-link span {\n",
       "  display: none;\n",
       "  z-index: 9999;\n",
       "  position: relative;\n",
       "  font-weight: normal;\n",
       "  right: .2ex;\n",
       "  padding: .5ex;\n",
       "  margin: .5ex;\n",
       "  width: min-content;\n",
       "  min-width: 20ex;\n",
       "  max-width: 50ex;\n",
       "  color: var(--sklearn-color-text);\n",
       "  box-shadow: 2pt 2pt 4pt #999;\n",
       "  /* unfitted */\n",
       "  background: var(--sklearn-color-unfitted-level-0);\n",
       "  border: .5pt solid var(--sklearn-color-unfitted-level-3);\n",
       "}\n",
       "\n",
       ".sk-estimator-doc-link.fitted span {\n",
       "  /* fitted */\n",
       "  background: var(--sklearn-color-fitted-level-0);\n",
       "  border: var(--sklearn-color-fitted-level-3);\n",
       "}\n",
       "\n",
       ".sk-estimator-doc-link:hover span {\n",
       "  display: block;\n",
       "}\n",
       "\n",
       "/* \"?\"-specific style due to the `<a>` HTML tag */\n",
       "\n",
       "#sk-container-id-2 a.estimator_doc_link {\n",
       "  float: right;\n",
       "  font-size: 1rem;\n",
       "  line-height: 1em;\n",
       "  font-family: monospace;\n",
       "  background-color: var(--sklearn-color-background);\n",
       "  border-radius: 1rem;\n",
       "  height: 1rem;\n",
       "  width: 1rem;\n",
       "  text-decoration: none;\n",
       "  /* unfitted */\n",
       "  color: var(--sklearn-color-unfitted-level-1);\n",
       "  border: var(--sklearn-color-unfitted-level-1) 1pt solid;\n",
       "}\n",
       "\n",
       "#sk-container-id-2 a.estimator_doc_link.fitted {\n",
       "  /* fitted */\n",
       "  border: var(--sklearn-color-fitted-level-1) 1pt solid;\n",
       "  color: var(--sklearn-color-fitted-level-1);\n",
       "}\n",
       "\n",
       "/* On hover */\n",
       "#sk-container-id-2 a.estimator_doc_link:hover {\n",
       "  /* unfitted */\n",
       "  background-color: var(--sklearn-color-unfitted-level-3);\n",
       "  color: var(--sklearn-color-background);\n",
       "  text-decoration: none;\n",
       "}\n",
       "\n",
       "#sk-container-id-2 a.estimator_doc_link.fitted:hover {\n",
       "  /* fitted */\n",
       "  background-color: var(--sklearn-color-fitted-level-3);\n",
       "}\n",
       "</style><div id=\"sk-container-id-2\" class=\"sk-top-container\"><div class=\"sk-text-repr-fallback\"><pre>RandomizedSearchCV(estimator=KNeighborsClassifier(), n_iter=12,\n",
       "                   param_distributions={&#x27;n_neighbors&#x27;: range(1, 10),\n",
       "                                        &#x27;weights&#x27;: [&#x27;uniform&#x27;, &#x27;distance&#x27;]},\n",
       "                   random_state=100, scoring=&#x27;accuracy&#x27;)</pre><b>In a Jupyter environment, please rerun this cell to show the HTML representation or trust the notebook. <br />On GitHub, the HTML representation is unable to render, please try loading this page with nbviewer.org.</b></div><div class=\"sk-container\" hidden><div class=\"sk-item sk-dashed-wrapped\"><div class=\"sk-label-container\"><div class=\"sk-label fitted sk-toggleable\"><input class=\"sk-toggleable__control sk-hidden--visually\" id=\"sk-estimator-id-4\" type=\"checkbox\" ><label for=\"sk-estimator-id-4\" class=\"sk-toggleable__label fitted sk-toggleable__label-arrow fitted\">&nbsp;&nbsp;RandomizedSearchCV<a class=\"sk-estimator-doc-link fitted\" rel=\"noreferrer\" target=\"_blank\" href=\"https://scikit-learn.org/1.4/modules/generated/sklearn.model_selection.RandomizedSearchCV.html\">?<span>Documentation for RandomizedSearchCV</span></a><span class=\"sk-estimator-doc-link fitted\">i<span>Fitted</span></span></label><div class=\"sk-toggleable__content fitted\"><pre>RandomizedSearchCV(estimator=KNeighborsClassifier(), n_iter=12,\n",
       "                   param_distributions={&#x27;n_neighbors&#x27;: range(1, 10),\n",
       "                                        &#x27;weights&#x27;: [&#x27;uniform&#x27;, &#x27;distance&#x27;]},\n",
       "                   random_state=100, scoring=&#x27;accuracy&#x27;)</pre></div> </div></div><div class=\"sk-parallel\"><div class=\"sk-parallel-item\"><div class=\"sk-item\"><div class=\"sk-label-container\"><div class=\"sk-label fitted sk-toggleable\"><input class=\"sk-toggleable__control sk-hidden--visually\" id=\"sk-estimator-id-5\" type=\"checkbox\" ><label for=\"sk-estimator-id-5\" class=\"sk-toggleable__label fitted sk-toggleable__label-arrow fitted\">estimator: KNeighborsClassifier</label><div class=\"sk-toggleable__content fitted\"><pre>KNeighborsClassifier()</pre></div> </div></div><div class=\"sk-serial\"><div class=\"sk-item\"><div class=\"sk-estimator fitted sk-toggleable\"><input class=\"sk-toggleable__control sk-hidden--visually\" id=\"sk-estimator-id-6\" type=\"checkbox\" ><label for=\"sk-estimator-id-6\" class=\"sk-toggleable__label fitted sk-toggleable__label-arrow fitted\">&nbsp;KNeighborsClassifier<a class=\"sk-estimator-doc-link fitted\" rel=\"noreferrer\" target=\"_blank\" href=\"https://scikit-learn.org/1.4/modules/generated/sklearn.neighbors.KNeighborsClassifier.html\">?<span>Documentation for KNeighborsClassifier</span></a></label><div class=\"sk-toggleable__content fitted\"><pre>KNeighborsClassifier()</pre></div> </div></div></div></div></div></div></div></div></div>"
      ],
      "text/plain": [
       "RandomizedSearchCV(estimator=KNeighborsClassifier(), n_iter=12,\n",
       "                   param_distributions={'n_neighbors': range(1, 10),\n",
       "                                        'weights': ['uniform', 'distance']},\n",
       "                   random_state=100, scoring='accuracy')"
      ]
     },
     "execution_count": 13,
     "metadata": {},
     "output_type": "execute_result"
    }
   ],
   "source": [
    "rand_search.fit(X_train, y_train)"
   ]
  },
  {
   "cell_type": "markdown",
   "metadata": {},
   "source": [
    "##### Evaluate the model with best parameters ####"
   ]
  },
  {
   "cell_type": "code",
   "execution_count": 14,
   "metadata": {
    "scrolled": true
   },
   "outputs": [
    {
     "data": {
      "text/plain": [
       "0.9888888888888889"
      ]
     },
     "execution_count": 14,
     "metadata": {},
     "output_type": "execute_result"
    }
   ],
   "source": [
    "rand_search.score(X_test, y_test)"
   ]
  },
  {
   "cell_type": "code",
   "execution_count": 15,
   "metadata": {},
   "outputs": [
    {
     "name": "stdout",
     "output_type": "stream",
     "text": [
      "Best estimator:\n",
      "KNeighborsClassifier(n_neighbors=3, weights='distance')\n"
     ]
    }
   ],
   "source": [
    "print(\"Best estimator:\\n{}\".format(rand_search.best_estimator_))"
   ]
  },
  {
   "cell_type": "code",
   "execution_count": 16,
   "metadata": {},
   "outputs": [
    {
     "name": "stdout",
     "output_type": "stream",
     "text": [
      "Best parameters: {'weights': 'distance', 'n_neighbors': 3}\n"
     ]
    }
   ],
   "source": [
    "print(\"Best parameters: {}\".format(rand_search.best_params_))"
   ]
  },
  {
   "cell_type": "markdown",
   "metadata": {},
   "source": [
    "<br><font color = \"darkgreen\">\n",
    "#### Grid Search 결과와 Random Search 결과 비교 예시 [Bergstra and Bengio(2012)]"
   ]
  },
  {
   "cell_type": "markdown",
   "metadata": {},
   "source": [
    "<img align='left' src='https://community.alteryx.com/t5/image/serverpage/image-id/74545i97245FDAA10376E9/image-size/large?v=v2&px=999' width=600>"
   ]
  },
  {
   "cell_type": "markdown",
   "metadata": {},
   "source": [
    "Random Search는 Grid Search에 비해 불필요한 반복 수행 횟수를 대폭 줄이면서, 동시에 정해진 간격(grid) 사이에 위치한 값들에 대해서도 확률적으로 탐색이 가능하므로, 최적 hyperparameter 값을 더 빨리 찾을 수 있는 것으로 알려져 있음."
   ]
  },
  {
   "cell_type": "markdown",
   "metadata": {},
   "source": [
    "## 3. Bayesian Optimization with Optuna"
   ]
  },
  {
   "cell_type": "markdown",
   "metadata": {},
   "source": [
    "- Grid Search와 Random Search는 이전까지의 조사 과정에서 얻어진 hyperparameter 값들의 성능 결과에 대한 '사전 지식'이 전혀 반영되어 있지 않기 때문에 비효율적인 요소가 있음.\n",
    "- 매 회 새로운 hyperparameter 값에 대한 조사를 수행할 시 '사전 지식'을 충분히 반영하면서, 동시에 전체적인 탐색 과정을 체계적으로 수행할 수 있는 방법이 Bayesian Optimization임.   \n",
    "\n",
    "<img align='left' src='https://i.postimg.cc/P5gnLhGY/tuning-methods.png' width=800>"
   ]
  },
  {
   "cell_type": "code",
   "execution_count": 17,
   "metadata": {},
   "outputs": [
    {
     "name": "stdout",
     "output_type": "stream",
     "text": [
      "Collecting optuna\n",
      "  Downloading optuna-3.6.0-py3-none-any.whl.metadata (17 kB)\n",
      "Collecting alembic>=1.5.0 (from optuna)\n",
      "  Downloading alembic-1.13.1-py3-none-any.whl.metadata (7.4 kB)\n",
      "Collecting colorlog (from optuna)\n",
      "  Downloading colorlog-6.8.2-py3-none-any.whl.metadata (10 kB)\n",
      "Requirement already satisfied: numpy in c:\\users\\wooju\\anaconda3\\envs\\vsjupy\\lib\\site-packages (from optuna) (1.26.4)\n",
      "Requirement already satisfied: packaging>=20.0 in c:\\users\\wooju\\anaconda3\\envs\\vsjupy\\lib\\site-packages (from optuna) (23.2)\n",
      "Collecting sqlalchemy>=1.3.0 (from optuna)\n",
      "  Downloading SQLAlchemy-2.0.29-cp39-cp39-win_amd64.whl.metadata (9.8 kB)\n",
      "Collecting tqdm (from optuna)\n",
      "  Downloading tqdm-4.66.2-py3-none-any.whl.metadata (57 kB)\n",
      "     ---------------------------------------- 0.0/57.6 kB ? eta -:--:--\n",
      "     ---------------------------------------- 57.6/57.6 kB 3.0 MB/s eta 0:00:00\n",
      "Requirement already satisfied: PyYAML in c:\\users\\wooju\\anaconda3\\envs\\vsjupy\\lib\\site-packages (from optuna) (6.0.1)\n",
      "Collecting Mako (from alembic>=1.5.0->optuna)\n",
      "  Downloading Mako-1.3.2-py3-none-any.whl.metadata (2.9 kB)\n",
      "Requirement already satisfied: typing-extensions>=4 in c:\\users\\wooju\\anaconda3\\envs\\vsjupy\\lib\\site-packages (from alembic>=1.5.0->optuna) (4.10.0)\n",
      "Collecting greenlet!=0.4.17 (from sqlalchemy>=1.3.0->optuna)\n",
      "  Downloading greenlet-3.0.3-cp39-cp39-win_amd64.whl.metadata (3.9 kB)\n",
      "Requirement already satisfied: colorama in c:\\users\\wooju\\anaconda3\\envs\\vsjupy\\lib\\site-packages (from colorlog->optuna) (0.4.6)\n",
      "Requirement already satisfied: MarkupSafe>=0.9.2 in c:\\users\\wooju\\anaconda3\\envs\\vsjupy\\lib\\site-packages (from Mako->alembic>=1.5.0->optuna) (2.1.5)\n",
      "Downloading optuna-3.6.0-py3-none-any.whl (379 kB)\n",
      "   ---------------------------------------- 0.0/379.9 kB ? eta -:--:--\n",
      "   --------------- ------------------------ 143.4/379.9 kB 4.3 MB/s eta 0:00:01\n",
      "   ---------------------------------------  378.9/379.9 kB 4.7 MB/s eta 0:00:01\n",
      "   ---------------------------------------- 379.9/379.9 kB 3.4 MB/s eta 0:00:00\n",
      "Downloading alembic-1.13.1-py3-none-any.whl (233 kB)\n",
      "   ---------------------------------------- 0.0/233.4 kB ? eta -:--:--\n",
      "   -------------------------------------- - 225.3/233.4 kB 6.9 MB/s eta 0:00:01\n",
      "   ---------------------------------------- 233.4/233.4 kB 3.5 MB/s eta 0:00:00\n",
      "Downloading SQLAlchemy-2.0.29-cp39-cp39-win_amd64.whl (2.1 MB)\n",
      "   ---------------------------------------- 0.0/2.1 MB ? eta -:--:--\n",
      "   ----- ---------------------------------- 0.3/2.1 MB 5.4 MB/s eta 0:00:01\n",
      "   ------- -------------------------------- 0.4/2.1 MB 5.8 MB/s eta 0:00:01\n",
      "   ---------------- ----------------------- 0.9/2.1 MB 6.0 MB/s eta 0:00:01\n",
      "   ----------------------- ---------------- 1.2/2.1 MB 6.5 MB/s eta 0:00:01\n",
      "   ------------------------------- -------- 1.6/2.1 MB 7.0 MB/s eta 0:00:01\n",
      "   ---------------------------------------  2.1/2.1 MB 7.7 MB/s eta 0:00:01\n",
      "   ---------------------------------------- 2.1/2.1 MB 6.6 MB/s eta 0:00:00\n",
      "Downloading colorlog-6.8.2-py3-none-any.whl (11 kB)\n",
      "Downloading tqdm-4.66.2-py3-none-any.whl (78 kB)\n",
      "   ---------------------------------------- 0.0/78.3 kB ? eta -:--:--\n",
      "   ---------------------------------------- 78.3/78.3 kB 2.2 MB/s eta 0:00:00\n",
      "Downloading greenlet-3.0.3-cp39-cp39-win_amd64.whl (290 kB)\n",
      "   ---------------------------------------- 0.0/290.8 kB ? eta -:--:--\n",
      "   ---------------------------------------- 290.8/290.8 kB 8.8 MB/s eta 0:00:00\n",
      "Downloading Mako-1.3.2-py3-none-any.whl (78 kB)\n",
      "   ---------------------------------------- 0.0/78.7 kB ? eta -:--:--\n",
      "   ---------------------------------------- 78.7/78.7 kB 4.6 MB/s eta 0:00:00\n",
      "Installing collected packages: tqdm, Mako, greenlet, colorlog, sqlalchemy, alembic, optuna\n",
      "Successfully installed Mako-1.3.2 alembic-1.13.1 colorlog-6.8.2 greenlet-3.0.3 optuna-3.6.0 sqlalchemy-2.0.29 tqdm-4.66.2\n"
     ]
    }
   ],
   "source": [
    "!pip install optuna"
   ]
  },
  {
   "cell_type": "markdown",
   "metadata": {},
   "source": [
    "##### A simple optimization problem #####"
   ]
  },
  {
   "cell_type": "code",
   "execution_count": null,
   "metadata": {},
   "outputs": [],
   "source": [
    "import numpy as np\n",
    "import matplotlib.pyplot as plt\n",
    "\n",
    "x = np.arange(-10, 10)\n",
    "plt.plot(x, (x-2)**2)\n",
    "plt.show()"
   ]
  },
  {
   "cell_type": "code",
   "execution_count": 18,
   "metadata": {},
   "outputs": [
    {
     "name": "stderr",
     "output_type": "stream",
     "text": [
      "[I 2024-03-28 17:31:02,070] A new study created in memory with name: no-name-7cfb4046-9b5d-4087-b9c3-4c6630e6b127\n",
      "C:\\Users\\wooju\\AppData\\Local\\Temp\\ipykernel_47376\\2161413237.py:12: FutureWarning: suggest_uniform has been deprecated in v3.0.0. This feature will be removed in v6.0.0. See https://github.com/optuna/optuna/releases/tag/v3.0.0. Use suggest_float instead.\n",
      "  x = trial.suggest_uniform('x', -10, 10)\n",
      "[I 2024-03-28 17:31:02,077] Trial 0 finished with value: 41.69886957250131 and parameters: {'x': -4.457466188258465}. Best is trial 0 with value: 41.69886957250131.\n",
      "[I 2024-03-28 17:31:02,081] Trial 1 finished with value: 4.395144606463223 and parameters: {'x': 4.096460017854675}. Best is trial 1 with value: 4.395144606463223.\n",
      "[I 2024-03-28 17:31:02,086] Trial 2 finished with value: 6.796709250297036 and parameters: {'x': 4.607049913273054}. Best is trial 1 with value: 4.395144606463223.\n",
      "[I 2024-03-28 17:31:02,091] Trial 3 finished with value: 39.331097692389854 and parameters: {'x': 8.27145100374625}. Best is trial 1 with value: 4.395144606463223.\n",
      "[I 2024-03-28 17:31:02,095] Trial 4 finished with value: 99.63892795678824 and parameters: {'x': -7.981930071724017}. Best is trial 1 with value: 4.395144606463223.\n",
      "[I 2024-03-28 17:31:02,100] Trial 5 finished with value: 24.600512266406106 and parameters: {'x': -2.959890348224052}. Best is trial 1 with value: 4.395144606463223.\n",
      "[I 2024-03-28 17:31:02,105] Trial 6 finished with value: 48.43199855638524 and parameters: {'x': -4.959310206937555}. Best is trial 1 with value: 4.395144606463223.\n",
      "[I 2024-03-28 17:31:02,111] Trial 7 finished with value: 59.64939041038007 and parameters: {'x': -5.723301781646246}. Best is trial 1 with value: 4.395144606463223.\n",
      "[I 2024-03-28 17:31:02,117] Trial 8 finished with value: 1.2602364289869576 and parameters: {'x': 0.8773974750665499}. Best is trial 8 with value: 1.2602364289869576.\n",
      "[I 2024-03-28 17:31:02,122] Trial 9 finished with value: 25.64016389669524 and parameters: {'x': 7.063611744268634}. Best is trial 8 with value: 1.2602364289869576.\n",
      "[I 2024-03-28 17:31:02,348] Trial 10 finished with value: 0.777554811027649 and parameters: {'x': 1.1182093156379747}. Best is trial 10 with value: 0.777554811027649.\n",
      "[I 2024-03-28 17:31:02,361] Trial 11 finished with value: 2.149849512546164 and parameters: {'x': 0.5337634868323039}. Best is trial 10 with value: 0.777554811027649.\n",
      "[I 2024-03-28 17:31:02,377] Trial 12 finished with value: 3.2276993586694727 and parameters: {'x': 0.20342009399262384}. Best is trial 10 with value: 0.777554811027649.\n",
      "[I 2024-03-28 17:31:02,396] Trial 13 finished with value: 0.16453073930838022 and parameters: {'x': 2.405623888976451}. Best is trial 13 with value: 0.16453073930838022.\n",
      "[I 2024-03-28 17:31:02,415] Trial 14 finished with value: 3.945771229547582 and parameters: {'x': 3.986396543882309}. Best is trial 13 with value: 0.16453073930838022.\n",
      "[I 2024-03-28 17:31:02,430] Trial 15 finished with value: 19.434939367223745 and parameters: {'x': -2.4085076122451854}. Best is trial 13 with value: 0.16453073930838022.\n",
      "[I 2024-03-28 17:31:02,448] Trial 16 finished with value: 0.4899610772759385 and parameters: {'x': 2.699972197502114}. Best is trial 13 with value: 0.16453073930838022.\n",
      "[I 2024-03-28 17:31:02,467] Trial 17 finished with value: 18.943468605841822 and parameters: {'x': 6.352409517249247}. Best is trial 13 with value: 0.16453073930838022.\n",
      "[I 2024-03-28 17:31:02,483] Trial 18 finished with value: 62.66140514656548 and parameters: {'x': 9.915895726104878}. Best is trial 13 with value: 0.16453073930838022.\n",
      "[I 2024-03-28 17:31:02,502] Trial 19 finished with value: 0.30372701684610476 and parameters: {'x': 2.5511143409911456}. Best is trial 13 with value: 0.16453073930838022.\n",
      "[I 2024-03-28 17:31:02,518] Trial 20 finished with value: 11.512124099988783 and parameters: {'x': -1.3929521216764589}. Best is trial 13 with value: 0.16453073930838022.\n",
      "[I 2024-03-28 17:31:02,537] Trial 21 finished with value: 0.002387490537693688 and parameters: {'x': 1.9511380461126073}. Best is trial 21 with value: 0.002387490537693688.\n",
      "[I 2024-03-28 17:31:02,551] Trial 22 finished with value: 0.3552403629337991 and parameters: {'x': 2.59602043835241}. Best is trial 21 with value: 0.002387490537693688.\n",
      "[I 2024-03-28 17:31:02,564] Trial 23 finished with value: 0.3086894255890334 and parameters: {'x': 2.5555982591666693}. Best is trial 21 with value: 0.002387490537693688.\n",
      "[I 2024-03-28 17:31:02,581] Trial 24 finished with value: 13.2992572459308 and parameters: {'x': 5.6468146711796035}. Best is trial 21 with value: 0.002387490537693688.\n",
      "[I 2024-03-28 17:31:02,595] Trial 25 finished with value: 10.307488419164049 and parameters: {'x': -1.2105277477642282}. Best is trial 21 with value: 0.002387490537693688.\n",
      "[I 2024-03-28 17:31:02,612] Trial 26 finished with value: 0.5119248461267605 and parameters: {'x': 2.715489235507258}. Best is trial 21 with value: 0.002387490537693688.\n",
      "[I 2024-03-28 17:31:02,626] Trial 27 finished with value: 9.2801653197493 and parameters: {'x': -1.0463363766579195}. Best is trial 21 with value: 0.002387490537693688.\n",
      "[I 2024-03-28 17:31:02,645] Trial 28 finished with value: 32.409806535490944 and parameters: {'x': 7.692961139467838}. Best is trial 21 with value: 0.002387490537693688.\n",
      "[I 2024-03-28 17:31:02,663] Trial 29 finished with value: 9.633321930841845 and parameters: {'x': 5.1037593223125155}. Best is trial 21 with value: 0.002387490537693688.\n",
      "[I 2024-03-28 17:31:02,678] Trial 30 finished with value: 0.006667009945799124 and parameters: {'x': 1.918348239787503}. Best is trial 21 with value: 0.002387490537693688.\n",
      "[I 2024-03-28 17:31:02,695] Trial 31 finished with value: 0.04601868529239434 and parameters: {'x': 1.7854803382148985}. Best is trial 21 with value: 0.002387490537693688.\n",
      "[I 2024-03-28 17:31:02,710] Trial 32 finished with value: 0.21561201174604613 and parameters: {'x': 1.535659594967177}. Best is trial 21 with value: 0.002387490537693688.\n",
      "[I 2024-03-28 17:31:02,732] Trial 33 finished with value: 6.0752726972912905 and parameters: {'x': -0.46480682758127956}. Best is trial 21 with value: 0.002387490537693688.\n",
      "[I 2024-03-28 17:31:02,749] Trial 34 finished with value: 3.6504557452820534 and parameters: {'x': 3.9106165877229406}. Best is trial 21 with value: 0.002387490537693688.\n",
      "[I 2024-03-28 17:31:02,768] Trial 35 finished with value: 3.6012252133185036 and parameters: {'x': 3.8976894406932088}. Best is trial 21 with value: 0.002387490537693688.\n",
      "[I 2024-03-28 17:31:02,780] Trial 36 finished with value: 25.902311592937945 and parameters: {'x': -3.0894313624350946}. Best is trial 21 with value: 0.002387490537693688.\n",
      "[I 2024-03-28 17:31:02,795] Trial 37 finished with value: 0.15752442928034435 and parameters: {'x': 1.6031065265334483}. Best is trial 21 with value: 0.002387490537693688.\n",
      "[I 2024-03-28 17:31:02,811] Trial 38 finished with value: 129.40214613813995 and parameters: {'x': -9.375506412381823}. Best is trial 21 with value: 0.002387490537693688.\n",
      "[I 2024-03-28 17:31:02,827] Trial 39 finished with value: 0.4226271599155691 and parameters: {'x': 1.3499021920390986}. Best is trial 21 with value: 0.002387490537693688.\n",
      "[I 2024-03-28 17:31:02,843] Trial 40 finished with value: 21.128048178773682 and parameters: {'x': -2.596525663887202}. Best is trial 21 with value: 0.002387490537693688.\n",
      "[I 2024-03-28 17:31:02,859] Trial 41 finished with value: 2.6544319188021346 and parameters: {'x': 3.629242743977132}. Best is trial 21 with value: 0.002387490537693688.\n",
      "[I 2024-03-28 17:31:02,872] Trial 42 finished with value: 0.12175177899642034 and parameters: {'x': 1.6510705243227217}. Best is trial 21 with value: 0.002387490537693688.\n",
      "[I 2024-03-28 17:31:02,888] Trial 43 finished with value: 3.958595827430353 and parameters: {'x': 0.010377968701001494}. Best is trial 21 with value: 0.002387490537693688.\n",
      "[I 2024-03-28 17:31:02,906] Trial 44 finished with value: 0.05272930107962009 and parameters: {'x': 1.770371384449542}. Best is trial 21 with value: 0.002387490537693688.\n",
      "[I 2024-03-28 17:31:02,921] Trial 45 finished with value: 8.129307045049272 and parameters: {'x': 4.851193968331385}. Best is trial 21 with value: 0.002387490537693688.\n",
      "[I 2024-03-28 17:31:02,937] Trial 46 finished with value: 2.493726737774646 and parameters: {'x': 0.420846195655836}. Best is trial 21 with value: 0.002387490537693688.\n",
      "[I 2024-03-28 17:31:02,956] Trial 47 finished with value: 34.95503191809699 and parameters: {'x': -3.912278065018339}. Best is trial 21 with value: 0.002387490537693688.\n",
      "[I 2024-03-28 17:31:02,974] Trial 48 finished with value: 0.051270378752425565 and parameters: {'x': 1.7735703668853708}. Best is trial 21 with value: 0.002387490537693688.\n",
      "[I 2024-03-28 17:31:02,990] Trial 49 finished with value: 71.24693726697343 and parameters: {'x': -6.440790085470283}. Best is trial 21 with value: 0.002387490537693688.\n",
      "[I 2024-03-28 17:31:03,007] Trial 50 finished with value: 6.257082221359702 and parameters: {'x': -0.5014160432362509}. Best is trial 21 with value: 0.002387490537693688.\n",
      "[I 2024-03-28 17:31:03,026] Trial 51 finished with value: 1.508494183607639 and parameters: {'x': 3.228207711915065}. Best is trial 21 with value: 0.002387490537693688.\n",
      "[I 2024-03-28 17:31:03,043] Trial 52 finished with value: 0.03380310952728248 and parameters: {'x': 1.8161437802866531}. Best is trial 21 with value: 0.002387490537693688.\n",
      "[I 2024-03-28 17:31:03,057] Trial 53 finished with value: 1.7368382714450445 and parameters: {'x': 0.6821083992053654}. Best is trial 21 with value: 0.002387490537693688.\n",
      "[I 2024-03-28 17:31:03,076] Trial 54 finished with value: 5.057612417145188e-06 and parameters: {'x': 2.0022489136081996}. Best is trial 54 with value: 5.057612417145188e-06.\n",
      "[I 2024-03-28 17:31:03,093] Trial 55 finished with value: 1.6604389351358304 and parameters: {'x': 3.28858020128195}. Best is trial 54 with value: 5.057612417145188e-06.\n",
      "[I 2024-03-28 17:31:03,110] Trial 56 finished with value: 5.858211554550083 and parameters: {'x': 4.420374259190112}. Best is trial 54 with value: 5.057612417145188e-06.\n",
      "[I 2024-03-28 17:31:03,129] Trial 57 finished with value: 15.281165845497496 and parameters: {'x': -1.9091131789061178}. Best is trial 54 with value: 5.057612417145188e-06.\n",
      "[I 2024-03-28 17:31:03,147] Trial 58 finished with value: 16.04417523812548 and parameters: {'x': 6.00551809858918}. Best is trial 54 with value: 5.057612417145188e-06.\n",
      "[I 2024-03-28 17:31:03,168] Trial 59 finished with value: 0.050827185067421586 and parameters: {'x': 2.2254488524420153}. Best is trial 54 with value: 5.057612417145188e-06.\n",
      "[I 2024-03-28 17:31:03,184] Trial 60 finished with value: 6.230152628260044 and parameters: {'x': -0.4960273692930621}. Best is trial 54 with value: 5.057612417145188e-06.\n",
      "[I 2024-03-28 17:31:03,202] Trial 61 finished with value: 0.012551981276526448 and parameters: {'x': 2.112035625032962}. Best is trial 54 with value: 5.057612417145188e-06.\n",
      "[I 2024-03-28 17:31:03,216] Trial 62 finished with value: 1.30304214563987 and parameters: {'x': 0.8584912853421267}. Best is trial 54 with value: 5.057612417145188e-06.\n",
      "[I 2024-03-28 17:31:03,235] Trial 63 finished with value: 0.02983133051214639 and parameters: {'x': 2.1727174875689963}. Best is trial 54 with value: 5.057612417145188e-06.\n",
      "[I 2024-03-28 17:31:03,252] Trial 64 finished with value: 1.2068085995627504 and parameters: {'x': 3.098548405653001}. Best is trial 54 with value: 5.057612417145188e-06.\n",
      "[I 2024-03-28 17:31:03,265] Trial 65 finished with value: 1.55812491095194 and parameters: {'x': 0.7517512623872036}. Best is trial 54 with value: 5.057612417145188e-06.\n",
      "[I 2024-03-28 17:31:03,280] Trial 66 finished with value: 0.0449757698680612 and parameters: {'x': 2.2120749156974044}. Best is trial 54 with value: 5.057612417145188e-06.\n",
      "[I 2024-03-28 17:31:03,298] Trial 67 finished with value: 12.001328391502787 and parameters: {'x': 5.464293346629697}. Best is trial 54 with value: 5.057612417145188e-06.\n",
      "[I 2024-03-28 17:31:03,315] Trial 68 finished with value: 0.011285432104415658 and parameters: {'x': 2.106232914411757}. Best is trial 54 with value: 5.057612417145188e-06.\n",
      "[I 2024-03-28 17:31:03,329] Trial 69 finished with value: 23.2013748591223 and parameters: {'x': 6.816780549196974}. Best is trial 54 with value: 5.057612417145188e-06.\n",
      "[I 2024-03-28 17:31:03,346] Trial 70 finished with value: 6.458111642655268 and parameters: {'x': 4.541281496146239}. Best is trial 54 with value: 5.057612417145188e-06.\n",
      "[I 2024-03-28 17:31:03,361] Trial 71 finished with value: 0.0795077122240557 and parameters: {'x': 2.2819711194857653}. Best is trial 54 with value: 5.057612417145188e-06.\n",
      "[I 2024-03-28 17:31:03,376] Trial 72 finished with value: 0.683856711775486 and parameters: {'x': 1.1730437062483374}. Best is trial 54 with value: 5.057612417145188e-06.\n",
      "[I 2024-03-28 17:31:03,390] Trial 73 finished with value: 0.7830828375400187 and parameters: {'x': 2.884919678581067}. Best is trial 54 with value: 5.057612417145188e-06.\n",
      "[I 2024-03-28 17:31:03,405] Trial 74 finished with value: 0.041342227231484466 and parameters: {'x': 2.203327881097218}. Best is trial 54 with value: 5.057612417145188e-06.\n",
      "[I 2024-03-28 17:31:03,418] Trial 75 finished with value: 4.271208810420845 and parameters: {'x': -0.06669030346127203}. Best is trial 54 with value: 5.057612417145188e-06.\n",
      "[I 2024-03-28 17:31:03,435] Trial 76 finished with value: 2.2667122702497107 and parameters: {'x': 3.505560450546477}. Best is trial 54 with value: 5.057612417145188e-06.\n",
      "[I 2024-03-28 17:31:03,458] Trial 77 finished with value: 4.776918891797016 and parameters: {'x': 4.185616364277367}. Best is trial 54 with value: 5.057612417145188e-06.\n",
      "[I 2024-03-28 17:31:03,480] Trial 78 finished with value: 0.026565916514408875 and parameters: {'x': 2.1629905411807964}. Best is trial 54 with value: 5.057612417145188e-06.\n",
      "[I 2024-03-28 17:31:03,500] Trial 79 finished with value: 0.6893957074245609 and parameters: {'x': 1.169701434769058}. Best is trial 54 with value: 5.057612417145188e-06.\n",
      "[I 2024-03-28 17:31:03,517] Trial 80 finished with value: 2.851518600396351 and parameters: {'x': 0.31135598766455486}. Best is trial 54 with value: 5.057612417145188e-06.\n",
      "[I 2024-03-28 17:31:03,531] Trial 81 finished with value: 0.6574080000182736 and parameters: {'x': 2.810807005407744}. Best is trial 54 with value: 5.057612417145188e-06.\n",
      "[I 2024-03-28 17:31:03,548] Trial 82 finished with value: 0.0028726481201650756 and parameters: {'x': 2.0535970905942205}. Best is trial 54 with value: 5.057612417145188e-06.\n",
      "[I 2024-03-28 17:31:03,566] Trial 83 finished with value: 0.00832417926430773 and parameters: {'x': 1.9087630597602718}. Best is trial 54 with value: 5.057612417145188e-06.\n",
      "[I 2024-03-28 17:31:03,580] Trial 84 finished with value: 3.125214647696124 and parameters: {'x': 3.7678276634604755}. Best is trial 54 with value: 5.057612417145188e-06.\n",
      "[I 2024-03-28 17:31:03,594] Trial 85 finished with value: 0.4467989058461142 and parameters: {'x': 1.3315698197671546}. Best is trial 54 with value: 5.057612417145188e-06.\n",
      "[I 2024-03-28 17:31:03,608] Trial 86 finished with value: 0.8918059618266866 and parameters: {'x': 2.9443547859923656}. Best is trial 54 with value: 5.057612417145188e-06.\n",
      "[I 2024-03-28 17:31:03,621] Trial 87 finished with value: 4.0279428576168845 and parameters: {'x': -0.006973556780677681}. Best is trial 54 with value: 5.057612417145188e-06.\n",
      "[I 2024-03-28 17:31:03,635] Trial 88 finished with value: 0.0007508650417336308 and parameters: {'x': 1.972598083247086}. Best is trial 54 with value: 5.057612417145188e-06.\n",
      "[I 2024-03-28 17:31:03,647] Trial 89 finished with value: 8.897485667724482 and parameters: {'x': -0.9828653452216849}. Best is trial 54 with value: 5.057612417145188e-06.\n",
      "[I 2024-03-28 17:31:03,660] Trial 90 finished with value: 0.7806965176399155 and parameters: {'x': 1.1164296758944903}. Best is trial 54 with value: 5.057612417145188e-06.\n",
      "[I 2024-03-28 17:31:03,673] Trial 91 finished with value: 6.183743696186796e-05 and parameters: {'x': 2.007863678335351}. Best is trial 54 with value: 5.057612417145188e-06.\n",
      "[I 2024-03-28 17:31:03,686] Trial 92 finished with value: 0.04083557171509544 and parameters: {'x': 1.7979218673010475}. Best is trial 54 with value: 5.057612417145188e-06.\n",
      "[I 2024-03-28 17:31:03,699] Trial 93 finished with value: 0.316883685680459 and parameters: {'x': 2.562924227299251}. Best is trial 54 with value: 5.057612417145188e-06.\n",
      "[I 2024-03-28 17:31:03,711] Trial 94 finished with value: 1.3906528971450731 and parameters: {'x': 3.1792594698136085}. Best is trial 54 with value: 5.057612417145188e-06.\n",
      "[I 2024-03-28 17:31:03,725] Trial 95 finished with value: 1.4440608075585262 and parameters: {'x': 0.7983091880360713}. Best is trial 54 with value: 5.057612417145188e-06.\n",
      "[I 2024-03-28 17:31:03,738] Trial 96 finished with value: 2.781580595909091 and parameters: {'x': 3.667807121914609}. Best is trial 54 with value: 5.057612417145188e-06.\n",
      "[I 2024-03-28 17:31:03,751] Trial 97 finished with value: 0.0014917930248013027 and parameters: {'x': 2.038623736546343}. Best is trial 54 with value: 5.057612417145188e-06.\n",
      "[I 2024-03-28 17:31:03,765] Trial 98 finished with value: 2.551190045259934 and parameters: {'x': 0.40275548357180635}. Best is trial 54 with value: 5.057612417145188e-06.\n",
      "[I 2024-03-28 17:31:03,778] Trial 99 finished with value: 57.481984086229886 and parameters: {'x': 9.581687416810976}. Best is trial 54 with value: 5.057612417145188e-06.\n"
     ]
    },
    {
     "data": {
      "text/plain": [
       "{'x': 2.0022489136081996}"
      ]
     },
     "execution_count": 18,
     "metadata": {},
     "output_type": "execute_result"
    }
   ],
   "source": [
    "\"\"\"\n",
    "A simple optimization problem:\n",
    "\n",
    "- Define objective function to be optimized. Let's minimize (x - 2)^2\n",
    "- Suggest hyperparameter values using trial object. Here, a float value of x is suggested from -10 to 10\n",
    "- Create a study object and invoke the optimize method over 100 trials\n",
    "\"\"\"\n",
    "\n",
    "import optuna\n",
    "\n",
    "def objective(trial):\n",
    "    x = trial.suggest_uniform('x', -10, 10)\n",
    "    return (x - 2) ** 2\n",
    "\n",
    "study = optuna.create_study()\n",
    "study.optimize(objective, n_trials=100)\n",
    "\n",
    "study.best_params"
   ]
  },
  {
   "cell_type": "markdown",
   "metadata": {},
   "source": [
    "##### Procedure for optimizing sklearn parameters #####\n",
    "1. Wrap model training with an objective function and return accuracy\n",
    "2. Suggest hyperparameters using a trial object\n",
    "3. Create a study object and execute the optimization"
   ]
  },
  {
   "cell_type": "markdown",
   "metadata": {},
   "source": [
    "1. objective 함수를 만든다.\n",
    "    - 함수는 반드시 trial(실험횟수)이라는 parameter를 받아야함\n",
    "    - 실험했을 때, 성능을 return한다.\n",
    "    - \n",
    "2. hp 찾기\n",
    "3. study 객체를 통해 최적화"
   ]
  },
  {
   "cell_type": "code",
   "execution_count": 19,
   "metadata": {},
   "outputs": [
    {
     "name": "stderr",
     "output_type": "stream",
     "text": [
      "[I 2024-03-28 17:31:12,919] A new study created in memory with name: no-name-2d0cfba5-33e4-413e-b6ee-81495070fd46\n",
      "[I 2024-03-28 17:31:18,056] Trial 0 finished with value: 0.9844003855156271 and parameters: {'n_neighbors': 6, 'weights': 'distance'}. Best is trial 0 with value: 0.9844003855156271.\n",
      "[I 2024-03-28 17:31:20,828] Trial 1 finished with value: 0.9814401762357153 and parameters: {'n_neighbors': 9, 'weights': 'distance'}. Best is trial 0 with value: 0.9844003855156271.\n",
      "[I 2024-03-28 17:31:23,342] Trial 2 finished with value: 0.9829244114002478 and parameters: {'n_neighbors': 7, 'weights': 'uniform'}. Best is trial 0 with value: 0.9844003855156271.\n",
      "[I 2024-03-28 17:31:23,387] Trial 3 finished with value: 0.9806966818119236 and parameters: {'n_neighbors': 6, 'weights': 'uniform'}. Best is trial 0 with value: 0.9844003855156271.\n",
      "[I 2024-03-28 17:31:23,432] Trial 4 finished with value: 0.9844196612969848 and parameters: {'n_neighbors': 2, 'weights': 'distance'}. Best is trial 4 with value: 0.9844196612969848.\n",
      "[I 2024-03-28 17:31:23,478] Trial 5 finished with value: 0.9792124466473909 and parameters: {'n_neighbors': 10, 'weights': 'uniform'}. Best is trial 4 with value: 0.9844196612969848.\n",
      "[I 2024-03-28 17:31:23,523] Trial 6 finished with value: 0.9814401762357153 and parameters: {'n_neighbors': 9, 'weights': 'distance'}. Best is trial 4 with value: 0.9844196612969848.\n",
      "[I 2024-03-28 17:31:23,568] Trial 7 finished with value: 0.9792124466473909 and parameters: {'n_neighbors': 10, 'weights': 'uniform'}. Best is trial 4 with value: 0.9844196612969848.\n",
      "[I 2024-03-28 17:31:23,613] Trial 8 finished with value: 0.9792207076965441 and parameters: {'n_neighbors': 2, 'weights': 'uniform'}. Best is trial 4 with value: 0.9844196612969848.\n",
      "[I 2024-03-28 17:31:23,658] Trial 9 finished with value: 0.985892881729313 and parameters: {'n_neighbors': 3, 'weights': 'uniform'}. Best is trial 9 with value: 0.985892881729313.\n",
      "[I 2024-03-28 17:31:23,718] Trial 10 finished with value: 0.9836596447748864 and parameters: {'n_neighbors': 4, 'weights': 'uniform'}. Best is trial 9 with value: 0.985892881729313.\n",
      "[I 2024-03-28 17:31:23,780] Trial 11 finished with value: 0.9844196612969848 and parameters: {'n_neighbors': 1, 'weights': 'distance'}. Best is trial 9 with value: 0.985892881729313.\n"
     ]
    },
    {
     "name": "stdout",
     "output_type": "stream",
     "text": [
      "Best score: 0.985892881729313\n",
      "Best parameters: {'n_neighbors': 3, 'weights': 'uniform'}\n"
     ]
    }
   ],
   "source": [
    "from sklearn.model_selection import cross_val_score\n",
    "\n",
    "# 조절할 하이퍼 파라미터와 그 범위를 지정하는 함수 정의\n",
    "def objective(trial): \n",
    "    # optuna.trial.Trial.suggest_categorical() for categorical parameters 파라미터가 범주형일 때,\n",
    "    # optuna.trial.Trial.suggest_int() for integer parameters 파라미터가 정수일 때,\n",
    "    # optuna.trial.Trial.suggest_float() for floating point parameters  파라미터가 실수일 때,\n",
    "    knn_n_neighbors = trial.suggest_int('n_neighbors', 1, 10, step=1) # step : 건너뛰는 법\n",
    "    knn_weights = trial.suggest_categorical('weights', ['uniform','distance'])\n",
    "\n",
    "    classifier_obj = KNeighborsClassifier(\n",
    "        n_neighbors = knn_n_neighbors, \n",
    "        weights = knn_weights,    \n",
    "    )\n",
    "    \n",
    "    # objective 수정\n",
    "    #모델에 따라 hp지정하고 모델 부르기\n",
    "    # n_trial & direction 바꾸기\n",
    "\n",
    "    score = cross_val_score(classifier_obj, X_train, y_train, cv=5, n_jobs=-1)\n",
    "    accuracy = score.mean()\n",
    "    return accuracy\n",
    "\n",
    "# 최적화 실행                  # optuna.samplers.TPESampler(seed=100) : 옵튜나가 찾는 방식, # direction=\"maximize\" : 함수 값이 높으면 높을수록 좋다.\n",
    "study = optuna.create_study(sampler=optuna.samplers.TPESampler(seed=100), direction=\"maximize\")\n",
    "study.optimize(objective, n_trials=12) \n",
    "\n",
    "#최적화 결과 보기\n",
    "print(\"Best score:\", study.best_value)\n",
    "print(\"Best parameters:\", study.best_params)"
   ]
  },
  {
   "cell_type": "markdown",
   "metadata": {},
   "source": [
    "##### Plotting the optimization process #####"
   ]
  },
  {
   "cell_type": "code",
   "execution_count": null,
   "metadata": {},
   "outputs": [],
   "source": [
    "model = KNeighborsClassifier(**study.best_params)\n",
    "model.fit(X_train, y_train)\n",
    "model.score(X_test, y_test)"
   ]
  },
  {
   "cell_type": "code",
   "execution_count": null,
   "metadata": {},
   "outputs": [],
   "source": [
    "# 하이퍼파라미터 중요도\n",
    "#optuna.visualization.plot_param_importances(study)"
   ]
  },
  {
   "cell_type": "markdown",
   "metadata": {
    "colab_type": "text",
    "id": "Xi-_0qA6N5hZ"
   },
   "source": [
    "<font color=\"#CC3D3D\"><p>\n",
    "# End"
   ]
  }
 ],
 "metadata": {
  "colab": {
   "default_view": {},
   "name": "M3_code_02.ipynb",
   "provenance": [],
   "version": "0.3.2",
   "views": {}
  },
  "kernelspec": {
   "display_name": "vsjupy",
   "language": "python",
   "name": "vsjupy"
  },
  "language_info": {
   "codemirror_mode": {
    "name": "ipython",
    "version": 3
   },
   "file_extension": ".py",
   "mimetype": "text/x-python",
   "name": "python",
   "nbconvert_exporter": "python",
   "pygments_lexer": "ipython3",
   "version": "3.9.18"
  }
 },
 "nbformat": 4,
 "nbformat_minor": 4
}
